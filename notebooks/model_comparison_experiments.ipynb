{
 "cells": [
  {
   "cell_type": "markdown",
   "metadata": {},
   "source": [
    "# Сравнение моделей ResNet и EfficientNet\n",
    "\n",
    "Этот notebook содержит эксперименты по обучению и сравнению двух архитектур моделей с различными гиперпараметрами для классификации изображений коров, броненосцев и черепах.\n"
   ]
  },
  {
   "cell_type": "markdown",
   "metadata": {},
   "source": [
    "## 1. Импорты и настройка\n"
   ]
  },
  {
   "cell_type": "code",
   "execution_count": 25,
   "metadata": {},
   "outputs": [
    {
     "name": "stdout",
     "output_type": "stream",
     "text": [
      "Проект: /Users/konopsky/University/AI_new/fine_tune\n",
      "Модели: /Users/konopsky/University/AI_new/fine_tune/models\n",
      "Графики: /Users/konopsky/University/AI_new/fine_tune/reports/figures\n"
     ]
    }
   ],
   "source": [
    "import sys\n",
    "import os\n",
    "from pathlib import Path\n",
    "import json\n",
    "import time\n",
    "import pandas as pd\n",
    "import numpy as np\n",
    "import matplotlib.pyplot as plt\n",
    "import seaborn as sns\n",
    "from datetime import datetime\n",
    "import warnings\n",
    "warnings.filterwarnings('ignore')\n",
    "\n",
    "# Добавляем путь к проекту\n",
    "project_root = Path.cwd().parent\n",
    "sys.path.append(str(project_root))\n",
    "\n",
    "# Импорты из проекта\n",
    "from fine_tune.config import Config, MODELS_DIR, FIGURES_DIR, set_seed\n",
    "from fine_tune.modeling.train import Trainer\n",
    "from fine_tune.modeling.models import create_model\n",
    "\n",
    "# Настройка matplotlib\n",
    "plt.style.use('seaborn-v0_8')\n",
    "plt.rcParams['figure.figsize'] = (12, 8)\n",
    "plt.rcParams['font.size'] = 12\n",
    "\n",
    "print(f\"Проект: {project_root}\")\n",
    "print(f\"Модели: {MODELS_DIR}\")\n",
    "print(f\"Графики: {FIGURES_DIR}\")\n",
    "\n",
    "# Устанавливаем seed для воспроизводимости\n",
    "set_seed(42)\n"
   ]
  },
  {
   "cell_type": "markdown",
   "metadata": {},
   "source": [
    "## 2. Определение экспериментов\n"
   ]
  },
  {
   "cell_type": "code",
   "execution_count": 30,
   "metadata": {},
   "outputs": [
    {
     "name": "stdout",
     "output_type": "stream",
     "text": [
      "Количество экспериментов: 7\n",
      "Модели: ['resnet50.a1_in1k', 'efficientnet_b0.ra_in1k']\n",
      "Общее количество запусков: 14\n",
      "\n",
      "Детали экспериментов:\n",
      "  baseline: LR=0.001, Epochs=5, Optimizer=adamw, Frozen=True\n",
      "  high_lr: LR=0.01, Epochs=5, Optimizer=adamw, Frozen=True\n",
      "  low_lr: LR=0.0001, Epochs=8, Optimizer=adamw, Frozen=True\n",
      "  sgd_optimizer: LR=0.01, Epochs=5, Optimizer=sgd, Frozen=True\n",
      "  step_scheduler: LR=0.001, Epochs=8, Optimizer=adamw, Frozen=True\n",
      "  unfrozen_backbone: LR=0.0001, Epochs=5, Optimizer=adamw, Frozen=False\n",
      "  high_weight_decay: LR=0.001, Epochs=5, Optimizer=adamw, Frozen=True\n"
     ]
    }
   ],
   "source": [
    "# Определяем наборы гиперпараметров для экспериментов\n",
    "experiments = {\n",
    "    \"baseline\": {\n",
    "        \"epochs\": 5,\n",
    "        \"learning_rate\": 0.001,\n",
    "        \"optimizer\": \"adamw\",\n",
    "        \"scheduler\": \"cosine\",\n",
    "        \"freeze_backbone\": True\n",
    "    },\n",
    "    \"high_lr\": {\n",
    "        \"epochs\": 5,\n",
    "        \"learning_rate\": 0.01,\n",
    "        \"optimizer\": \"adamw\",\n",
    "        \"scheduler\": \"cosine\",\n",
    "        \"freeze_backbone\": True\n",
    "    },\n",
    "    \"low_lr\": {\n",
    "        \"epochs\": 8,\n",
    "        \"learning_rate\": 0.0001,\n",
    "        \"optimizer\": \"adamw\",\n",
    "        \"scheduler\": \"cosine\",\n",
    "        \"freeze_backbone\": True\n",
    "    },\n",
    "    \"sgd_optimizer\": {\n",
    "        \"epochs\": 5,\n",
    "        \"learning_rate\": 0.01,\n",
    "        \"optimizer\": \"sgd\",\n",
    "        \"scheduler\": \"step\",\n",
    "        \"freeze_backbone\": True\n",
    "    },\n",
    "    \"step_scheduler\": {\n",
    "        \"epochs\": 8,\n",
    "        \"learning_rate\": 0.001,\n",
    "        \"optimizer\": \"adamw\",\n",
    "        \"scheduler\": \"step\",\n",
    "        \"freeze_backbone\": True\n",
    "    },\n",
    "    \"unfrozen_backbone\": {\n",
    "        \"epochs\": 5,\n",
    "        \"learning_rate\": 0.0001,  # Меньший LR для размороженного backbone\n",
    "        \"optimizer\": \"adamw\",\n",
    "        \"scheduler\": \"cosine\",\n",
    "        \"freeze_backbone\": False\n",
    "    },\n",
    "    \"high_weight_decay\": {\n",
    "        \"epochs\": 5,\n",
    "        \"learning_rate\": 0.001,\n",
    "        \"optimizer\": \"adamw\",\n",
    "        \"scheduler\": \"cosine\",\n",
    "        \"freeze_backbone\": True\n",
    "    }\n",
    "}\n",
    "\n",
    "# Модели для сравнения (используем модели из конфигурации)\n",
    "models = [\"resnet50.a1_in1k\", \"efficientnet_b0.ra_in1k\"]\n",
    "\n",
    "print(f\"Количество экспериментов: {len(experiments)}\")\n",
    "print(f\"Модели: {models}\")\n",
    "print(f\"Общее количество запусков: {len(experiments) * len(models)}\")\n",
    "\n",
    "# Показываем детали экспериментов\n",
    "print(\"\\nДетали экспериментов:\")\n",
    "for exp_name, exp_config in experiments.items():\n",
    "    print(f\"  {exp_name}: LR={exp_config['learning_rate']}, \"\n",
    "          f\"Epochs={exp_config['epochs']}, \"\n",
    "          f\"Optimizer={exp_config['optimizer']}, \"\n",
    "          f\"Frozen={exp_config['freeze_backbone']}\")\n"
   ]
  },
  {
   "cell_type": "markdown",
   "metadata": {},
   "source": [
    "## 3. Функция для запуска одного эксперимента\n"
   ]
  },
  {
   "cell_type": "code",
   "execution_count": 27,
   "metadata": {},
   "outputs": [],
   "source": [
    "def run_experiment(model_name: str, exp_name: str, exp_config: dict) -> dict:\n",
    "    \"\"\"\n",
    "    Запускает один эксперимент обучения модели.\n",
    "    \n",
    "    Args:\n",
    "        model_name: Название модели\n",
    "        exp_name: Название эксперимента\n",
    "        exp_config: Конфигурация эксперимента\n",
    "    \n",
    "    Returns:\n",
    "        Словарь с результатами эксперимента\n",
    "    \"\"\"\n",
    "    print(f\"\\n{'='*60}\")\n",
    "    print(f\"Эксперимент: {exp_name} | Модель: {model_name}\")\n",
    "    print(f\"{'='*60}\")\n",
    "    \n",
    "    # Создаем уникальное имя для сохранения\n",
    "    timestamp = datetime.now().strftime(\"%Y%m%d_%H%M%S\")\n",
    "    save_name = f\"{model_name.replace('.', '_')}_{exp_name}_{timestamp}\"\n",
    "    \n",
    "    try:\n",
    "        # Создаем базовую конфигурацию\n",
    "        config = Config()\n",
    "        \n",
    "        # Обновляем конфигурацию параметрами эксперимента\n",
    "        config.training.epochs = exp_config.get('epochs', 5)\n",
    "        config.training.learning_rate = exp_config.get('learning_rate', 0.001)\n",
    "        config.training.optimizer = exp_config.get('optimizer', 'adamw')\n",
    "        config.training.scheduler = exp_config.get('scheduler', 'cosine')\n",
    "        config.training.weight_decay = exp_config.get('weight_decay', 1e-4)\n",
    "        \n",
    "        # Параметры для SGD\n",
    "        if 'momentum' in exp_config:\n",
    "            config.training.momentum = exp_config['momentum']\n",
    "        \n",
    "        # Параметры для step scheduler\n",
    "        if 'step_size' in exp_config:\n",
    "            config.training.step_size = exp_config['step_size']\n",
    "        if 'gamma' in exp_config:\n",
    "            config.training.gamma = exp_config['gamma']\n",
    "        \n",
    "        # Настройки модели\n",
    "        config.model.model_names = [model_name]\n",
    "        config.model.freeze_backbone = exp_config.get('freeze_backbone', True)\n",
    "        \n",
    "        # Настройки эксперимента\n",
    "        config.experiment.seed = 42\n",
    "        \n",
    "        # Создаем директорию для экспериментов\n",
    "        experiments_dir = MODELS_DIR / \"experiments\"\n",
    "        experiments_dir.mkdir(exist_ok=True)\n",
    "        \n",
    "        # Импортируем функцию создания data loaders\n",
    "        from fine_tune.dataset import create_data_loaders\n",
    "        \n",
    "        # Создаем data loaders\n",
    "        train_loader, val_loader, test_loader = create_data_loaders(\n",
    "            data_config=config.data,\n",
    "            aug_config=config.augmentation,\n",
    "            seed=config.experiment.seed\n",
    "        )\n",
    "        \n",
    "        # Создаем тренер\n",
    "        trainer = Trainer(config)\n",
    "        \n",
    "        # Настраиваем модель\n",
    "        model = trainer.setup_model(model_name)\n",
    "        \n",
    "        # Настраиваем оптимизатор, планировщик и функцию потерь\n",
    "        trainer.setup_optimizer_and_scheduler()\n",
    "        \n",
    "        # Обучаем модель\n",
    "        trainer.train(train_loader, val_loader, model_name)\n",
    "        \n",
    "        # Собираем результаты\n",
    "        results = {\n",
    "            \"model_name\": model_name,\n",
    "            \"experiment_name\": exp_name,\n",
    "            \"config\": exp_config,\n",
    "            \"best_val_acc\": trainer.best_val_acc,\n",
    "            \"final_train_acc\": trainer.training_history[-1]['train_acc'] if trainer.training_history else 0,\n",
    "            \"final_val_acc\": trainer.training_history[-1]['val_acc'] if trainer.training_history else 0,\n",
    "            \"final_train_loss\": trainer.training_history[-1]['train_loss'] if trainer.training_history else 0,\n",
    "            \"final_val_loss\": trainer.training_history[-1]['val_loss'] if trainer.training_history else 0,\n",
    "            \"history\": {\n",
    "                'train_acc': [h['train_acc'] for h in trainer.training_history],\n",
    "                'val_acc': [h['val_acc'] for h in trainer.training_history],\n",
    "                'train_loss': [h['train_loss'] for h in trainer.training_history],\n",
    "                'val_loss': [h['val_loss'] for h in trainer.training_history],\n",
    "                'lr': [h['lr'] for h in trainer.training_history]\n",
    "            },\n",
    "            \"timestamp\": timestamp,\n",
    "            \"status\": \"success\",\n",
    "            \"save_name\": save_name\n",
    "        }\n",
    "        \n",
    "        print(f\"✅ Успешно завершен! Лучшая точность: {trainer.best_val_acc:.4f}\")\n",
    "        \n",
    "    except Exception as e:\n",
    "        print(f\"❌ Ошибка: {str(e)}\")\n",
    "        import traceback\n",
    "        print(f\"Детали ошибки: {traceback.format_exc()}\")\n",
    "        results = {\n",
    "            \"model_name\": model_name,\n",
    "            \"experiment_name\": exp_name,\n",
    "            \"config\": exp_config,\n",
    "            \"error\": str(e),\n",
    "            \"timestamp\": timestamp,\n",
    "            \"status\": \"failed\",\n",
    "            \"save_name\": save_name\n",
    "        }\n",
    "    \n",
    "    return results\n"
   ]
  },
  {
   "cell_type": "markdown",
   "metadata": {},
   "source": [
    "## 5. Запуск всех экспериментов\n"
   ]
  },
  {
   "cell_type": "code",
   "execution_count": 31,
   "metadata": {},
   "outputs": [
    {
     "name": "stdout",
     "output_type": "stream",
     "text": [
      "🚀 Запуск всех экспериментов...\n",
      "Это может занять некоторое время...\n",
      "Будет выполнено 14 экспериментов\n",
      "\n",
      "============================================================\n",
      "Эксперимент: baseline | Модель: resnet50.a1_in1k\n",
      "============================================================\n",
      "\u001B[32m2025-09-27 10:07:25.159\u001B[0m | \u001B[1mINFO    \u001B[0m | \u001B[36mfine_tune.dataset\u001B[0m:\u001B[36m__init__\u001B[0m:\u001B[36m48\u001B[0m - \u001B[1mЗагружено 92 образцов из 3 классов\u001B[0m\n",
      "\u001B[32m2025-09-27 10:07:25.159\u001B[0m | \u001B[1mINFO    \u001B[0m | \u001B[36mfine_tune.dataset\u001B[0m:\u001B[36mcreate_data_loaders\u001B[0m:\u001B[36m220\u001B[0m - \u001B[1mСозданы DataLoader'ы:\u001B[0m\n",
      "\u001B[32m2025-09-27 10:07:25.159\u001B[0m | \u001B[1mINFO    \u001B[0m | \u001B[36mfine_tune.dataset\u001B[0m:\u001B[36mcreate_data_loaders\u001B[0m:\u001B[36m221\u001B[0m - \u001B[1m  Train: 2 батчей (73 образцов)\u001B[0m\n",
      "\u001B[32m2025-09-27 10:07:25.160\u001B[0m | \u001B[1mINFO    \u001B[0m | \u001B[36mfine_tune.dataset\u001B[0m:\u001B[36mcreate_data_loaders\u001B[0m:\u001B[36m222\u001B[0m - \u001B[1m  Val: 1 батчей (9 образцов)\u001B[0m\n",
      "\u001B[32m2025-09-27 10:07:25.160\u001B[0m | \u001B[1mINFO    \u001B[0m | \u001B[36mfine_tune.dataset\u001B[0m:\u001B[36mcreate_data_loaders\u001B[0m:\u001B[36m223\u001B[0m - \u001B[1m  Test: 1 батчей (10 образцов)\u001B[0m\n",
      "\u001B[32m2025-09-27 10:07:25.160\u001B[0m | \u001B[1mINFO    \u001B[0m | \u001B[36mfine_tune.modeling.train\u001B[0m:\u001B[36m__init__\u001B[0m:\u001B[36m51\u001B[0m - \u001B[1mИспользуется устройство: cpu\u001B[0m\n",
      "\u001B[32m2025-09-27 10:07:25.160\u001B[0m | \u001B[1mINFO    \u001B[0m | \u001B[36mfine_tune.modeling.train\u001B[0m:\u001B[36msetup_model\u001B[0m:\u001B[36m81\u001B[0m - \u001B[1mСоздаем модель: resnet50.a1_in1k\u001B[0m\n",
      "\u001B[32m2025-09-27 10:07:25.752\u001B[0m | \u001B[1mINFO    \u001B[0m | \u001B[36mfine_tune.modeling.models\u001B[0m:\u001B[36m__init__\u001B[0m:\u001B[36m37\u001B[0m - \u001B[1mBackbone модели resnet50.a1_in1k заморожен\u001B[0m\n",
      "\u001B[32m2025-09-27 10:07:25.753\u001B[0m | \u001B[1mINFO    \u001B[0m | \u001B[36mfine_tune.modeling.models\u001B[0m:\u001B[36m__init__\u001B[0m:\u001B[36m94\u001B[0m - \u001B[1mСоздана ResNet модель: resnet50.a1_in1k\u001B[0m\n",
      "\u001B[32m2025-09-27 10:07:25.754\u001B[0m | \u001B[1mINFO    \u001B[0m | \u001B[36mfine_tune.modeling.models\u001B[0m:\u001B[36mprint_model_summary\u001B[0m:\u001B[36m181\u001B[0m - \u001B[1m==================================================\u001B[0m\n",
      "\u001B[32m2025-09-27 10:07:25.754\u001B[0m | \u001B[1mINFO    \u001B[0m | \u001B[36mfine_tune.modeling.models\u001B[0m:\u001B[36mprint_model_summary\u001B[0m:\u001B[36m182\u001B[0m - \u001B[1mСВОДКА МОДЕЛИ\u001B[0m\n",
      "\u001B[32m2025-09-27 10:07:25.754\u001B[0m | \u001B[1mINFO    \u001B[0m | \u001B[36mfine_tune.modeling.models\u001B[0m:\u001B[36mprint_model_summary\u001B[0m:\u001B[36m183\u001B[0m - \u001B[1m==================================================\u001B[0m\n",
      "\u001B[32m2025-09-27 10:07:25.754\u001B[0m | \u001B[1mINFO    \u001B[0m | \u001B[36mfine_tune.modeling.models\u001B[0m:\u001B[36mprint_model_summary\u001B[0m:\u001B[36m184\u001B[0m - \u001B[1mАрхитектура: resnet50.a1_in1k\u001B[0m\n",
      "\u001B[32m2025-09-27 10:07:25.754\u001B[0m | \u001B[1mINFO    \u001B[0m | \u001B[36mfine_tune.modeling.models\u001B[0m:\u001B[36mprint_model_summary\u001B[0m:\u001B[36m185\u001B[0m - \u001B[1mВходной размер: (3, 224, 224)\u001B[0m\n",
      "\u001B[32m2025-09-27 10:07:25.754\u001B[0m | \u001B[1mINFO    \u001B[0m | \u001B[36mfine_tune.modeling.models\u001B[0m:\u001B[36mprint_model_summary\u001B[0m:\u001B[36m186\u001B[0m - \u001B[1mКоличество классов: 3\u001B[0m\n",
      "\u001B[32m2025-09-27 10:07:25.754\u001B[0m | \u001B[1mINFO    \u001B[0m | \u001B[36mfine_tune.modeling.models\u001B[0m:\u001B[36mprint_model_summary\u001B[0m:\u001B[36m187\u001B[0m - \u001B[1mВсего параметров: 23,514,179\u001B[0m\n",
      "\u001B[32m2025-09-27 10:07:25.754\u001B[0m | \u001B[1mINFO    \u001B[0m | \u001B[36mfine_tune.modeling.models\u001B[0m:\u001B[36mprint_model_summary\u001B[0m:\u001B[36m188\u001B[0m - \u001B[1mОбучаемых параметров: 6,147\u001B[0m\n",
      "\u001B[32m2025-09-27 10:07:25.754\u001B[0m | \u001B[1mINFO    \u001B[0m | \u001B[36mfine_tune.modeling.models\u001B[0m:\u001B[36mprint_model_summary\u001B[0m:\u001B[36m189\u001B[0m - \u001B[1mЗамороженных параметров: 23,508,032\u001B[0m\n",
      "\u001B[32m2025-09-27 10:07:25.754\u001B[0m | \u001B[1mINFO    \u001B[0m | \u001B[36mfine_tune.modeling.models\u001B[0m:\u001B[36mprint_model_summary\u001B[0m:\u001B[36m190\u001B[0m - \u001B[1mПроцент обучаемых: 0.03%\u001B[0m\n",
      "\u001B[32m2025-09-27 10:07:25.754\u001B[0m | \u001B[1mINFO    \u001B[0m | \u001B[36mfine_tune.modeling.models\u001B[0m:\u001B[36mprint_model_summary\u001B[0m:\u001B[36m191\u001B[0m - \u001B[1m==================================================\u001B[0m\n",
      "\u001B[32m2025-09-27 10:07:25.755\u001B[0m | \u001B[1mINFO    \u001B[0m | \u001B[36mfine_tune.modeling.train\u001B[0m:\u001B[36msetup_optimizer_and_scheduler\u001B[0m:\u001B[36m143\u001B[0m - \u001B[1mОптимизатор: adamw\u001B[0m\n",
      "\u001B[32m2025-09-27 10:07:25.755\u001B[0m | \u001B[1mINFO    \u001B[0m | \u001B[36mfine_tune.modeling.train\u001B[0m:\u001B[36msetup_optimizer_and_scheduler\u001B[0m:\u001B[36m144\u001B[0m - \u001B[1mПланировщик: cosine\u001B[0m\n",
      "\u001B[32m2025-09-27 10:07:25.755\u001B[0m | \u001B[1mINFO    \u001B[0m | \u001B[36mfine_tune.modeling.train\u001B[0m:\u001B[36mtrain\u001B[0m:\u001B[36m232\u001B[0m - \u001B[1mНачинаем обучение модели resnet50.a1_in1k\u001B[0m\n",
      "\u001B[32m2025-09-27 10:07:25.755\u001B[0m | \u001B[1mINFO    \u001B[0m | \u001B[36mfine_tune.modeling.train\u001B[0m:\u001B[36mtrain\u001B[0m:\u001B[36m233\u001B[0m - \u001B[1mЭпох: 5\u001B[0m\n",
      "\u001B[32m2025-09-27 10:07:25.755\u001B[0m | \u001B[1mINFO    \u001B[0m | \u001B[36mfine_tune.modeling.train\u001B[0m:\u001B[36mtrain\u001B[0m:\u001B[36m234\u001B[0m - \u001B[1mРазмер батча: 32\u001B[0m\n",
      "\u001B[32m2025-09-27 10:07:25.755\u001B[0m | \u001B[1mINFO    \u001B[0m | \u001B[36mfine_tune.modeling.train\u001B[0m:\u001B[36mtrain\u001B[0m:\u001B[36m235\u001B[0m - \u001B[1mLearning rate: 0.001\u001B[0m\n"
     ]
    },
    {
     "name": "stderr",
     "output_type": "stream",
     "text": [
      "                                                                                 \r"
     ]
    },
    {
     "name": "stdout",
     "output_type": "stream",
     "text": [
      "\u001B[32m2025-09-27 10:07:48.050\u001B[0m | \u001B[1mINFO    \u001B[0m | \u001B[36mfine_tune.modeling.train\u001B[0m:\u001B[36mtrain\u001B[0m:\u001B[36m271\u001B[0m - \u001B[1mEpoch 1/5 - Train Loss: 1.0859, Train Acc: 0.3750 - Val Loss: 1.0352, Val Acc: 0.5556 - LR: 0.000905 - Time: 22.29s\u001B[0m\n"
     ]
    },
    {
     "name": "stderr",
     "output_type": "stream",
     "text": [
      "                                                                                 \r"
     ]
    },
    {
     "name": "stdout",
     "output_type": "stream",
     "text": [
      "\u001B[32m2025-09-27 10:08:10.363\u001B[0m | \u001B[1mINFO    \u001B[0m | \u001B[36mfine_tune.modeling.train\u001B[0m:\u001B[36mtrain\u001B[0m:\u001B[36m271\u001B[0m - \u001B[1mEpoch 2/5 - Train Loss: 1.0384, Train Acc: 0.4219 - Val Loss: 0.9998, Val Acc: 0.7778 - LR: 0.000655 - Time: 22.31s\u001B[0m\n"
     ]
    },
    {
     "name": "stderr",
     "output_type": "stream",
     "text": [
      "                                                                                 \r"
     ]
    },
    {
     "name": "stdout",
     "output_type": "stream",
     "text": [
      "\u001B[32m2025-09-27 10:08:32.672\u001B[0m | \u001B[1mINFO    \u001B[0m | \u001B[36mfine_tune.modeling.train\u001B[0m:\u001B[36mtrain\u001B[0m:\u001B[36m271\u001B[0m - \u001B[1mEpoch 3/5 - Train Loss: 0.9963, Train Acc: 0.5469 - Val Loss: 0.9842, Val Acc: 0.7778 - LR: 0.000345 - Time: 22.31s\u001B[0m\n"
     ]
    },
    {
     "name": "stderr",
     "output_type": "stream",
     "text": [
      "                                                                                 \r"
     ]
    },
    {
     "name": "stdout",
     "output_type": "stream",
     "text": [
      "\u001B[32m2025-09-27 10:08:55.808\u001B[0m | \u001B[1mINFO    \u001B[0m | \u001B[36mfine_tune.modeling.train\u001B[0m:\u001B[36mtrain\u001B[0m:\u001B[36m271\u001B[0m - \u001B[1mEpoch 4/5 - Train Loss: 0.9593, Train Acc: 0.6562 - Val Loss: 0.9740, Val Acc: 0.6667 - LR: 0.000095 - Time: 23.13s\u001B[0m\n"
     ]
    },
    {
     "name": "stderr",
     "output_type": "stream",
     "text": [
      "                                                                                 \r"
     ]
    },
    {
     "name": "stdout",
     "output_type": "stream",
     "text": [
      "\u001B[32m2025-09-27 10:09:18.597\u001B[0m | \u001B[1mINFO    \u001B[0m | \u001B[36mfine_tune.modeling.train\u001B[0m:\u001B[36mtrain\u001B[0m:\u001B[36m271\u001B[0m - \u001B[1mEpoch 5/5 - Train Loss: 0.9647, Train Acc: 0.6094 - Val Loss: 0.9724, Val Acc: 0.6667 - LR: 0.000000 - Time: 22.79s\u001B[0m\n",
      "\u001B[32m2025-09-27 10:09:18.671\u001B[0m | \u001B[1mINFO    \u001B[0m | \u001B[36mfine_tune.modeling.train\u001B[0m:\u001B[36msave_checkpoint\u001B[0m:\u001B[36m326\u001B[0m - \u001B[1mЧекпоинт сохранен: /Users/konopsky/University/AI_new/fine_tune/models/resnet50.a1_in1k_epoch_5.pth\u001B[0m\n",
      "\u001B[32m2025-09-27 10:09:18.671\u001B[0m | \u001B[1mINFO    \u001B[0m | \u001B[36mfine_tune.modeling.train\u001B[0m:\u001B[36mtrain\u001B[0m:\u001B[36m298\u001B[0m - \u001B[1mОбучение завершено за 112.92 секунд\u001B[0m\n",
      "\u001B[32m2025-09-27 10:09:18.671\u001B[0m | \u001B[1mINFO    \u001B[0m | \u001B[36mfine_tune.modeling.train\u001B[0m:\u001B[36mtrain\u001B[0m:\u001B[36m299\u001B[0m - \u001B[1mЛучшая точность валидации: 0.7778\u001B[0m\n",
      "✅ Успешно завершен! Лучшая точность: 0.7778\n",
      "\n",
      "============================================================\n",
      "Эксперимент: high_lr | Модель: resnet50.a1_in1k\n",
      "============================================================\n",
      "\u001B[32m2025-09-27 10:09:19.698\u001B[0m | \u001B[1mINFO    \u001B[0m | \u001B[36mfine_tune.dataset\u001B[0m:\u001B[36m__init__\u001B[0m:\u001B[36m48\u001B[0m - \u001B[1mЗагружено 92 образцов из 3 классов\u001B[0m\n",
      "\u001B[32m2025-09-27 10:09:19.698\u001B[0m | \u001B[1mINFO    \u001B[0m | \u001B[36mfine_tune.dataset\u001B[0m:\u001B[36mcreate_data_loaders\u001B[0m:\u001B[36m220\u001B[0m - \u001B[1mСозданы DataLoader'ы:\u001B[0m\n",
      "\u001B[32m2025-09-27 10:09:19.698\u001B[0m | \u001B[1mINFO    \u001B[0m | \u001B[36mfine_tune.dataset\u001B[0m:\u001B[36mcreate_data_loaders\u001B[0m:\u001B[36m221\u001B[0m - \u001B[1m  Train: 2 батчей (73 образцов)\u001B[0m\n",
      "\u001B[32m2025-09-27 10:09:19.698\u001B[0m | \u001B[1mINFO    \u001B[0m | \u001B[36mfine_tune.dataset\u001B[0m:\u001B[36mcreate_data_loaders\u001B[0m:\u001B[36m222\u001B[0m - \u001B[1m  Val: 1 батчей (9 образцов)\u001B[0m\n",
      "\u001B[32m2025-09-27 10:09:19.699\u001B[0m | \u001B[1mINFO    \u001B[0m | \u001B[36mfine_tune.dataset\u001B[0m:\u001B[36mcreate_data_loaders\u001B[0m:\u001B[36m223\u001B[0m - \u001B[1m  Test: 1 батчей (10 образцов)\u001B[0m\n",
      "\u001B[32m2025-09-27 10:09:19.699\u001B[0m | \u001B[1mINFO    \u001B[0m | \u001B[36mfine_tune.modeling.train\u001B[0m:\u001B[36m__init__\u001B[0m:\u001B[36m51\u001B[0m - \u001B[1mИспользуется устройство: cpu\u001B[0m\n",
      "\u001B[32m2025-09-27 10:09:19.700\u001B[0m | \u001B[1mINFO    \u001B[0m | \u001B[36mfine_tune.modeling.train\u001B[0m:\u001B[36msetup_model\u001B[0m:\u001B[36m81\u001B[0m - \u001B[1mСоздаем модель: resnet50.a1_in1k\u001B[0m\n",
      "\u001B[32m2025-09-27 10:09:20.244\u001B[0m | \u001B[1mINFO    \u001B[0m | \u001B[36mfine_tune.modeling.models\u001B[0m:\u001B[36m__init__\u001B[0m:\u001B[36m37\u001B[0m - \u001B[1mBackbone модели resnet50.a1_in1k заморожен\u001B[0m\n",
      "\u001B[32m2025-09-27 10:09:20.244\u001B[0m | \u001B[1mINFO    \u001B[0m | \u001B[36mfine_tune.modeling.models\u001B[0m:\u001B[36m__init__\u001B[0m:\u001B[36m94\u001B[0m - \u001B[1mСоздана ResNet модель: resnet50.a1_in1k\u001B[0m\n",
      "\u001B[32m2025-09-27 10:09:20.246\u001B[0m | \u001B[1mINFO    \u001B[0m | \u001B[36mfine_tune.modeling.models\u001B[0m:\u001B[36mprint_model_summary\u001B[0m:\u001B[36m181\u001B[0m - \u001B[1m==================================================\u001B[0m\n",
      "\u001B[32m2025-09-27 10:09:20.246\u001B[0m | \u001B[1mINFO    \u001B[0m | \u001B[36mfine_tune.modeling.models\u001B[0m:\u001B[36mprint_model_summary\u001B[0m:\u001B[36m182\u001B[0m - \u001B[1mСВОДКА МОДЕЛИ\u001B[0m\n",
      "\u001B[32m2025-09-27 10:09:20.246\u001B[0m | \u001B[1mINFO    \u001B[0m | \u001B[36mfine_tune.modeling.models\u001B[0m:\u001B[36mprint_model_summary\u001B[0m:\u001B[36m183\u001B[0m - \u001B[1m==================================================\u001B[0m\n",
      "\u001B[32m2025-09-27 10:09:20.246\u001B[0m | \u001B[1mINFO    \u001B[0m | \u001B[36mfine_tune.modeling.models\u001B[0m:\u001B[36mprint_model_summary\u001B[0m:\u001B[36m184\u001B[0m - \u001B[1mАрхитектура: resnet50.a1_in1k\u001B[0m\n",
      "\u001B[32m2025-09-27 10:09:20.246\u001B[0m | \u001B[1mINFO    \u001B[0m | \u001B[36mfine_tune.modeling.models\u001B[0m:\u001B[36mprint_model_summary\u001B[0m:\u001B[36m185\u001B[0m - \u001B[1mВходной размер: (3, 224, 224)\u001B[0m\n",
      "\u001B[32m2025-09-27 10:09:20.246\u001B[0m | \u001B[1mINFO    \u001B[0m | \u001B[36mfine_tune.modeling.models\u001B[0m:\u001B[36mprint_model_summary\u001B[0m:\u001B[36m186\u001B[0m - \u001B[1mКоличество классов: 3\u001B[0m\n",
      "\u001B[32m2025-09-27 10:09:20.246\u001B[0m | \u001B[1mINFO    \u001B[0m | \u001B[36mfine_tune.modeling.models\u001B[0m:\u001B[36mprint_model_summary\u001B[0m:\u001B[36m187\u001B[0m - \u001B[1mВсего параметров: 23,514,179\u001B[0m\n",
      "\u001B[32m2025-09-27 10:09:20.246\u001B[0m | \u001B[1mINFO    \u001B[0m | \u001B[36mfine_tune.modeling.models\u001B[0m:\u001B[36mprint_model_summary\u001B[0m:\u001B[36m188\u001B[0m - \u001B[1mОбучаемых параметров: 6,147\u001B[0m\n",
      "\u001B[32m2025-09-27 10:09:20.246\u001B[0m | \u001B[1mINFO    \u001B[0m | \u001B[36mfine_tune.modeling.models\u001B[0m:\u001B[36mprint_model_summary\u001B[0m:\u001B[36m189\u001B[0m - \u001B[1mЗамороженных параметров: 23,508,032\u001B[0m\n",
      "\u001B[32m2025-09-27 10:09:20.246\u001B[0m | \u001B[1mINFO    \u001B[0m | \u001B[36mfine_tune.modeling.models\u001B[0m:\u001B[36mprint_model_summary\u001B[0m:\u001B[36m190\u001B[0m - \u001B[1mПроцент обучаемых: 0.03%\u001B[0m\n",
      "\u001B[32m2025-09-27 10:09:20.246\u001B[0m | \u001B[1mINFO    \u001B[0m | \u001B[36mfine_tune.modeling.models\u001B[0m:\u001B[36mprint_model_summary\u001B[0m:\u001B[36m191\u001B[0m - \u001B[1m==================================================\u001B[0m\n",
      "\u001B[32m2025-09-27 10:09:20.246\u001B[0m | \u001B[1mINFO    \u001B[0m | \u001B[36mfine_tune.modeling.train\u001B[0m:\u001B[36msetup_optimizer_and_scheduler\u001B[0m:\u001B[36m143\u001B[0m - \u001B[1mОптимизатор: adamw\u001B[0m\n",
      "\u001B[32m2025-09-27 10:09:20.246\u001B[0m | \u001B[1mINFO    \u001B[0m | \u001B[36mfine_tune.modeling.train\u001B[0m:\u001B[36msetup_optimizer_and_scheduler\u001B[0m:\u001B[36m144\u001B[0m - \u001B[1mПланировщик: cosine\u001B[0m\n",
      "\u001B[32m2025-09-27 10:09:20.246\u001B[0m | \u001B[1mINFO    \u001B[0m | \u001B[36mfine_tune.modeling.train\u001B[0m:\u001B[36mtrain\u001B[0m:\u001B[36m232\u001B[0m - \u001B[1mНачинаем обучение модели resnet50.a1_in1k\u001B[0m\n",
      "\u001B[32m2025-09-27 10:09:20.246\u001B[0m | \u001B[1mINFO    \u001B[0m | \u001B[36mfine_tune.modeling.train\u001B[0m:\u001B[36mtrain\u001B[0m:\u001B[36m233\u001B[0m - \u001B[1mЭпох: 5\u001B[0m\n",
      "\u001B[32m2025-09-27 10:09:20.246\u001B[0m | \u001B[1mINFO    \u001B[0m | \u001B[36mfine_tune.modeling.train\u001B[0m:\u001B[36mtrain\u001B[0m:\u001B[36m234\u001B[0m - \u001B[1mРазмер батча: 32\u001B[0m\n",
      "\u001B[32m2025-09-27 10:09:20.246\u001B[0m | \u001B[1mINFO    \u001B[0m | \u001B[36mfine_tune.modeling.train\u001B[0m:\u001B[36mtrain\u001B[0m:\u001B[36m235\u001B[0m - \u001B[1mLearning rate: 0.01\u001B[0m\n"
     ]
    },
    {
     "name": "stderr",
     "output_type": "stream",
     "text": [
      "                                                                                 \r"
     ]
    },
    {
     "name": "stdout",
     "output_type": "stream",
     "text": [
      "\u001B[32m2025-09-27 10:09:42.678\u001B[0m | \u001B[1mINFO    \u001B[0m | \u001B[36mfine_tune.modeling.train\u001B[0m:\u001B[36mtrain\u001B[0m:\u001B[36m271\u001B[0m - \u001B[1mEpoch 1/5 - Train Loss: 1.1155, Train Acc: 0.2812 - Val Loss: 0.6827, Val Acc: 1.0000 - LR: 0.009045 - Time: 22.43s\u001B[0m\n"
     ]
    },
    {
     "name": "stderr",
     "output_type": "stream",
     "text": [
      "                                                                                 \r"
     ]
    },
    {
     "name": "stdout",
     "output_type": "stream",
     "text": [
      "\u001B[32m2025-09-27 10:10:04.958\u001B[0m | \u001B[1mINFO    \u001B[0m | \u001B[36mfine_tune.modeling.train\u001B[0m:\u001B[36mtrain\u001B[0m:\u001B[36m271\u001B[0m - \u001B[1mEpoch 2/5 - Train Loss: 0.6429, Train Acc: 0.8594 - Val Loss: 0.5120, Val Acc: 1.0000 - LR: 0.006545 - Time: 22.28s\u001B[0m\n"
     ]
    },
    {
     "name": "stderr",
     "output_type": "stream",
     "text": [
      "                                                                                 \r"
     ]
    },
    {
     "name": "stdout",
     "output_type": "stream",
     "text": [
      "\u001B[32m2025-09-27 10:10:27.601\u001B[0m | \u001B[1mINFO    \u001B[0m | \u001B[36mfine_tune.modeling.train\u001B[0m:\u001B[36mtrain\u001B[0m:\u001B[36m271\u001B[0m - \u001B[1mEpoch 3/5 - Train Loss: 0.5191, Train Acc: 0.9219 - Val Loss: 0.4267, Val Acc: 1.0000 - LR: 0.003455 - Time: 22.64s\u001B[0m\n"
     ]
    },
    {
     "name": "stderr",
     "output_type": "stream",
     "text": [
      "                                                                                 \r"
     ]
    },
    {
     "name": "stdout",
     "output_type": "stream",
     "text": [
      "\u001B[32m2025-09-27 10:10:49.841\u001B[0m | \u001B[1mINFO    \u001B[0m | \u001B[36mfine_tune.modeling.train\u001B[0m:\u001B[36mtrain\u001B[0m:\u001B[36m271\u001B[0m - \u001B[1mEpoch 4/5 - Train Loss: 0.3761, Train Acc: 0.9531 - Val Loss: 0.3812, Val Acc: 1.0000 - LR: 0.000955 - Time: 22.24s\u001B[0m\n"
     ]
    },
    {
     "name": "stderr",
     "output_type": "stream",
     "text": [
      "                                                                                 \r"
     ]
    },
    {
     "name": "stdout",
     "output_type": "stream",
     "text": [
      "\u001B[32m2025-09-27 10:11:12.134\u001B[0m | \u001B[1mINFO    \u001B[0m | \u001B[36mfine_tune.modeling.train\u001B[0m:\u001B[36mtrain\u001B[0m:\u001B[36m271\u001B[0m - \u001B[1mEpoch 5/5 - Train Loss: 0.3536, Train Acc: 0.9844 - Val Loss: 0.3875, Val Acc: 1.0000 - LR: 0.000000 - Time: 22.29s\u001B[0m\n",
      "\u001B[32m2025-09-27 10:11:12.212\u001B[0m | \u001B[1mINFO    \u001B[0m | \u001B[36mfine_tune.modeling.train\u001B[0m:\u001B[36msave_checkpoint\u001B[0m:\u001B[36m326\u001B[0m - \u001B[1mЧекпоинт сохранен: /Users/konopsky/University/AI_new/fine_tune/models/resnet50.a1_in1k_epoch_5.pth\u001B[0m\n",
      "\u001B[32m2025-09-27 10:11:12.212\u001B[0m | \u001B[1mINFO    \u001B[0m | \u001B[36mfine_tune.modeling.train\u001B[0m:\u001B[36mtrain\u001B[0m:\u001B[36m298\u001B[0m - \u001B[1mОбучение завершено за 111.97 секунд\u001B[0m\n",
      "\u001B[32m2025-09-27 10:11:12.212\u001B[0m | \u001B[1mINFO    \u001B[0m | \u001B[36mfine_tune.modeling.train\u001B[0m:\u001B[36mtrain\u001B[0m:\u001B[36m299\u001B[0m - \u001B[1mЛучшая точность валидации: 1.0000\u001B[0m\n",
      "✅ Успешно завершен! Лучшая точность: 1.0000\n",
      "\n",
      "============================================================\n",
      "Эксперимент: low_lr | Модель: resnet50.a1_in1k\n",
      "============================================================\n",
      "\u001B[32m2025-09-27 10:11:13.232\u001B[0m | \u001B[1mINFO    \u001B[0m | \u001B[36mfine_tune.dataset\u001B[0m:\u001B[36m__init__\u001B[0m:\u001B[36m48\u001B[0m - \u001B[1mЗагружено 92 образцов из 3 классов\u001B[0m\n",
      "\u001B[32m2025-09-27 10:11:13.233\u001B[0m | \u001B[1mINFO    \u001B[0m | \u001B[36mfine_tune.dataset\u001B[0m:\u001B[36mcreate_data_loaders\u001B[0m:\u001B[36m220\u001B[0m - \u001B[1mСозданы DataLoader'ы:\u001B[0m\n",
      "\u001B[32m2025-09-27 10:11:13.233\u001B[0m | \u001B[1mINFO    \u001B[0m | \u001B[36mfine_tune.dataset\u001B[0m:\u001B[36mcreate_data_loaders\u001B[0m:\u001B[36m221\u001B[0m - \u001B[1m  Train: 2 батчей (73 образцов)\u001B[0m\n",
      "\u001B[32m2025-09-27 10:11:13.233\u001B[0m | \u001B[1mINFO    \u001B[0m | \u001B[36mfine_tune.dataset\u001B[0m:\u001B[36mcreate_data_loaders\u001B[0m:\u001B[36m222\u001B[0m - \u001B[1m  Val: 1 батчей (9 образцов)\u001B[0m\n",
      "\u001B[32m2025-09-27 10:11:13.233\u001B[0m | \u001B[1mINFO    \u001B[0m | \u001B[36mfine_tune.dataset\u001B[0m:\u001B[36mcreate_data_loaders\u001B[0m:\u001B[36m223\u001B[0m - \u001B[1m  Test: 1 батчей (10 образцов)\u001B[0m\n",
      "\u001B[32m2025-09-27 10:11:13.233\u001B[0m | \u001B[1mINFO    \u001B[0m | \u001B[36mfine_tune.modeling.train\u001B[0m:\u001B[36m__init__\u001B[0m:\u001B[36m51\u001B[0m - \u001B[1mИспользуется устройство: cpu\u001B[0m\n",
      "\u001B[32m2025-09-27 10:11:13.234\u001B[0m | \u001B[1mINFO    \u001B[0m | \u001B[36mfine_tune.modeling.train\u001B[0m:\u001B[36msetup_model\u001B[0m:\u001B[36m81\u001B[0m - \u001B[1mСоздаем модель: resnet50.a1_in1k\u001B[0m\n",
      "\u001B[32m2025-09-27 10:11:13.789\u001B[0m | \u001B[1mINFO    \u001B[0m | \u001B[36mfine_tune.modeling.models\u001B[0m:\u001B[36m__init__\u001B[0m:\u001B[36m37\u001B[0m - \u001B[1mBackbone модели resnet50.a1_in1k заморожен\u001B[0m\n",
      "\u001B[32m2025-09-27 10:11:13.789\u001B[0m | \u001B[1mINFO    \u001B[0m | \u001B[36mfine_tune.modeling.models\u001B[0m:\u001B[36m__init__\u001B[0m:\u001B[36m94\u001B[0m - \u001B[1mСоздана ResNet модель: resnet50.a1_in1k\u001B[0m\n",
      "\u001B[32m2025-09-27 10:11:13.790\u001B[0m | \u001B[1mINFO    \u001B[0m | \u001B[36mfine_tune.modeling.models\u001B[0m:\u001B[36mprint_model_summary\u001B[0m:\u001B[36m181\u001B[0m - \u001B[1m==================================================\u001B[0m\n",
      "\u001B[32m2025-09-27 10:11:13.790\u001B[0m | \u001B[1mINFO    \u001B[0m | \u001B[36mfine_tune.modeling.models\u001B[0m:\u001B[36mprint_model_summary\u001B[0m:\u001B[36m182\u001B[0m - \u001B[1mСВОДКА МОДЕЛИ\u001B[0m\n",
      "\u001B[32m2025-09-27 10:11:13.790\u001B[0m | \u001B[1mINFO    \u001B[0m | \u001B[36mfine_tune.modeling.models\u001B[0m:\u001B[36mprint_model_summary\u001B[0m:\u001B[36m183\u001B[0m - \u001B[1m==================================================\u001B[0m\n",
      "\u001B[32m2025-09-27 10:11:13.790\u001B[0m | \u001B[1mINFO    \u001B[0m | \u001B[36mfine_tune.modeling.models\u001B[0m:\u001B[36mprint_model_summary\u001B[0m:\u001B[36m184\u001B[0m - \u001B[1mАрхитектура: resnet50.a1_in1k\u001B[0m\n",
      "\u001B[32m2025-09-27 10:11:13.790\u001B[0m | \u001B[1mINFO    \u001B[0m | \u001B[36mfine_tune.modeling.models\u001B[0m:\u001B[36mprint_model_summary\u001B[0m:\u001B[36m185\u001B[0m - \u001B[1mВходной размер: (3, 224, 224)\u001B[0m\n",
      "\u001B[32m2025-09-27 10:11:13.790\u001B[0m | \u001B[1mINFO    \u001B[0m | \u001B[36mfine_tune.modeling.models\u001B[0m:\u001B[36mprint_model_summary\u001B[0m:\u001B[36m186\u001B[0m - \u001B[1mКоличество классов: 3\u001B[0m\n",
      "\u001B[32m2025-09-27 10:11:13.790\u001B[0m | \u001B[1mINFO    \u001B[0m | \u001B[36mfine_tune.modeling.models\u001B[0m:\u001B[36mprint_model_summary\u001B[0m:\u001B[36m187\u001B[0m - \u001B[1mВсего параметров: 23,514,179\u001B[0m\n",
      "\u001B[32m2025-09-27 10:11:13.790\u001B[0m | \u001B[1mINFO    \u001B[0m | \u001B[36mfine_tune.modeling.models\u001B[0m:\u001B[36mprint_model_summary\u001B[0m:\u001B[36m188\u001B[0m - \u001B[1mОбучаемых параметров: 6,147\u001B[0m\n",
      "\u001B[32m2025-09-27 10:11:13.790\u001B[0m | \u001B[1mINFO    \u001B[0m | \u001B[36mfine_tune.modeling.models\u001B[0m:\u001B[36mprint_model_summary\u001B[0m:\u001B[36m189\u001B[0m - \u001B[1mЗамороженных параметров: 23,508,032\u001B[0m\n",
      "\u001B[32m2025-09-27 10:11:13.790\u001B[0m | \u001B[1mINFO    \u001B[0m | \u001B[36mfine_tune.modeling.models\u001B[0m:\u001B[36mprint_model_summary\u001B[0m:\u001B[36m190\u001B[0m - \u001B[1mПроцент обучаемых: 0.03%\u001B[0m\n",
      "\u001B[32m2025-09-27 10:11:13.790\u001B[0m | \u001B[1mINFO    \u001B[0m | \u001B[36mfine_tune.modeling.models\u001B[0m:\u001B[36mprint_model_summary\u001B[0m:\u001B[36m191\u001B[0m - \u001B[1m==================================================\u001B[0m\n",
      "\u001B[32m2025-09-27 10:11:13.790\u001B[0m | \u001B[1mINFO    \u001B[0m | \u001B[36mfine_tune.modeling.train\u001B[0m:\u001B[36msetup_optimizer_and_scheduler\u001B[0m:\u001B[36m143\u001B[0m - \u001B[1mОптимизатор: adamw\u001B[0m\n",
      "\u001B[32m2025-09-27 10:11:13.791\u001B[0m | \u001B[1mINFO    \u001B[0m | \u001B[36mfine_tune.modeling.train\u001B[0m:\u001B[36msetup_optimizer_and_scheduler\u001B[0m:\u001B[36m144\u001B[0m - \u001B[1mПланировщик: cosine\u001B[0m\n",
      "\u001B[32m2025-09-27 10:11:13.791\u001B[0m | \u001B[1mINFO    \u001B[0m | \u001B[36mfine_tune.modeling.train\u001B[0m:\u001B[36mtrain\u001B[0m:\u001B[36m232\u001B[0m - \u001B[1mНачинаем обучение модели resnet50.a1_in1k\u001B[0m\n",
      "\u001B[32m2025-09-27 10:11:13.791\u001B[0m | \u001B[1mINFO    \u001B[0m | \u001B[36mfine_tune.modeling.train\u001B[0m:\u001B[36mtrain\u001B[0m:\u001B[36m233\u001B[0m - \u001B[1mЭпох: 8\u001B[0m\n",
      "\u001B[32m2025-09-27 10:11:13.791\u001B[0m | \u001B[1mINFO    \u001B[0m | \u001B[36mfine_tune.modeling.train\u001B[0m:\u001B[36mtrain\u001B[0m:\u001B[36m234\u001B[0m - \u001B[1mРазмер батча: 32\u001B[0m\n",
      "\u001B[32m2025-09-27 10:11:13.791\u001B[0m | \u001B[1mINFO    \u001B[0m | \u001B[36mfine_tune.modeling.train\u001B[0m:\u001B[36mtrain\u001B[0m:\u001B[36m235\u001B[0m - \u001B[1mLearning rate: 0.0001\u001B[0m\n"
     ]
    },
    {
     "name": "stderr",
     "output_type": "stream",
     "text": [
      "                                                                                 \r"
     ]
    },
    {
     "name": "stdout",
     "output_type": "stream",
     "text": [
      "\u001B[32m2025-09-27 10:11:37.368\u001B[0m | \u001B[1mINFO    \u001B[0m | \u001B[36mfine_tune.modeling.train\u001B[0m:\u001B[36mtrain\u001B[0m:\u001B[36m271\u001B[0m - \u001B[1mEpoch 1/8 - Train Loss: 1.1036, Train Acc: 0.2969 - Val Loss: 1.0783, Val Acc: 0.6667 - LR: 0.000096 - Time: 23.58s\u001B[0m\n"
     ]
    },
    {
     "name": "stderr",
     "output_type": "stream",
     "text": [
      "                                                                                 \r"
     ]
    },
    {
     "name": "stdout",
     "output_type": "stream",
     "text": [
      "\u001B[32m2025-09-27 10:11:59.821\u001B[0m | \u001B[1mINFO    \u001B[0m | \u001B[36mfine_tune.modeling.train\u001B[0m:\u001B[36mtrain\u001B[0m:\u001B[36m271\u001B[0m - \u001B[1mEpoch 2/8 - Train Loss: 1.0979, Train Acc: 0.4062 - Val Loss: 1.0764, Val Acc: 0.7778 - LR: 0.000085 - Time: 22.45s\u001B[0m\n"
     ]
    },
    {
     "name": "stderr",
     "output_type": "stream",
     "text": [
      "                                                                                 \r"
     ]
    },
    {
     "name": "stdout",
     "output_type": "stream",
     "text": [
      "\u001B[32m2025-09-27 10:12:22.166\u001B[0m | \u001B[1mINFO    \u001B[0m | \u001B[36mfine_tune.modeling.train\u001B[0m:\u001B[36mtrain\u001B[0m:\u001B[36m271\u001B[0m - \u001B[1mEpoch 3/8 - Train Loss: 1.1006, Train Acc: 0.4062 - Val Loss: 1.0740, Val Acc: 0.6667 - LR: 0.000069 - Time: 22.34s\u001B[0m\n"
     ]
    },
    {
     "name": "stderr",
     "output_type": "stream",
     "text": [
      "                                                                                 \r"
     ]
    },
    {
     "name": "stdout",
     "output_type": "stream",
     "text": [
      "\u001B[32m2025-09-27 10:12:44.307\u001B[0m | \u001B[1mINFO    \u001B[0m | \u001B[36mfine_tune.modeling.train\u001B[0m:\u001B[36mtrain\u001B[0m:\u001B[36m271\u001B[0m - \u001B[1mEpoch 4/8 - Train Loss: 1.0983, Train Acc: 0.3125 - Val Loss: 1.0725, Val Acc: 0.6667 - LR: 0.000050 - Time: 22.14s\u001B[0m\n"
     ]
    },
    {
     "name": "stderr",
     "output_type": "stream",
     "text": [
      "                                                                                 \r"
     ]
    },
    {
     "name": "stdout",
     "output_type": "stream",
     "text": [
      "\u001B[32m2025-09-27 10:13:06.437\u001B[0m | \u001B[1mINFO    \u001B[0m | \u001B[36mfine_tune.modeling.train\u001B[0m:\u001B[36mtrain\u001B[0m:\u001B[36m271\u001B[0m - \u001B[1mEpoch 5/8 - Train Loss: 1.0965, Train Acc: 0.3594 - Val Loss: 1.0719, Val Acc: 0.6667 - LR: 0.000031 - Time: 22.13s\u001B[0m\n",
      "\u001B[32m2025-09-27 10:13:06.506\u001B[0m | \u001B[1mINFO    \u001B[0m | \u001B[36mfine_tune.modeling.train\u001B[0m:\u001B[36msave_checkpoint\u001B[0m:\u001B[36m326\u001B[0m - \u001B[1mЧекпоинт сохранен: /Users/konopsky/University/AI_new/fine_tune/models/resnet50.a1_in1k_epoch_5.pth\u001B[0m\n"
     ]
    },
    {
     "name": "stderr",
     "output_type": "stream",
     "text": [
      "                                                                                 \r"
     ]
    },
    {
     "name": "stdout",
     "output_type": "stream",
     "text": [
      "\u001B[32m2025-09-27 10:13:28.613\u001B[0m | \u001B[1mINFO    \u001B[0m | \u001B[36mfine_tune.modeling.train\u001B[0m:\u001B[36mtrain\u001B[0m:\u001B[36m271\u001B[0m - \u001B[1mEpoch 6/8 - Train Loss: 1.0851, Train Acc: 0.4062 - Val Loss: 1.0687, Val Acc: 0.6667 - LR: 0.000015 - Time: 22.11s\u001B[0m\n"
     ]
    },
    {
     "name": "stderr",
     "output_type": "stream",
     "text": [
      "                                                                                 \r"
     ]
    },
    {
     "name": "stdout",
     "output_type": "stream",
     "text": [
      "\u001B[32m2025-09-27 10:13:50.955\u001B[0m | \u001B[1mINFO    \u001B[0m | \u001B[36mfine_tune.modeling.train\u001B[0m:\u001B[36mtrain\u001B[0m:\u001B[36m271\u001B[0m - \u001B[1mEpoch 7/8 - Train Loss: 1.0850, Train Acc: 0.4531 - Val Loss: 1.0681, Val Acc: 0.6667 - LR: 0.000004 - Time: 22.34s\u001B[0m\n"
     ]
    },
    {
     "name": "stderr",
     "output_type": "stream",
     "text": [
      "                                                                                 \r"
     ]
    },
    {
     "name": "stdout",
     "output_type": "stream",
     "text": [
      "\u001B[32m2025-09-27 10:14:13.512\u001B[0m | \u001B[1mINFO    \u001B[0m | \u001B[36mfine_tune.modeling.train\u001B[0m:\u001B[36mtrain\u001B[0m:\u001B[36m271\u001B[0m - \u001B[1mEpoch 8/8 - Train Loss: 1.0796, Train Acc: 0.4219 - Val Loss: 1.0680, Val Acc: 0.6667 - LR: 0.000000 - Time: 22.56s\u001B[0m\n",
      "\u001B[32m2025-09-27 10:14:13.512\u001B[0m | \u001B[1mINFO    \u001B[0m | \u001B[36mfine_tune.modeling.train\u001B[0m:\u001B[36mtrain\u001B[0m:\u001B[36m298\u001B[0m - \u001B[1mОбучение завершено за 179.72 секунд\u001B[0m\n",
      "\u001B[32m2025-09-27 10:14:13.512\u001B[0m | \u001B[1mINFO    \u001B[0m | \u001B[36mfine_tune.modeling.train\u001B[0m:\u001B[36mtrain\u001B[0m:\u001B[36m299\u001B[0m - \u001B[1mЛучшая точность валидации: 0.7778\u001B[0m\n",
      "✅ Успешно завершен! Лучшая точность: 0.7778\n",
      "\n",
      "============================================================\n",
      "Эксперимент: sgd_optimizer | Модель: resnet50.a1_in1k\n",
      "============================================================\n",
      "\u001B[32m2025-09-27 10:14:14.544\u001B[0m | \u001B[1mINFO    \u001B[0m | \u001B[36mfine_tune.dataset\u001B[0m:\u001B[36m__init__\u001B[0m:\u001B[36m48\u001B[0m - \u001B[1mЗагружено 92 образцов из 3 классов\u001B[0m\n",
      "\u001B[32m2025-09-27 10:14:14.545\u001B[0m | \u001B[1mINFO    \u001B[0m | \u001B[36mfine_tune.dataset\u001B[0m:\u001B[36mcreate_data_loaders\u001B[0m:\u001B[36m220\u001B[0m - \u001B[1mСозданы DataLoader'ы:\u001B[0m\n",
      "\u001B[32m2025-09-27 10:14:14.545\u001B[0m | \u001B[1mINFO    \u001B[0m | \u001B[36mfine_tune.dataset\u001B[0m:\u001B[36mcreate_data_loaders\u001B[0m:\u001B[36m221\u001B[0m - \u001B[1m  Train: 2 батчей (73 образцов)\u001B[0m\n",
      "\u001B[32m2025-09-27 10:14:14.545\u001B[0m | \u001B[1mINFO    \u001B[0m | \u001B[36mfine_tune.dataset\u001B[0m:\u001B[36mcreate_data_loaders\u001B[0m:\u001B[36m222\u001B[0m - \u001B[1m  Val: 1 батчей (9 образцов)\u001B[0m\n",
      "\u001B[32m2025-09-27 10:14:14.545\u001B[0m | \u001B[1mINFO    \u001B[0m | \u001B[36mfine_tune.dataset\u001B[0m:\u001B[36mcreate_data_loaders\u001B[0m:\u001B[36m223\u001B[0m - \u001B[1m  Test: 1 батчей (10 образцов)\u001B[0m\n",
      "\u001B[32m2025-09-27 10:14:14.545\u001B[0m | \u001B[1mINFO    \u001B[0m | \u001B[36mfine_tune.modeling.train\u001B[0m:\u001B[36m__init__\u001B[0m:\u001B[36m51\u001B[0m - \u001B[1mИспользуется устройство: cpu\u001B[0m\n",
      "\u001B[32m2025-09-27 10:14:14.547\u001B[0m | \u001B[1mINFO    \u001B[0m | \u001B[36mfine_tune.modeling.train\u001B[0m:\u001B[36msetup_model\u001B[0m:\u001B[36m81\u001B[0m - \u001B[1mСоздаем модель: resnet50.a1_in1k\u001B[0m\n",
      "\u001B[32m2025-09-27 10:14:15.112\u001B[0m | \u001B[1mINFO    \u001B[0m | \u001B[36mfine_tune.modeling.models\u001B[0m:\u001B[36m__init__\u001B[0m:\u001B[36m37\u001B[0m - \u001B[1mBackbone модели resnet50.a1_in1k заморожен\u001B[0m\n",
      "\u001B[32m2025-09-27 10:14:15.112\u001B[0m | \u001B[1mINFO    \u001B[0m | \u001B[36mfine_tune.modeling.models\u001B[0m:\u001B[36m__init__\u001B[0m:\u001B[36m94\u001B[0m - \u001B[1mСоздана ResNet модель: resnet50.a1_in1k\u001B[0m\n",
      "\u001B[32m2025-09-27 10:14:15.113\u001B[0m | \u001B[1mINFO    \u001B[0m | \u001B[36mfine_tune.modeling.models\u001B[0m:\u001B[36mprint_model_summary\u001B[0m:\u001B[36m181\u001B[0m - \u001B[1m==================================================\u001B[0m\n",
      "\u001B[32m2025-09-27 10:14:15.113\u001B[0m | \u001B[1mINFO    \u001B[0m | \u001B[36mfine_tune.modeling.models\u001B[0m:\u001B[36mprint_model_summary\u001B[0m:\u001B[36m182\u001B[0m - \u001B[1mСВОДКА МОДЕЛИ\u001B[0m\n",
      "\u001B[32m2025-09-27 10:14:15.113\u001B[0m | \u001B[1mINFO    \u001B[0m | \u001B[36mfine_tune.modeling.models\u001B[0m:\u001B[36mprint_model_summary\u001B[0m:\u001B[36m183\u001B[0m - \u001B[1m==================================================\u001B[0m\n",
      "\u001B[32m2025-09-27 10:14:15.113\u001B[0m | \u001B[1mINFO    \u001B[0m | \u001B[36mfine_tune.modeling.models\u001B[0m:\u001B[36mprint_model_summary\u001B[0m:\u001B[36m184\u001B[0m - \u001B[1mАрхитектура: resnet50.a1_in1k\u001B[0m\n",
      "\u001B[32m2025-09-27 10:14:15.113\u001B[0m | \u001B[1mINFO    \u001B[0m | \u001B[36mfine_tune.modeling.models\u001B[0m:\u001B[36mprint_model_summary\u001B[0m:\u001B[36m185\u001B[0m - \u001B[1mВходной размер: (3, 224, 224)\u001B[0m\n",
      "\u001B[32m2025-09-27 10:14:15.113\u001B[0m | \u001B[1mINFO    \u001B[0m | \u001B[36mfine_tune.modeling.models\u001B[0m:\u001B[36mprint_model_summary\u001B[0m:\u001B[36m186\u001B[0m - \u001B[1mКоличество классов: 3\u001B[0m\n",
      "\u001B[32m2025-09-27 10:14:15.113\u001B[0m | \u001B[1mINFO    \u001B[0m | \u001B[36mfine_tune.modeling.models\u001B[0m:\u001B[36mprint_model_summary\u001B[0m:\u001B[36m187\u001B[0m - \u001B[1mВсего параметров: 23,514,179\u001B[0m\n",
      "\u001B[32m2025-09-27 10:14:15.113\u001B[0m | \u001B[1mINFO    \u001B[0m | \u001B[36mfine_tune.modeling.models\u001B[0m:\u001B[36mprint_model_summary\u001B[0m:\u001B[36m188\u001B[0m - \u001B[1mОбучаемых параметров: 6,147\u001B[0m\n",
      "\u001B[32m2025-09-27 10:14:15.113\u001B[0m | \u001B[1mINFO    \u001B[0m | \u001B[36mfine_tune.modeling.models\u001B[0m:\u001B[36mprint_model_summary\u001B[0m:\u001B[36m189\u001B[0m - \u001B[1mЗамороженных параметров: 23,508,032\u001B[0m\n",
      "\u001B[32m2025-09-27 10:14:15.113\u001B[0m | \u001B[1mINFO    \u001B[0m | \u001B[36mfine_tune.modeling.models\u001B[0m:\u001B[36mprint_model_summary\u001B[0m:\u001B[36m190\u001B[0m - \u001B[1mПроцент обучаемых: 0.03%\u001B[0m\n",
      "\u001B[32m2025-09-27 10:14:15.113\u001B[0m | \u001B[1mINFO    \u001B[0m | \u001B[36mfine_tune.modeling.models\u001B[0m:\u001B[36mprint_model_summary\u001B[0m:\u001B[36m191\u001B[0m - \u001B[1m==================================================\u001B[0m\n",
      "\u001B[32m2025-09-27 10:14:15.114\u001B[0m | \u001B[1mINFO    \u001B[0m | \u001B[36mfine_tune.modeling.train\u001B[0m:\u001B[36msetup_optimizer_and_scheduler\u001B[0m:\u001B[36m143\u001B[0m - \u001B[1mОптимизатор: sgd\u001B[0m\n",
      "\u001B[32m2025-09-27 10:14:15.114\u001B[0m | \u001B[1mINFO    \u001B[0m | \u001B[36mfine_tune.modeling.train\u001B[0m:\u001B[36msetup_optimizer_and_scheduler\u001B[0m:\u001B[36m144\u001B[0m - \u001B[1mПланировщик: step\u001B[0m\n",
      "\u001B[32m2025-09-27 10:14:15.114\u001B[0m | \u001B[1mINFO    \u001B[0m | \u001B[36mfine_tune.modeling.train\u001B[0m:\u001B[36mtrain\u001B[0m:\u001B[36m232\u001B[0m - \u001B[1mНачинаем обучение модели resnet50.a1_in1k\u001B[0m\n",
      "\u001B[32m2025-09-27 10:14:15.114\u001B[0m | \u001B[1mINFO    \u001B[0m | \u001B[36mfine_tune.modeling.train\u001B[0m:\u001B[36mtrain\u001B[0m:\u001B[36m233\u001B[0m - \u001B[1mЭпох: 5\u001B[0m\n",
      "\u001B[32m2025-09-27 10:14:15.114\u001B[0m | \u001B[1mINFO    \u001B[0m | \u001B[36mfine_tune.modeling.train\u001B[0m:\u001B[36mtrain\u001B[0m:\u001B[36m234\u001B[0m - \u001B[1mРазмер батча: 32\u001B[0m\n",
      "\u001B[32m2025-09-27 10:14:15.114\u001B[0m | \u001B[1mINFO    \u001B[0m | \u001B[36mfine_tune.modeling.train\u001B[0m:\u001B[36mtrain\u001B[0m:\u001B[36m235\u001B[0m - \u001B[1mLearning rate: 0.01\u001B[0m\n"
     ]
    },
    {
     "name": "stderr",
     "output_type": "stream",
     "text": [
      "                                                                                 \r"
     ]
    },
    {
     "name": "stdout",
     "output_type": "stream",
     "text": [
      "\u001B[32m2025-09-27 10:14:37.364\u001B[0m | \u001B[1mINFO    \u001B[0m | \u001B[36mfine_tune.modeling.train\u001B[0m:\u001B[36mtrain\u001B[0m:\u001B[36m271\u001B[0m - \u001B[1mEpoch 1/5 - Train Loss: 1.0996, Train Acc: 0.3906 - Val Loss: 1.0758, Val Acc: 0.7778 - LR: 0.010000 - Time: 22.25s\u001B[0m\n"
     ]
    },
    {
     "name": "stderr",
     "output_type": "stream",
     "text": [
      "                                                                                 \r"
     ]
    },
    {
     "name": "stdout",
     "output_type": "stream",
     "text": [
      "\u001B[32m2025-09-27 10:15:00.251\u001B[0m | \u001B[1mINFO    \u001B[0m | \u001B[36mfine_tune.modeling.train\u001B[0m:\u001B[36mtrain\u001B[0m:\u001B[36m271\u001B[0m - \u001B[1mEpoch 2/5 - Train Loss: 1.0830, Train Acc: 0.4375 - Val Loss: 1.0484, Val Acc: 0.7778 - LR: 0.010000 - Time: 22.89s\u001B[0m\n"
     ]
    },
    {
     "name": "stderr",
     "output_type": "stream",
     "text": [
      "                                                                                 \r"
     ]
    },
    {
     "name": "stdout",
     "output_type": "stream",
     "text": [
      "\u001B[32m2025-09-27 10:15:22.715\u001B[0m | \u001B[1mINFO    \u001B[0m | \u001B[36mfine_tune.modeling.train\u001B[0m:\u001B[36mtrain\u001B[0m:\u001B[36m271\u001B[0m - \u001B[1mEpoch 3/5 - Train Loss: 1.0413, Train Acc: 0.6250 - Val Loss: 1.0130, Val Acc: 0.7778 - LR: 0.010000 - Time: 22.46s\u001B[0m\n"
     ]
    },
    {
     "name": "stderr",
     "output_type": "stream",
     "text": [
      "                                                                                 \r"
     ]
    },
    {
     "name": "stdout",
     "output_type": "stream",
     "text": [
      "\u001B[32m2025-09-27 10:15:45.179\u001B[0m | \u001B[1mINFO    \u001B[0m | \u001B[36mfine_tune.modeling.train\u001B[0m:\u001B[36mtrain\u001B[0m:\u001B[36m271\u001B[0m - \u001B[1mEpoch 4/5 - Train Loss: 1.0025, Train Acc: 0.7031 - Val Loss: 0.9691, Val Acc: 0.8889 - LR: 0.010000 - Time: 22.46s\u001B[0m\n"
     ]
    },
    {
     "name": "stderr",
     "output_type": "stream",
     "text": [
      "                                                                                 \r"
     ]
    },
    {
     "name": "stdout",
     "output_type": "stream",
     "text": [
      "\u001B[32m2025-09-27 10:16:07.904\u001B[0m | \u001B[1mINFO    \u001B[0m | \u001B[36mfine_tune.modeling.train\u001B[0m:\u001B[36mtrain\u001B[0m:\u001B[36m271\u001B[0m - \u001B[1mEpoch 5/5 - Train Loss: 0.9348, Train Acc: 0.7031 - Val Loss: 0.9299, Val Acc: 0.8889 - LR: 0.010000 - Time: 22.72s\u001B[0m\n",
      "\u001B[32m2025-09-27 10:16:07.986\u001B[0m | \u001B[1mINFO    \u001B[0m | \u001B[36mfine_tune.modeling.train\u001B[0m:\u001B[36msave_checkpoint\u001B[0m:\u001B[36m326\u001B[0m - \u001B[1mЧекпоинт сохранен: /Users/konopsky/University/AI_new/fine_tune/models/resnet50.a1_in1k_epoch_5.pth\u001B[0m\n",
      "\u001B[32m2025-09-27 10:16:07.986\u001B[0m | \u001B[1mINFO    \u001B[0m | \u001B[36mfine_tune.modeling.train\u001B[0m:\u001B[36mtrain\u001B[0m:\u001B[36m298\u001B[0m - \u001B[1mОбучение завершено за 112.87 секунд\u001B[0m\n",
      "\u001B[32m2025-09-27 10:16:07.986\u001B[0m | \u001B[1mINFO    \u001B[0m | \u001B[36mfine_tune.modeling.train\u001B[0m:\u001B[36mtrain\u001B[0m:\u001B[36m299\u001B[0m - \u001B[1mЛучшая точность валидации: 0.8889\u001B[0m\n",
      "✅ Успешно завершен! Лучшая точность: 0.8889\n",
      "\n",
      "============================================================\n",
      "Эксперимент: step_scheduler | Модель: resnet50.a1_in1k\n",
      "============================================================\n",
      "\u001B[32m2025-09-27 10:16:09.004\u001B[0m | \u001B[1mINFO    \u001B[0m | \u001B[36mfine_tune.dataset\u001B[0m:\u001B[36m__init__\u001B[0m:\u001B[36m48\u001B[0m - \u001B[1mЗагружено 92 образцов из 3 классов\u001B[0m\n",
      "\u001B[32m2025-09-27 10:16:09.004\u001B[0m | \u001B[1mINFO    \u001B[0m | \u001B[36mfine_tune.dataset\u001B[0m:\u001B[36mcreate_data_loaders\u001B[0m:\u001B[36m220\u001B[0m - \u001B[1mСозданы DataLoader'ы:\u001B[0m\n",
      "\u001B[32m2025-09-27 10:16:09.005\u001B[0m | \u001B[1mINFO    \u001B[0m | \u001B[36mfine_tune.dataset\u001B[0m:\u001B[36mcreate_data_loaders\u001B[0m:\u001B[36m221\u001B[0m - \u001B[1m  Train: 2 батчей (73 образцов)\u001B[0m\n",
      "\u001B[32m2025-09-27 10:16:09.005\u001B[0m | \u001B[1mINFO    \u001B[0m | \u001B[36mfine_tune.dataset\u001B[0m:\u001B[36mcreate_data_loaders\u001B[0m:\u001B[36m222\u001B[0m - \u001B[1m  Val: 1 батчей (9 образцов)\u001B[0m\n",
      "\u001B[32m2025-09-27 10:16:09.005\u001B[0m | \u001B[1mINFO    \u001B[0m | \u001B[36mfine_tune.dataset\u001B[0m:\u001B[36mcreate_data_loaders\u001B[0m:\u001B[36m223\u001B[0m - \u001B[1m  Test: 1 батчей (10 образцов)\u001B[0m\n",
      "\u001B[32m2025-09-27 10:16:09.005\u001B[0m | \u001B[1mINFO    \u001B[0m | \u001B[36mfine_tune.modeling.train\u001B[0m:\u001B[36m__init__\u001B[0m:\u001B[36m51\u001B[0m - \u001B[1mИспользуется устройство: cpu\u001B[0m\n",
      "\u001B[32m2025-09-27 10:16:09.007\u001B[0m | \u001B[1mINFO    \u001B[0m | \u001B[36mfine_tune.modeling.train\u001B[0m:\u001B[36msetup_model\u001B[0m:\u001B[36m81\u001B[0m - \u001B[1mСоздаем модель: resnet50.a1_in1k\u001B[0m\n",
      "\u001B[32m2025-09-27 10:16:09.724\u001B[0m | \u001B[1mINFO    \u001B[0m | \u001B[36mfine_tune.modeling.models\u001B[0m:\u001B[36m__init__\u001B[0m:\u001B[36m37\u001B[0m - \u001B[1mBackbone модели resnet50.a1_in1k заморожен\u001B[0m\n",
      "\u001B[32m2025-09-27 10:16:09.724\u001B[0m | \u001B[1mINFO    \u001B[0m | \u001B[36mfine_tune.modeling.models\u001B[0m:\u001B[36m__init__\u001B[0m:\u001B[36m94\u001B[0m - \u001B[1mСоздана ResNet модель: resnet50.a1_in1k\u001B[0m\n",
      "\u001B[32m2025-09-27 10:16:09.725\u001B[0m | \u001B[1mINFO    \u001B[0m | \u001B[36mfine_tune.modeling.models\u001B[0m:\u001B[36mprint_model_summary\u001B[0m:\u001B[36m181\u001B[0m - \u001B[1m==================================================\u001B[0m\n",
      "\u001B[32m2025-09-27 10:16:09.725\u001B[0m | \u001B[1mINFO    \u001B[0m | \u001B[36mfine_tune.modeling.models\u001B[0m:\u001B[36mprint_model_summary\u001B[0m:\u001B[36m182\u001B[0m - \u001B[1mСВОДКА МОДЕЛИ\u001B[0m\n",
      "\u001B[32m2025-09-27 10:16:09.725\u001B[0m | \u001B[1mINFO    \u001B[0m | \u001B[36mfine_tune.modeling.models\u001B[0m:\u001B[36mprint_model_summary\u001B[0m:\u001B[36m183\u001B[0m - \u001B[1m==================================================\u001B[0m\n",
      "\u001B[32m2025-09-27 10:16:09.725\u001B[0m | \u001B[1mINFO    \u001B[0m | \u001B[36mfine_tune.modeling.models\u001B[0m:\u001B[36mprint_model_summary\u001B[0m:\u001B[36m184\u001B[0m - \u001B[1mАрхитектура: resnet50.a1_in1k\u001B[0m\n",
      "\u001B[32m2025-09-27 10:16:09.725\u001B[0m | \u001B[1mINFO    \u001B[0m | \u001B[36mfine_tune.modeling.models\u001B[0m:\u001B[36mprint_model_summary\u001B[0m:\u001B[36m185\u001B[0m - \u001B[1mВходной размер: (3, 224, 224)\u001B[0m\n",
      "\u001B[32m2025-09-27 10:16:09.725\u001B[0m | \u001B[1mINFO    \u001B[0m | \u001B[36mfine_tune.modeling.models\u001B[0m:\u001B[36mprint_model_summary\u001B[0m:\u001B[36m186\u001B[0m - \u001B[1mКоличество классов: 3\u001B[0m\n",
      "\u001B[32m2025-09-27 10:16:09.725\u001B[0m | \u001B[1mINFO    \u001B[0m | \u001B[36mfine_tune.modeling.models\u001B[0m:\u001B[36mprint_model_summary\u001B[0m:\u001B[36m187\u001B[0m - \u001B[1mВсего параметров: 23,514,179\u001B[0m\n",
      "\u001B[32m2025-09-27 10:16:09.725\u001B[0m | \u001B[1mINFO    \u001B[0m | \u001B[36mfine_tune.modeling.models\u001B[0m:\u001B[36mprint_model_summary\u001B[0m:\u001B[36m188\u001B[0m - \u001B[1mОбучаемых параметров: 6,147\u001B[0m\n",
      "\u001B[32m2025-09-27 10:16:09.725\u001B[0m | \u001B[1mINFO    \u001B[0m | \u001B[36mfine_tune.modeling.models\u001B[0m:\u001B[36mprint_model_summary\u001B[0m:\u001B[36m189\u001B[0m - \u001B[1mЗамороженных параметров: 23,508,032\u001B[0m\n",
      "\u001B[32m2025-09-27 10:16:09.725\u001B[0m | \u001B[1mINFO    \u001B[0m | \u001B[36mfine_tune.modeling.models\u001B[0m:\u001B[36mprint_model_summary\u001B[0m:\u001B[36m190\u001B[0m - \u001B[1mПроцент обучаемых: 0.03%\u001B[0m\n",
      "\u001B[32m2025-09-27 10:16:09.725\u001B[0m | \u001B[1mINFO    \u001B[0m | \u001B[36mfine_tune.modeling.models\u001B[0m:\u001B[36mprint_model_summary\u001B[0m:\u001B[36m191\u001B[0m - \u001B[1m==================================================\u001B[0m\n",
      "\u001B[32m2025-09-27 10:16:09.726\u001B[0m | \u001B[1mINFO    \u001B[0m | \u001B[36mfine_tune.modeling.train\u001B[0m:\u001B[36msetup_optimizer_and_scheduler\u001B[0m:\u001B[36m143\u001B[0m - \u001B[1mОптимизатор: adamw\u001B[0m\n",
      "\u001B[32m2025-09-27 10:16:09.726\u001B[0m | \u001B[1mINFO    \u001B[0m | \u001B[36mfine_tune.modeling.train\u001B[0m:\u001B[36msetup_optimizer_and_scheduler\u001B[0m:\u001B[36m144\u001B[0m - \u001B[1mПланировщик: step\u001B[0m\n",
      "\u001B[32m2025-09-27 10:16:09.726\u001B[0m | \u001B[1mINFO    \u001B[0m | \u001B[36mfine_tune.modeling.train\u001B[0m:\u001B[36mtrain\u001B[0m:\u001B[36m232\u001B[0m - \u001B[1mНачинаем обучение модели resnet50.a1_in1k\u001B[0m\n",
      "\u001B[32m2025-09-27 10:16:09.726\u001B[0m | \u001B[1mINFO    \u001B[0m | \u001B[36mfine_tune.modeling.train\u001B[0m:\u001B[36mtrain\u001B[0m:\u001B[36m233\u001B[0m - \u001B[1mЭпох: 8\u001B[0m\n",
      "\u001B[32m2025-09-27 10:16:09.726\u001B[0m | \u001B[1mINFO    \u001B[0m | \u001B[36mfine_tune.modeling.train\u001B[0m:\u001B[36mtrain\u001B[0m:\u001B[36m234\u001B[0m - \u001B[1mРазмер батча: 32\u001B[0m\n",
      "\u001B[32m2025-09-27 10:16:09.726\u001B[0m | \u001B[1mINFO    \u001B[0m | \u001B[36mfine_tune.modeling.train\u001B[0m:\u001B[36mtrain\u001B[0m:\u001B[36m235\u001B[0m - \u001B[1mLearning rate: 0.001\u001B[0m\n"
     ]
    },
    {
     "name": "stderr",
     "output_type": "stream",
     "text": [
      "                                                                                 \r"
     ]
    },
    {
     "name": "stdout",
     "output_type": "stream",
     "text": [
      "\u001B[32m2025-09-27 10:16:32.324\u001B[0m | \u001B[1mINFO    \u001B[0m | \u001B[36mfine_tune.modeling.train\u001B[0m:\u001B[36mtrain\u001B[0m:\u001B[36m271\u001B[0m - \u001B[1mEpoch 1/8 - Train Loss: 1.0926, Train Acc: 0.4062 - Val Loss: 1.0354, Val Acc: 0.5556 - LR: 0.001000 - Time: 22.60s\u001B[0m\n"
     ]
    },
    {
     "name": "stderr",
     "output_type": "stream",
     "text": [
      "                                                                                 \r"
     ]
    },
    {
     "name": "stdout",
     "output_type": "stream",
     "text": [
      "\u001B[32m2025-09-27 10:16:54.767\u001B[0m | \u001B[1mINFO    \u001B[0m | \u001B[36mfine_tune.modeling.train\u001B[0m:\u001B[36mtrain\u001B[0m:\u001B[36m271\u001B[0m - \u001B[1mEpoch 2/8 - Train Loss: 1.0501, Train Acc: 0.5312 - Val Loss: 1.0012, Val Acc: 0.7778 - LR: 0.001000 - Time: 22.44s\u001B[0m\n"
     ]
    },
    {
     "name": "stderr",
     "output_type": "stream",
     "text": [
      "                                                                                 \r"
     ]
    },
    {
     "name": "stdout",
     "output_type": "stream",
     "text": [
      "\u001B[32m2025-09-27 10:17:16.889\u001B[0m | \u001B[1mINFO    \u001B[0m | \u001B[36mfine_tune.modeling.train\u001B[0m:\u001B[36mtrain\u001B[0m:\u001B[36m271\u001B[0m - \u001B[1mEpoch 3/8 - Train Loss: 1.0039, Train Acc: 0.6250 - Val Loss: 0.9784, Val Acc: 0.7778 - LR: 0.001000 - Time: 22.12s\u001B[0m\n"
     ]
    },
    {
     "name": "stderr",
     "output_type": "stream",
     "text": [
      "                                                                                 \r"
     ]
    },
    {
     "name": "stdout",
     "output_type": "stream",
     "text": [
      "\u001B[32m2025-09-27 10:17:39.113\u001B[0m | \u001B[1mINFO    \u001B[0m | \u001B[36mfine_tune.modeling.train\u001B[0m:\u001B[36mtrain\u001B[0m:\u001B[36m271\u001B[0m - \u001B[1mEpoch 4/8 - Train Loss: 0.9573, Train Acc: 0.6875 - Val Loss: 0.9610, Val Acc: 0.7778 - LR: 0.001000 - Time: 22.22s\u001B[0m\n"
     ]
    },
    {
     "name": "stderr",
     "output_type": "stream",
     "text": [
      "                                                                                 \r"
     ]
    },
    {
     "name": "stdout",
     "output_type": "stream",
     "text": [
      "\u001B[32m2025-09-27 10:18:02.718\u001B[0m | \u001B[1mINFO    \u001B[0m | \u001B[36mfine_tune.modeling.train\u001B[0m:\u001B[36mtrain\u001B[0m:\u001B[36m271\u001B[0m - \u001B[1mEpoch 5/8 - Train Loss: 0.9200, Train Acc: 0.7031 - Val Loss: 0.9465, Val Acc: 0.7778 - LR: 0.001000 - Time: 23.60s\u001B[0m\n",
      "\u001B[32m2025-09-27 10:18:02.797\u001B[0m | \u001B[1mINFO    \u001B[0m | \u001B[36mfine_tune.modeling.train\u001B[0m:\u001B[36msave_checkpoint\u001B[0m:\u001B[36m326\u001B[0m - \u001B[1mЧекпоинт сохранен: /Users/konopsky/University/AI_new/fine_tune/models/resnet50.a1_in1k_epoch_5.pth\u001B[0m\n"
     ]
    },
    {
     "name": "stderr",
     "output_type": "stream",
     "text": [
      "                                                                                 \r"
     ]
    },
    {
     "name": "stdout",
     "output_type": "stream",
     "text": [
      "\u001B[32m2025-09-27 10:18:25.084\u001B[0m | \u001B[1mINFO    \u001B[0m | \u001B[36mfine_tune.modeling.train\u001B[0m:\u001B[36mtrain\u001B[0m:\u001B[36m271\u001B[0m - \u001B[1mEpoch 6/8 - Train Loss: 0.8807, Train Acc: 0.7344 - Val Loss: 0.9320, Val Acc: 0.7778 - LR: 0.001000 - Time: 22.29s\u001B[0m\n"
     ]
    },
    {
     "name": "stderr",
     "output_type": "stream",
     "text": [
      "                                                                                 \r"
     ]
    },
    {
     "name": "stdout",
     "output_type": "stream",
     "text": [
      "\u001B[32m2025-09-27 10:18:47.244\u001B[0m | \u001B[1mINFO    \u001B[0m | \u001B[36mfine_tune.modeling.train\u001B[0m:\u001B[36mtrain\u001B[0m:\u001B[36m271\u001B[0m - \u001B[1mEpoch 7/8 - Train Loss: 0.8409, Train Acc: 0.8125 - Val Loss: 0.9216, Val Acc: 0.7778 - LR: 0.001000 - Time: 22.16s\u001B[0m\n"
     ]
    },
    {
     "name": "stderr",
     "output_type": "stream",
     "text": [
      "                                                                                 \r"
     ]
    },
    {
     "name": "stdout",
     "output_type": "stream",
     "text": [
      "\u001B[32m2025-09-27 10:19:09.688\u001B[0m | \u001B[1mINFO    \u001B[0m | \u001B[36mfine_tune.modeling.train\u001B[0m:\u001B[36mtrain\u001B[0m:\u001B[36m271\u001B[0m - \u001B[1mEpoch 8/8 - Train Loss: 0.7940, Train Acc: 0.8594 - Val Loss: 0.9052, Val Acc: 0.7778 - LR: 0.001000 - Time: 22.44s\u001B[0m\n",
      "\u001B[32m2025-09-27 10:19:09.689\u001B[0m | \u001B[1mINFO    \u001B[0m | \u001B[36mfine_tune.modeling.train\u001B[0m:\u001B[36mtrain\u001B[0m:\u001B[36m298\u001B[0m - \u001B[1mОбучение завершено за 179.96 секунд\u001B[0m\n",
      "\u001B[32m2025-09-27 10:19:09.689\u001B[0m | \u001B[1mINFO    \u001B[0m | \u001B[36mfine_tune.modeling.train\u001B[0m:\u001B[36mtrain\u001B[0m:\u001B[36m299\u001B[0m - \u001B[1mЛучшая точность валидации: 0.7778\u001B[0m\n",
      "✅ Успешно завершен! Лучшая точность: 0.7778\n",
      "\n",
      "============================================================\n",
      "Эксперимент: unfrozen_backbone | Модель: resnet50.a1_in1k\n",
      "============================================================\n",
      "\u001B[32m2025-09-27 10:19:10.713\u001B[0m | \u001B[1mINFO    \u001B[0m | \u001B[36mfine_tune.dataset\u001B[0m:\u001B[36m__init__\u001B[0m:\u001B[36m48\u001B[0m - \u001B[1mЗагружено 92 образцов из 3 классов\u001B[0m\n",
      "\u001B[32m2025-09-27 10:19:10.713\u001B[0m | \u001B[1mINFO    \u001B[0m | \u001B[36mfine_tune.dataset\u001B[0m:\u001B[36mcreate_data_loaders\u001B[0m:\u001B[36m220\u001B[0m - \u001B[1mСозданы DataLoader'ы:\u001B[0m\n",
      "\u001B[32m2025-09-27 10:19:10.714\u001B[0m | \u001B[1mINFO    \u001B[0m | \u001B[36mfine_tune.dataset\u001B[0m:\u001B[36mcreate_data_loaders\u001B[0m:\u001B[36m221\u001B[0m - \u001B[1m  Train: 2 батчей (73 образцов)\u001B[0m\n",
      "\u001B[32m2025-09-27 10:19:10.714\u001B[0m | \u001B[1mINFO    \u001B[0m | \u001B[36mfine_tune.dataset\u001B[0m:\u001B[36mcreate_data_loaders\u001B[0m:\u001B[36m222\u001B[0m - \u001B[1m  Val: 1 батчей (9 образцов)\u001B[0m\n",
      "\u001B[32m2025-09-27 10:19:10.714\u001B[0m | \u001B[1mINFO    \u001B[0m | \u001B[36mfine_tune.dataset\u001B[0m:\u001B[36mcreate_data_loaders\u001B[0m:\u001B[36m223\u001B[0m - \u001B[1m  Test: 1 батчей (10 образцов)\u001B[0m\n",
      "\u001B[32m2025-09-27 10:19:10.714\u001B[0m | \u001B[1mINFO    \u001B[0m | \u001B[36mfine_tune.modeling.train\u001B[0m:\u001B[36m__init__\u001B[0m:\u001B[36m51\u001B[0m - \u001B[1mИспользуется устройство: cpu\u001B[0m\n",
      "\u001B[32m2025-09-27 10:19:10.715\u001B[0m | \u001B[1mINFO    \u001B[0m | \u001B[36mfine_tune.modeling.train\u001B[0m:\u001B[36msetup_model\u001B[0m:\u001B[36m81\u001B[0m - \u001B[1mСоздаем модель: resnet50.a1_in1k\u001B[0m\n",
      "\u001B[32m2025-09-27 10:19:11.308\u001B[0m | \u001B[1mINFO    \u001B[0m | \u001B[36mfine_tune.modeling.models\u001B[0m:\u001B[36m__init__\u001B[0m:\u001B[36m39\u001B[0m - \u001B[1mBackbone модели resnet50.a1_in1k разморожен для дообучения\u001B[0m\n",
      "\u001B[32m2025-09-27 10:19:11.308\u001B[0m | \u001B[1mINFO    \u001B[0m | \u001B[36mfine_tune.modeling.models\u001B[0m:\u001B[36m__init__\u001B[0m:\u001B[36m94\u001B[0m - \u001B[1mСоздана ResNet модель: resnet50.a1_in1k\u001B[0m\n",
      "\u001B[32m2025-09-27 10:19:11.310\u001B[0m | \u001B[1mINFO    \u001B[0m | \u001B[36mfine_tune.modeling.models\u001B[0m:\u001B[36mprint_model_summary\u001B[0m:\u001B[36m181\u001B[0m - \u001B[1m==================================================\u001B[0m\n",
      "\u001B[32m2025-09-27 10:19:11.310\u001B[0m | \u001B[1mINFO    \u001B[0m | \u001B[36mfine_tune.modeling.models\u001B[0m:\u001B[36mprint_model_summary\u001B[0m:\u001B[36m182\u001B[0m - \u001B[1mСВОДКА МОДЕЛИ\u001B[0m\n",
      "\u001B[32m2025-09-27 10:19:11.310\u001B[0m | \u001B[1mINFO    \u001B[0m | \u001B[36mfine_tune.modeling.models\u001B[0m:\u001B[36mprint_model_summary\u001B[0m:\u001B[36m183\u001B[0m - \u001B[1m==================================================\u001B[0m\n",
      "\u001B[32m2025-09-27 10:19:11.310\u001B[0m | \u001B[1mINFO    \u001B[0m | \u001B[36mfine_tune.modeling.models\u001B[0m:\u001B[36mprint_model_summary\u001B[0m:\u001B[36m184\u001B[0m - \u001B[1mАрхитектура: resnet50.a1_in1k\u001B[0m\n",
      "\u001B[32m2025-09-27 10:19:11.310\u001B[0m | \u001B[1mINFO    \u001B[0m | \u001B[36mfine_tune.modeling.models\u001B[0m:\u001B[36mprint_model_summary\u001B[0m:\u001B[36m185\u001B[0m - \u001B[1mВходной размер: (3, 224, 224)\u001B[0m\n",
      "\u001B[32m2025-09-27 10:19:11.310\u001B[0m | \u001B[1mINFO    \u001B[0m | \u001B[36mfine_tune.modeling.models\u001B[0m:\u001B[36mprint_model_summary\u001B[0m:\u001B[36m186\u001B[0m - \u001B[1mКоличество классов: 3\u001B[0m\n",
      "\u001B[32m2025-09-27 10:19:11.310\u001B[0m | \u001B[1mINFO    \u001B[0m | \u001B[36mfine_tune.modeling.models\u001B[0m:\u001B[36mprint_model_summary\u001B[0m:\u001B[36m187\u001B[0m - \u001B[1mВсего параметров: 23,514,179\u001B[0m\n",
      "\u001B[32m2025-09-27 10:19:11.310\u001B[0m | \u001B[1mINFO    \u001B[0m | \u001B[36mfine_tune.modeling.models\u001B[0m:\u001B[36mprint_model_summary\u001B[0m:\u001B[36m188\u001B[0m - \u001B[1mОбучаемых параметров: 23,514,179\u001B[0m\n",
      "\u001B[32m2025-09-27 10:19:11.310\u001B[0m | \u001B[1mINFO    \u001B[0m | \u001B[36mfine_tune.modeling.models\u001B[0m:\u001B[36mprint_model_summary\u001B[0m:\u001B[36m189\u001B[0m - \u001B[1mЗамороженных параметров: 0\u001B[0m\n",
      "\u001B[32m2025-09-27 10:19:11.310\u001B[0m | \u001B[1mINFO    \u001B[0m | \u001B[36mfine_tune.modeling.models\u001B[0m:\u001B[36mprint_model_summary\u001B[0m:\u001B[36m190\u001B[0m - \u001B[1mПроцент обучаемых: 100.00%\u001B[0m\n",
      "\u001B[32m2025-09-27 10:19:11.310\u001B[0m | \u001B[1mINFO    \u001B[0m | \u001B[36mfine_tune.modeling.models\u001B[0m:\u001B[36mprint_model_summary\u001B[0m:\u001B[36m191\u001B[0m - \u001B[1m==================================================\u001B[0m\n",
      "\u001B[32m2025-09-27 10:19:11.310\u001B[0m | \u001B[1mINFO    \u001B[0m | \u001B[36mfine_tune.modeling.train\u001B[0m:\u001B[36msetup_optimizer_and_scheduler\u001B[0m:\u001B[36m143\u001B[0m - \u001B[1mОптимизатор: adamw\u001B[0m\n",
      "\u001B[32m2025-09-27 10:19:11.310\u001B[0m | \u001B[1mINFO    \u001B[0m | \u001B[36mfine_tune.modeling.train\u001B[0m:\u001B[36msetup_optimizer_and_scheduler\u001B[0m:\u001B[36m144\u001B[0m - \u001B[1mПланировщик: cosine\u001B[0m\n",
      "\u001B[32m2025-09-27 10:19:11.310\u001B[0m | \u001B[1mINFO    \u001B[0m | \u001B[36mfine_tune.modeling.train\u001B[0m:\u001B[36mtrain\u001B[0m:\u001B[36m232\u001B[0m - \u001B[1mНачинаем обучение модели resnet50.a1_in1k\u001B[0m\n",
      "\u001B[32m2025-09-27 10:19:11.310\u001B[0m | \u001B[1mINFO    \u001B[0m | \u001B[36mfine_tune.modeling.train\u001B[0m:\u001B[36mtrain\u001B[0m:\u001B[36m233\u001B[0m - \u001B[1mЭпох: 5\u001B[0m\n",
      "\u001B[32m2025-09-27 10:19:11.310\u001B[0m | \u001B[1mINFO    \u001B[0m | \u001B[36mfine_tune.modeling.train\u001B[0m:\u001B[36mtrain\u001B[0m:\u001B[36m234\u001B[0m - \u001B[1mРазмер батча: 32\u001B[0m\n",
      "\u001B[32m2025-09-27 10:19:11.310\u001B[0m | \u001B[1mINFO    \u001B[0m | \u001B[36mfine_tune.modeling.train\u001B[0m:\u001B[36mtrain\u001B[0m:\u001B[36m235\u001B[0m - \u001B[1mLearning rate: 0.0001\u001B[0m\n"
     ]
    },
    {
     "name": "stderr",
     "output_type": "stream",
     "text": [
      "                                                                                 \r"
     ]
    },
    {
     "name": "stdout",
     "output_type": "stream",
     "text": [
      "\u001B[32m2025-09-27 10:19:37.634\u001B[0m | \u001B[1mINFO    \u001B[0m | \u001B[36mfine_tune.modeling.train\u001B[0m:\u001B[36mtrain\u001B[0m:\u001B[36m271\u001B[0m - \u001B[1mEpoch 1/5 - Train Loss: 1.1042, Train Acc: 0.2969 - Val Loss: 1.0784, Val Acc: 0.5556 - LR: 0.000090 - Time: 26.32s\u001B[0m\n"
     ]
    },
    {
     "name": "stderr",
     "output_type": "stream",
     "text": [
      "                                                                                 \r"
     ]
    },
    {
     "name": "stdout",
     "output_type": "stream",
     "text": [
      "\u001B[32m2025-09-27 10:20:03.375\u001B[0m | \u001B[1mINFO    \u001B[0m | \u001B[36mfine_tune.modeling.train\u001B[0m:\u001B[36mtrain\u001B[0m:\u001B[36m271\u001B[0m - \u001B[1mEpoch 2/5 - Train Loss: 1.0881, Train Acc: 0.3906 - Val Loss: 1.0695, Val Acc: 0.4444 - LR: 0.000065 - Time: 25.74s\u001B[0m\n"
     ]
    },
    {
     "name": "stderr",
     "output_type": "stream",
     "text": [
      "                                                                                 \r"
     ]
    },
    {
     "name": "stdout",
     "output_type": "stream",
     "text": [
      "\u001B[32m2025-09-27 10:20:29.154\u001B[0m | \u001B[1mINFO    \u001B[0m | \u001B[36mfine_tune.modeling.train\u001B[0m:\u001B[36mtrain\u001B[0m:\u001B[36m271\u001B[0m - \u001B[1mEpoch 3/5 - Train Loss: 1.0851, Train Acc: 0.4531 - Val Loss: 1.0664, Val Acc: 0.4444 - LR: 0.000035 - Time: 25.78s\u001B[0m\n"
     ]
    },
    {
     "name": "stderr",
     "output_type": "stream",
     "text": [
      "                                                                                 \r"
     ]
    },
    {
     "name": "stdout",
     "output_type": "stream",
     "text": [
      "\u001B[32m2025-09-27 10:20:54.623\u001B[0m | \u001B[1mINFO    \u001B[0m | \u001B[36mfine_tune.modeling.train\u001B[0m:\u001B[36mtrain\u001B[0m:\u001B[36m271\u001B[0m - \u001B[1mEpoch 4/5 - Train Loss: 1.0754, Train Acc: 0.5156 - Val Loss: 1.0648, Val Acc: 0.4444 - LR: 0.000010 - Time: 25.47s\u001B[0m\n"
     ]
    },
    {
     "name": "stderr",
     "output_type": "stream",
     "text": [
      "                                                                                 \r"
     ]
    },
    {
     "name": "stdout",
     "output_type": "stream",
     "text": [
      "\u001B[32m2025-09-27 10:21:20.007\u001B[0m | \u001B[1mINFO    \u001B[0m | \u001B[36mfine_tune.modeling.train\u001B[0m:\u001B[36mtrain\u001B[0m:\u001B[36m271\u001B[0m - \u001B[1mEpoch 5/5 - Train Loss: 1.0772, Train Acc: 0.4219 - Val Loss: 1.0674, Val Acc: 0.5556 - LR: 0.000000 - Time: 25.38s\u001B[0m\n",
      "\u001B[32m2025-09-27 10:21:20.224\u001B[0m | \u001B[1mINFO    \u001B[0m | \u001B[36mfine_tune.modeling.train\u001B[0m:\u001B[36msave_checkpoint\u001B[0m:\u001B[36m326\u001B[0m - \u001B[1mЧекпоинт сохранен: /Users/konopsky/University/AI_new/fine_tune/models/resnet50.a1_in1k_epoch_5.pth\u001B[0m\n",
      "\u001B[32m2025-09-27 10:21:20.225\u001B[0m | \u001B[1mINFO    \u001B[0m | \u001B[36mfine_tune.modeling.train\u001B[0m:\u001B[36mtrain\u001B[0m:\u001B[36m298\u001B[0m - \u001B[1mОбучение завершено за 128.91 секунд\u001B[0m\n",
      "\u001B[32m2025-09-27 10:21:20.225\u001B[0m | \u001B[1mINFO    \u001B[0m | \u001B[36mfine_tune.modeling.train\u001B[0m:\u001B[36mtrain\u001B[0m:\u001B[36m299\u001B[0m - \u001B[1mЛучшая точность валидации: 0.5556\u001B[0m\n",
      "✅ Успешно завершен! Лучшая точность: 0.5556\n",
      "\n",
      "============================================================\n",
      "Эксперимент: high_weight_decay | Модель: resnet50.a1_in1k\n",
      "============================================================\n",
      "\u001B[32m2025-09-27 10:21:21.253\u001B[0m | \u001B[1mINFO    \u001B[0m | \u001B[36mfine_tune.dataset\u001B[0m:\u001B[36m__init__\u001B[0m:\u001B[36m48\u001B[0m - \u001B[1mЗагружено 92 образцов из 3 классов\u001B[0m\n",
      "\u001B[32m2025-09-27 10:21:21.253\u001B[0m | \u001B[1mINFO    \u001B[0m | \u001B[36mfine_tune.dataset\u001B[0m:\u001B[36mcreate_data_loaders\u001B[0m:\u001B[36m220\u001B[0m - \u001B[1mСозданы DataLoader'ы:\u001B[0m\n",
      "\u001B[32m2025-09-27 10:21:21.254\u001B[0m | \u001B[1mINFO    \u001B[0m | \u001B[36mfine_tune.dataset\u001B[0m:\u001B[36mcreate_data_loaders\u001B[0m:\u001B[36m221\u001B[0m - \u001B[1m  Train: 2 батчей (73 образцов)\u001B[0m\n",
      "\u001B[32m2025-09-27 10:21:21.254\u001B[0m | \u001B[1mINFO    \u001B[0m | \u001B[36mfine_tune.dataset\u001B[0m:\u001B[36mcreate_data_loaders\u001B[0m:\u001B[36m222\u001B[0m - \u001B[1m  Val: 1 батчей (9 образцов)\u001B[0m\n",
      "\u001B[32m2025-09-27 10:21:21.254\u001B[0m | \u001B[1mINFO    \u001B[0m | \u001B[36mfine_tune.dataset\u001B[0m:\u001B[36mcreate_data_loaders\u001B[0m:\u001B[36m223\u001B[0m - \u001B[1m  Test: 1 батчей (10 образцов)\u001B[0m\n",
      "\u001B[32m2025-09-27 10:21:21.254\u001B[0m | \u001B[1mINFO    \u001B[0m | \u001B[36mfine_tune.modeling.train\u001B[0m:\u001B[36m__init__\u001B[0m:\u001B[36m51\u001B[0m - \u001B[1mИспользуется устройство: cpu\u001B[0m\n",
      "\u001B[32m2025-09-27 10:21:21.255\u001B[0m | \u001B[1mINFO    \u001B[0m | \u001B[36mfine_tune.modeling.train\u001B[0m:\u001B[36msetup_model\u001B[0m:\u001B[36m81\u001B[0m - \u001B[1mСоздаем модель: resnet50.a1_in1k\u001B[0m\n",
      "\u001B[32m2025-09-27 10:21:21.820\u001B[0m | \u001B[1mINFO    \u001B[0m | \u001B[36mfine_tune.modeling.models\u001B[0m:\u001B[36m__init__\u001B[0m:\u001B[36m37\u001B[0m - \u001B[1mBackbone модели resnet50.a1_in1k заморожен\u001B[0m\n",
      "\u001B[32m2025-09-27 10:21:21.820\u001B[0m | \u001B[1mINFO    \u001B[0m | \u001B[36mfine_tune.modeling.models\u001B[0m:\u001B[36m__init__\u001B[0m:\u001B[36m94\u001B[0m - \u001B[1mСоздана ResNet модель: resnet50.a1_in1k\u001B[0m\n",
      "\u001B[32m2025-09-27 10:21:21.822\u001B[0m | \u001B[1mINFO    \u001B[0m | \u001B[36mfine_tune.modeling.models\u001B[0m:\u001B[36mprint_model_summary\u001B[0m:\u001B[36m181\u001B[0m - \u001B[1m==================================================\u001B[0m\n",
      "\u001B[32m2025-09-27 10:21:21.822\u001B[0m | \u001B[1mINFO    \u001B[0m | \u001B[36mfine_tune.modeling.models\u001B[0m:\u001B[36mprint_model_summary\u001B[0m:\u001B[36m182\u001B[0m - \u001B[1mСВОДКА МОДЕЛИ\u001B[0m\n",
      "\u001B[32m2025-09-27 10:21:21.822\u001B[0m | \u001B[1mINFO    \u001B[0m | \u001B[36mfine_tune.modeling.models\u001B[0m:\u001B[36mprint_model_summary\u001B[0m:\u001B[36m183\u001B[0m - \u001B[1m==================================================\u001B[0m\n",
      "\u001B[32m2025-09-27 10:21:21.822\u001B[0m | \u001B[1mINFO    \u001B[0m | \u001B[36mfine_tune.modeling.models\u001B[0m:\u001B[36mprint_model_summary\u001B[0m:\u001B[36m184\u001B[0m - \u001B[1mАрхитектура: resnet50.a1_in1k\u001B[0m\n",
      "\u001B[32m2025-09-27 10:21:21.822\u001B[0m | \u001B[1mINFO    \u001B[0m | \u001B[36mfine_tune.modeling.models\u001B[0m:\u001B[36mprint_model_summary\u001B[0m:\u001B[36m185\u001B[0m - \u001B[1mВходной размер: (3, 224, 224)\u001B[0m\n",
      "\u001B[32m2025-09-27 10:21:21.822\u001B[0m | \u001B[1mINFO    \u001B[0m | \u001B[36mfine_tune.modeling.models\u001B[0m:\u001B[36mprint_model_summary\u001B[0m:\u001B[36m186\u001B[0m - \u001B[1mКоличество классов: 3\u001B[0m\n",
      "\u001B[32m2025-09-27 10:21:21.822\u001B[0m | \u001B[1mINFO    \u001B[0m | \u001B[36mfine_tune.modeling.models\u001B[0m:\u001B[36mprint_model_summary\u001B[0m:\u001B[36m187\u001B[0m - \u001B[1mВсего параметров: 23,514,179\u001B[0m\n",
      "\u001B[32m2025-09-27 10:21:21.822\u001B[0m | \u001B[1mINFO    \u001B[0m | \u001B[36mfine_tune.modeling.models\u001B[0m:\u001B[36mprint_model_summary\u001B[0m:\u001B[36m188\u001B[0m - \u001B[1mОбучаемых параметров: 6,147\u001B[0m\n",
      "\u001B[32m2025-09-27 10:21:21.822\u001B[0m | \u001B[1mINFO    \u001B[0m | \u001B[36mfine_tune.modeling.models\u001B[0m:\u001B[36mprint_model_summary\u001B[0m:\u001B[36m189\u001B[0m - \u001B[1mЗамороженных параметров: 23,508,032\u001B[0m\n",
      "\u001B[32m2025-09-27 10:21:21.822\u001B[0m | \u001B[1mINFO    \u001B[0m | \u001B[36mfine_tune.modeling.models\u001B[0m:\u001B[36mprint_model_summary\u001B[0m:\u001B[36m190\u001B[0m - \u001B[1mПроцент обучаемых: 0.03%\u001B[0m\n",
      "\u001B[32m2025-09-27 10:21:21.822\u001B[0m | \u001B[1mINFO    \u001B[0m | \u001B[36mfine_tune.modeling.models\u001B[0m:\u001B[36mprint_model_summary\u001B[0m:\u001B[36m191\u001B[0m - \u001B[1m==================================================\u001B[0m\n",
      "\u001B[32m2025-09-27 10:21:21.822\u001B[0m | \u001B[1mINFO    \u001B[0m | \u001B[36mfine_tune.modeling.train\u001B[0m:\u001B[36msetup_optimizer_and_scheduler\u001B[0m:\u001B[36m143\u001B[0m - \u001B[1mОптимизатор: adamw\u001B[0m\n",
      "\u001B[32m2025-09-27 10:21:21.822\u001B[0m | \u001B[1mINFO    \u001B[0m | \u001B[36mfine_tune.modeling.train\u001B[0m:\u001B[36msetup_optimizer_and_scheduler\u001B[0m:\u001B[36m144\u001B[0m - \u001B[1mПланировщик: cosine\u001B[0m\n",
      "\u001B[32m2025-09-27 10:21:21.822\u001B[0m | \u001B[1mINFO    \u001B[0m | \u001B[36mfine_tune.modeling.train\u001B[0m:\u001B[36mtrain\u001B[0m:\u001B[36m232\u001B[0m - \u001B[1mНачинаем обучение модели resnet50.a1_in1k\u001B[0m\n",
      "\u001B[32m2025-09-27 10:21:21.822\u001B[0m | \u001B[1mINFO    \u001B[0m | \u001B[36mfine_tune.modeling.train\u001B[0m:\u001B[36mtrain\u001B[0m:\u001B[36m233\u001B[0m - \u001B[1mЭпох: 5\u001B[0m\n",
      "\u001B[32m2025-09-27 10:21:21.822\u001B[0m | \u001B[1mINFO    \u001B[0m | \u001B[36mfine_tune.modeling.train\u001B[0m:\u001B[36mtrain\u001B[0m:\u001B[36m234\u001B[0m - \u001B[1mРазмер батча: 32\u001B[0m\n",
      "\u001B[32m2025-09-27 10:21:21.822\u001B[0m | \u001B[1mINFO    \u001B[0m | \u001B[36mfine_tune.modeling.train\u001B[0m:\u001B[36mtrain\u001B[0m:\u001B[36m235\u001B[0m - \u001B[1mLearning rate: 0.001\u001B[0m\n"
     ]
    },
    {
     "name": "stderr",
     "output_type": "stream",
     "text": [
      "                                                                                 \r"
     ]
    },
    {
     "name": "stdout",
     "output_type": "stream",
     "text": [
      "\u001B[32m2025-09-27 10:21:43.952\u001B[0m | \u001B[1mINFO    \u001B[0m | \u001B[36mfine_tune.modeling.train\u001B[0m:\u001B[36mtrain\u001B[0m:\u001B[36m271\u001B[0m - \u001B[1mEpoch 1/5 - Train Loss: 1.0974, Train Acc: 0.2344 - Val Loss: 1.0397, Val Acc: 0.8889 - LR: 0.000905 - Time: 22.13s\u001B[0m\n"
     ]
    },
    {
     "name": "stderr",
     "output_type": "stream",
     "text": [
      "                                                                                 \r"
     ]
    },
    {
     "name": "stdout",
     "output_type": "stream",
     "text": [
      "\u001B[32m2025-09-27 10:22:06.222\u001B[0m | \u001B[1mINFO    \u001B[0m | \u001B[36mfine_tune.modeling.train\u001B[0m:\u001B[36mtrain\u001B[0m:\u001B[36m271\u001B[0m - \u001B[1mEpoch 2/5 - Train Loss: 1.0354, Train Acc: 0.6250 - Val Loss: 0.9967, Val Acc: 0.8889 - LR: 0.000655 - Time: 22.27s\u001B[0m\n"
     ]
    },
    {
     "name": "stderr",
     "output_type": "stream",
     "text": [
      "                                                                                 \r"
     ]
    },
    {
     "name": "stdout",
     "output_type": "stream",
     "text": [
      "\u001B[32m2025-09-27 10:22:28.400\u001B[0m | \u001B[1mINFO    \u001B[0m | \u001B[36mfine_tune.modeling.train\u001B[0m:\u001B[36mtrain\u001B[0m:\u001B[36m271\u001B[0m - \u001B[1mEpoch 3/5 - Train Loss: 0.9947, Train Acc: 0.6250 - Val Loss: 0.9706, Val Acc: 0.8889 - LR: 0.000345 - Time: 22.18s\u001B[0m\n"
     ]
    },
    {
     "name": "stderr",
     "output_type": "stream",
     "text": [
      "                                                                                 \r"
     ]
    },
    {
     "name": "stdout",
     "output_type": "stream",
     "text": [
      "\u001B[32m2025-09-27 10:22:51.769\u001B[0m | \u001B[1mINFO    \u001B[0m | \u001B[36mfine_tune.modeling.train\u001B[0m:\u001B[36mtrain\u001B[0m:\u001B[36m271\u001B[0m - \u001B[1mEpoch 4/5 - Train Loss: 0.9636, Train Acc: 0.7500 - Val Loss: 0.9588, Val Acc: 1.0000 - LR: 0.000095 - Time: 23.36s\u001B[0m\n"
     ]
    },
    {
     "name": "stderr",
     "output_type": "stream",
     "text": [
      "                                                                                 \r"
     ]
    },
    {
     "name": "stdout",
     "output_type": "stream",
     "text": [
      "\u001B[32m2025-09-27 10:23:14.306\u001B[0m | \u001B[1mINFO    \u001B[0m | \u001B[36mfine_tune.modeling.train\u001B[0m:\u001B[36mtrain\u001B[0m:\u001B[36m271\u001B[0m - \u001B[1mEpoch 5/5 - Train Loss: 0.9445, Train Acc: 0.7500 - Val Loss: 0.9595, Val Acc: 1.0000 - LR: 0.000000 - Time: 22.54s\u001B[0m\n",
      "\u001B[32m2025-09-27 10:23:14.377\u001B[0m | \u001B[1mINFO    \u001B[0m | \u001B[36mfine_tune.modeling.train\u001B[0m:\u001B[36msave_checkpoint\u001B[0m:\u001B[36m326\u001B[0m - \u001B[1mЧекпоинт сохранен: /Users/konopsky/University/AI_new/fine_tune/models/resnet50.a1_in1k_epoch_5.pth\u001B[0m\n",
      "\u001B[32m2025-09-27 10:23:14.377\u001B[0m | \u001B[1mINFO    \u001B[0m | \u001B[36mfine_tune.modeling.train\u001B[0m:\u001B[36mtrain\u001B[0m:\u001B[36m298\u001B[0m - \u001B[1mОбучение завершено за 112.55 секунд\u001B[0m\n",
      "\u001B[32m2025-09-27 10:23:14.377\u001B[0m | \u001B[1mINFO    \u001B[0m | \u001B[36mfine_tune.modeling.train\u001B[0m:\u001B[36mtrain\u001B[0m:\u001B[36m299\u001B[0m - \u001B[1mЛучшая точность валидации: 1.0000\u001B[0m\n",
      "✅ Успешно завершен! Лучшая точность: 1.0000\n",
      "\n",
      "============================================================\n",
      "Эксперимент: baseline | Модель: efficientnet_b0.ra_in1k\n",
      "============================================================\n",
      "\u001B[32m2025-09-27 10:23:15.384\u001B[0m | \u001B[1mINFO    \u001B[0m | \u001B[36mfine_tune.dataset\u001B[0m:\u001B[36m__init__\u001B[0m:\u001B[36m48\u001B[0m - \u001B[1mЗагружено 92 образцов из 3 классов\u001B[0m\n",
      "\u001B[32m2025-09-27 10:23:15.384\u001B[0m | \u001B[1mINFO    \u001B[0m | \u001B[36mfine_tune.dataset\u001B[0m:\u001B[36mcreate_data_loaders\u001B[0m:\u001B[36m220\u001B[0m - \u001B[1mСозданы DataLoader'ы:\u001B[0m\n",
      "\u001B[32m2025-09-27 10:23:15.384\u001B[0m | \u001B[1mINFO    \u001B[0m | \u001B[36mfine_tune.dataset\u001B[0m:\u001B[36mcreate_data_loaders\u001B[0m:\u001B[36m221\u001B[0m - \u001B[1m  Train: 2 батчей (73 образцов)\u001B[0m\n",
      "\u001B[32m2025-09-27 10:23:15.384\u001B[0m | \u001B[1mINFO    \u001B[0m | \u001B[36mfine_tune.dataset\u001B[0m:\u001B[36mcreate_data_loaders\u001B[0m:\u001B[36m222\u001B[0m - \u001B[1m  Val: 1 батчей (9 образцов)\u001B[0m\n",
      "\u001B[32m2025-09-27 10:23:15.384\u001B[0m | \u001B[1mINFO    \u001B[0m | \u001B[36mfine_tune.dataset\u001B[0m:\u001B[36mcreate_data_loaders\u001B[0m:\u001B[36m223\u001B[0m - \u001B[1m  Test: 1 батчей (10 образцов)\u001B[0m\n",
      "\u001B[32m2025-09-27 10:23:15.384\u001B[0m | \u001B[1mINFO    \u001B[0m | \u001B[36mfine_tune.modeling.train\u001B[0m:\u001B[36m__init__\u001B[0m:\u001B[36m51\u001B[0m - \u001B[1mИспользуется устройство: cpu\u001B[0m\n",
      "\u001B[32m2025-09-27 10:23:15.385\u001B[0m | \u001B[1mINFO    \u001B[0m | \u001B[36mfine_tune.modeling.train\u001B[0m:\u001B[36msetup_model\u001B[0m:\u001B[36m81\u001B[0m - \u001B[1mСоздаем модель: efficientnet_b0.ra_in1k\u001B[0m\n",
      "\u001B[32m2025-09-27 10:23:15.695\u001B[0m | \u001B[1mINFO    \u001B[0m | \u001B[36mfine_tune.modeling.models\u001B[0m:\u001B[36m__init__\u001B[0m:\u001B[36m37\u001B[0m - \u001B[1mBackbone модели efficientnet_b0.ra_in1k заморожен\u001B[0m\n",
      "\u001B[32m2025-09-27 10:23:15.696\u001B[0m | \u001B[1mINFO    \u001B[0m | \u001B[36mfine_tune.modeling.models\u001B[0m:\u001B[36m__init__\u001B[0m:\u001B[36m113\u001B[0m - \u001B[1mСоздана EfficientNet модель: efficientnet_b0.ra_in1k\u001B[0m\n",
      "\u001B[32m2025-09-27 10:23:15.697\u001B[0m | \u001B[1mINFO    \u001B[0m | \u001B[36mfine_tune.modeling.models\u001B[0m:\u001B[36mprint_model_summary\u001B[0m:\u001B[36m181\u001B[0m - \u001B[1m==================================================\u001B[0m\n",
      "\u001B[32m2025-09-27 10:23:15.697\u001B[0m | \u001B[1mINFO    \u001B[0m | \u001B[36mfine_tune.modeling.models\u001B[0m:\u001B[36mprint_model_summary\u001B[0m:\u001B[36m182\u001B[0m - \u001B[1mСВОДКА МОДЕЛИ\u001B[0m\n",
      "\u001B[32m2025-09-27 10:23:15.697\u001B[0m | \u001B[1mINFO    \u001B[0m | \u001B[36mfine_tune.modeling.models\u001B[0m:\u001B[36mprint_model_summary\u001B[0m:\u001B[36m183\u001B[0m - \u001B[1m==================================================\u001B[0m\n",
      "\u001B[32m2025-09-27 10:23:15.697\u001B[0m | \u001B[1mINFO    \u001B[0m | \u001B[36mfine_tune.modeling.models\u001B[0m:\u001B[36mprint_model_summary\u001B[0m:\u001B[36m184\u001B[0m - \u001B[1mАрхитектура: efficientnet_b0.ra_in1k\u001B[0m\n",
      "\u001B[32m2025-09-27 10:23:15.697\u001B[0m | \u001B[1mINFO    \u001B[0m | \u001B[36mfine_tune.modeling.models\u001B[0m:\u001B[36mprint_model_summary\u001B[0m:\u001B[36m185\u001B[0m - \u001B[1mВходной размер: (3, 224, 224)\u001B[0m\n",
      "\u001B[32m2025-09-27 10:23:15.697\u001B[0m | \u001B[1mINFO    \u001B[0m | \u001B[36mfine_tune.modeling.models\u001B[0m:\u001B[36mprint_model_summary\u001B[0m:\u001B[36m186\u001B[0m - \u001B[1mКоличество классов: 3\u001B[0m\n",
      "\u001B[32m2025-09-27 10:23:15.697\u001B[0m | \u001B[1mINFO    \u001B[0m | \u001B[36mfine_tune.modeling.models\u001B[0m:\u001B[36mprint_model_summary\u001B[0m:\u001B[36m187\u001B[0m - \u001B[1mВсего параметров: 4,011,391\u001B[0m\n",
      "\u001B[32m2025-09-27 10:23:15.697\u001B[0m | \u001B[1mINFO    \u001B[0m | \u001B[36mfine_tune.modeling.models\u001B[0m:\u001B[36mprint_model_summary\u001B[0m:\u001B[36m188\u001B[0m - \u001B[1mОбучаемых параметров: 413,443\u001B[0m\n",
      "\u001B[32m2025-09-27 10:23:15.697\u001B[0m | \u001B[1mINFO    \u001B[0m | \u001B[36mfine_tune.modeling.models\u001B[0m:\u001B[36mprint_model_summary\u001B[0m:\u001B[36m189\u001B[0m - \u001B[1mЗамороженных параметров: 3,597,948\u001B[0m\n",
      "\u001B[32m2025-09-27 10:23:15.697\u001B[0m | \u001B[1mINFO    \u001B[0m | \u001B[36mfine_tune.modeling.models\u001B[0m:\u001B[36mprint_model_summary\u001B[0m:\u001B[36m190\u001B[0m - \u001B[1mПроцент обучаемых: 10.31%\u001B[0m\n",
      "\u001B[32m2025-09-27 10:23:15.697\u001B[0m | \u001B[1mINFO    \u001B[0m | \u001B[36mfine_tune.modeling.models\u001B[0m:\u001B[36mprint_model_summary\u001B[0m:\u001B[36m191\u001B[0m - \u001B[1m==================================================\u001B[0m\n",
      "\u001B[32m2025-09-27 10:23:15.698\u001B[0m | \u001B[1mINFO    \u001B[0m | \u001B[36mfine_tune.modeling.train\u001B[0m:\u001B[36msetup_optimizer_and_scheduler\u001B[0m:\u001B[36m143\u001B[0m - \u001B[1mОптимизатор: adamw\u001B[0m\n",
      "\u001B[32m2025-09-27 10:23:15.698\u001B[0m | \u001B[1mINFO    \u001B[0m | \u001B[36mfine_tune.modeling.train\u001B[0m:\u001B[36msetup_optimizer_and_scheduler\u001B[0m:\u001B[36m144\u001B[0m - \u001B[1mПланировщик: cosine\u001B[0m\n",
      "\u001B[32m2025-09-27 10:23:15.698\u001B[0m | \u001B[1mINFO    \u001B[0m | \u001B[36mfine_tune.modeling.train\u001B[0m:\u001B[36mtrain\u001B[0m:\u001B[36m232\u001B[0m - \u001B[1mНачинаем обучение модели efficientnet_b0.ra_in1k\u001B[0m\n",
      "\u001B[32m2025-09-27 10:23:15.698\u001B[0m | \u001B[1mINFO    \u001B[0m | \u001B[36mfine_tune.modeling.train\u001B[0m:\u001B[36mtrain\u001B[0m:\u001B[36m233\u001B[0m - \u001B[1mЭпох: 5\u001B[0m\n",
      "\u001B[32m2025-09-27 10:23:15.698\u001B[0m | \u001B[1mINFO    \u001B[0m | \u001B[36mfine_tune.modeling.train\u001B[0m:\u001B[36mtrain\u001B[0m:\u001B[36m234\u001B[0m - \u001B[1mРазмер батча: 32\u001B[0m\n",
      "\u001B[32m2025-09-27 10:23:15.698\u001B[0m | \u001B[1mINFO    \u001B[0m | \u001B[36mfine_tune.modeling.train\u001B[0m:\u001B[36mtrain\u001B[0m:\u001B[36m235\u001B[0m - \u001B[1mLearning rate: 0.001\u001B[0m\n"
     ]
    },
    {
     "name": "stderr",
     "output_type": "stream",
     "text": [
      "                                                                                 \r"
     ]
    },
    {
     "name": "stdout",
     "output_type": "stream",
     "text": [
      "\u001B[32m2025-09-27 10:23:37.075\u001B[0m | \u001B[1mINFO    \u001B[0m | \u001B[36mfine_tune.modeling.train\u001B[0m:\u001B[36mtrain\u001B[0m:\u001B[36m271\u001B[0m - \u001B[1mEpoch 1/5 - Train Loss: 3.3932, Train Acc: 0.4062 - Val Loss: 0.9271, Val Acc: 0.7778 - LR: 0.000905 - Time: 21.38s\u001B[0m\n"
     ]
    },
    {
     "name": "stderr",
     "output_type": "stream",
     "text": [
      "                                                                                 \r"
     ]
    },
    {
     "name": "stdout",
     "output_type": "stream",
     "text": [
      "\u001B[32m2025-09-27 10:23:58.444\u001B[0m | \u001B[1mINFO    \u001B[0m | \u001B[36mfine_tune.modeling.train\u001B[0m:\u001B[36mtrain\u001B[0m:\u001B[36m271\u001B[0m - \u001B[1mEpoch 2/5 - Train Loss: 0.8011, Train Acc: 0.7656 - Val Loss: 0.4169, Val Acc: 0.8889 - LR: 0.000655 - Time: 21.37s\u001B[0m\n"
     ]
    },
    {
     "name": "stderr",
     "output_type": "stream",
     "text": [
      "                                                                                 \r"
     ]
    },
    {
     "name": "stdout",
     "output_type": "stream",
     "text": [
      "\u001B[32m2025-09-27 10:24:19.858\u001B[0m | \u001B[1mINFO    \u001B[0m | \u001B[36mfine_tune.modeling.train\u001B[0m:\u001B[36mtrain\u001B[0m:\u001B[36m271\u001B[0m - \u001B[1mEpoch 3/5 - Train Loss: 0.4918, Train Acc: 0.8438 - Val Loss: 0.0421, Val Acc: 1.0000 - LR: 0.000345 - Time: 21.41s\u001B[0m\n"
     ]
    },
    {
     "name": "stderr",
     "output_type": "stream",
     "text": [
      "                                                                                 \r"
     ]
    },
    {
     "name": "stdout",
     "output_type": "stream",
     "text": [
      "\u001B[32m2025-09-27 10:24:41.413\u001B[0m | \u001B[1mINFO    \u001B[0m | \u001B[36mfine_tune.modeling.train\u001B[0m:\u001B[36mtrain\u001B[0m:\u001B[36m271\u001B[0m - \u001B[1mEpoch 4/5 - Train Loss: 0.1406, Train Acc: 0.9531 - Val Loss: 0.0090, Val Acc: 1.0000 - LR: 0.000095 - Time: 21.55s\u001B[0m\n"
     ]
    },
    {
     "name": "stderr",
     "output_type": "stream",
     "text": [
      "                                                                                 \r"
     ]
    },
    {
     "name": "stdout",
     "output_type": "stream",
     "text": [
      "\u001B[32m2025-09-27 10:25:02.772\u001B[0m | \u001B[1mINFO    \u001B[0m | \u001B[36mfine_tune.modeling.train\u001B[0m:\u001B[36mtrain\u001B[0m:\u001B[36m271\u001B[0m - \u001B[1mEpoch 5/5 - Train Loss: 0.4324, Train Acc: 0.9062 - Val Loss: 0.0039, Val Acc: 1.0000 - LR: 0.000000 - Time: 21.36s\u001B[0m\n",
      "\u001B[32m2025-09-27 10:25:02.805\u001B[0m | \u001B[1mINFO    \u001B[0m | \u001B[36mfine_tune.modeling.train\u001B[0m:\u001B[36msave_checkpoint\u001B[0m:\u001B[36m326\u001B[0m - \u001B[1mЧекпоинт сохранен: /Users/konopsky/University/AI_new/fine_tune/models/efficientnet_b0.ra_in1k_epoch_5.pth\u001B[0m\n",
      "\u001B[32m2025-09-27 10:25:02.805\u001B[0m | \u001B[1mINFO    \u001B[0m | \u001B[36mfine_tune.modeling.train\u001B[0m:\u001B[36mtrain\u001B[0m:\u001B[36m298\u001B[0m - \u001B[1mОбучение завершено за 107.11 секунд\u001B[0m\n",
      "\u001B[32m2025-09-27 10:25:02.805\u001B[0m | \u001B[1mINFO    \u001B[0m | \u001B[36mfine_tune.modeling.train\u001B[0m:\u001B[36mtrain\u001B[0m:\u001B[36m299\u001B[0m - \u001B[1mЛучшая точность валидации: 1.0000\u001B[0m\n",
      "✅ Успешно завершен! Лучшая точность: 1.0000\n",
      "\n",
      "============================================================\n",
      "Эксперимент: high_lr | Модель: efficientnet_b0.ra_in1k\n",
      "============================================================\n",
      "\u001B[32m2025-09-27 10:25:03.823\u001B[0m | \u001B[1mINFO    \u001B[0m | \u001B[36mfine_tune.dataset\u001B[0m:\u001B[36m__init__\u001B[0m:\u001B[36m48\u001B[0m - \u001B[1mЗагружено 92 образцов из 3 классов\u001B[0m\n",
      "\u001B[32m2025-09-27 10:25:03.823\u001B[0m | \u001B[1mINFO    \u001B[0m | \u001B[36mfine_tune.dataset\u001B[0m:\u001B[36mcreate_data_loaders\u001B[0m:\u001B[36m220\u001B[0m - \u001B[1mСозданы DataLoader'ы:\u001B[0m\n",
      "\u001B[32m2025-09-27 10:25:03.823\u001B[0m | \u001B[1mINFO    \u001B[0m | \u001B[36mfine_tune.dataset\u001B[0m:\u001B[36mcreate_data_loaders\u001B[0m:\u001B[36m221\u001B[0m - \u001B[1m  Train: 2 батчей (73 образцов)\u001B[0m\n",
      "\u001B[32m2025-09-27 10:25:03.823\u001B[0m | \u001B[1mINFO    \u001B[0m | \u001B[36mfine_tune.dataset\u001B[0m:\u001B[36mcreate_data_loaders\u001B[0m:\u001B[36m222\u001B[0m - \u001B[1m  Val: 1 батчей (9 образцов)\u001B[0m\n",
      "\u001B[32m2025-09-27 10:25:03.823\u001B[0m | \u001B[1mINFO    \u001B[0m | \u001B[36mfine_tune.dataset\u001B[0m:\u001B[36mcreate_data_loaders\u001B[0m:\u001B[36m223\u001B[0m - \u001B[1m  Test: 1 батчей (10 образцов)\u001B[0m\n",
      "\u001B[32m2025-09-27 10:25:03.823\u001B[0m | \u001B[1mINFO    \u001B[0m | \u001B[36mfine_tune.modeling.train\u001B[0m:\u001B[36m__init__\u001B[0m:\u001B[36m51\u001B[0m - \u001B[1mИспользуется устройство: cpu\u001B[0m\n",
      "\u001B[32m2025-09-27 10:25:03.824\u001B[0m | \u001B[1mINFO    \u001B[0m | \u001B[36mfine_tune.modeling.train\u001B[0m:\u001B[36msetup_model\u001B[0m:\u001B[36m81\u001B[0m - \u001B[1mСоздаем модель: efficientnet_b0.ra_in1k\u001B[0m\n",
      "\u001B[32m2025-09-27 10:25:04.176\u001B[0m | \u001B[1mINFO    \u001B[0m | \u001B[36mfine_tune.modeling.models\u001B[0m:\u001B[36m__init__\u001B[0m:\u001B[36m37\u001B[0m - \u001B[1mBackbone модели efficientnet_b0.ra_in1k заморожен\u001B[0m\n",
      "\u001B[32m2025-09-27 10:25:04.177\u001B[0m | \u001B[1mINFO    \u001B[0m | \u001B[36mfine_tune.modeling.models\u001B[0m:\u001B[36m__init__\u001B[0m:\u001B[36m113\u001B[0m - \u001B[1mСоздана EfficientNet модель: efficientnet_b0.ra_in1k\u001B[0m\n",
      "\u001B[32m2025-09-27 10:25:04.178\u001B[0m | \u001B[1mINFO    \u001B[0m | \u001B[36mfine_tune.modeling.models\u001B[0m:\u001B[36mprint_model_summary\u001B[0m:\u001B[36m181\u001B[0m - \u001B[1m==================================================\u001B[0m\n",
      "\u001B[32m2025-09-27 10:25:04.178\u001B[0m | \u001B[1mINFO    \u001B[0m | \u001B[36mfine_tune.modeling.models\u001B[0m:\u001B[36mprint_model_summary\u001B[0m:\u001B[36m182\u001B[0m - \u001B[1mСВОДКА МОДЕЛИ\u001B[0m\n",
      "\u001B[32m2025-09-27 10:25:04.178\u001B[0m | \u001B[1mINFO    \u001B[0m | \u001B[36mfine_tune.modeling.models\u001B[0m:\u001B[36mprint_model_summary\u001B[0m:\u001B[36m183\u001B[0m - \u001B[1m==================================================\u001B[0m\n",
      "\u001B[32m2025-09-27 10:25:04.178\u001B[0m | \u001B[1mINFO    \u001B[0m | \u001B[36mfine_tune.modeling.models\u001B[0m:\u001B[36mprint_model_summary\u001B[0m:\u001B[36m184\u001B[0m - \u001B[1mАрхитектура: efficientnet_b0.ra_in1k\u001B[0m\n",
      "\u001B[32m2025-09-27 10:25:04.178\u001B[0m | \u001B[1mINFO    \u001B[0m | \u001B[36mfine_tune.modeling.models\u001B[0m:\u001B[36mprint_model_summary\u001B[0m:\u001B[36m185\u001B[0m - \u001B[1mВходной размер: (3, 224, 224)\u001B[0m\n",
      "\u001B[32m2025-09-27 10:25:04.178\u001B[0m | \u001B[1mINFO    \u001B[0m | \u001B[36mfine_tune.modeling.models\u001B[0m:\u001B[36mprint_model_summary\u001B[0m:\u001B[36m186\u001B[0m - \u001B[1mКоличество классов: 3\u001B[0m\n",
      "\u001B[32m2025-09-27 10:25:04.178\u001B[0m | \u001B[1mINFO    \u001B[0m | \u001B[36mfine_tune.modeling.models\u001B[0m:\u001B[36mprint_model_summary\u001B[0m:\u001B[36m187\u001B[0m - \u001B[1mВсего параметров: 4,011,391\u001B[0m\n",
      "\u001B[32m2025-09-27 10:25:04.178\u001B[0m | \u001B[1mINFO    \u001B[0m | \u001B[36mfine_tune.modeling.models\u001B[0m:\u001B[36mprint_model_summary\u001B[0m:\u001B[36m188\u001B[0m - \u001B[1mОбучаемых параметров: 413,443\u001B[0m\n",
      "\u001B[32m2025-09-27 10:25:04.178\u001B[0m | \u001B[1mINFO    \u001B[0m | \u001B[36mfine_tune.modeling.models\u001B[0m:\u001B[36mprint_model_summary\u001B[0m:\u001B[36m189\u001B[0m - \u001B[1mЗамороженных параметров: 3,597,948\u001B[0m\n",
      "\u001B[32m2025-09-27 10:25:04.178\u001B[0m | \u001B[1mINFO    \u001B[0m | \u001B[36mfine_tune.modeling.models\u001B[0m:\u001B[36mprint_model_summary\u001B[0m:\u001B[36m190\u001B[0m - \u001B[1mПроцент обучаемых: 10.31%\u001B[0m\n",
      "\u001B[32m2025-09-27 10:25:04.178\u001B[0m | \u001B[1mINFO    \u001B[0m | \u001B[36mfine_tune.modeling.models\u001B[0m:\u001B[36mprint_model_summary\u001B[0m:\u001B[36m191\u001B[0m - \u001B[1m==================================================\u001B[0m\n",
      "\u001B[32m2025-09-27 10:25:04.179\u001B[0m | \u001B[1mINFO    \u001B[0m | \u001B[36mfine_tune.modeling.train\u001B[0m:\u001B[36msetup_optimizer_and_scheduler\u001B[0m:\u001B[36m143\u001B[0m - \u001B[1mОптимизатор: adamw\u001B[0m\n",
      "\u001B[32m2025-09-27 10:25:04.179\u001B[0m | \u001B[1mINFO    \u001B[0m | \u001B[36mfine_tune.modeling.train\u001B[0m:\u001B[36msetup_optimizer_and_scheduler\u001B[0m:\u001B[36m144\u001B[0m - \u001B[1mПланировщик: cosine\u001B[0m\n",
      "\u001B[32m2025-09-27 10:25:04.179\u001B[0m | \u001B[1mINFO    \u001B[0m | \u001B[36mfine_tune.modeling.train\u001B[0m:\u001B[36mtrain\u001B[0m:\u001B[36m232\u001B[0m - \u001B[1mНачинаем обучение модели efficientnet_b0.ra_in1k\u001B[0m\n",
      "\u001B[32m2025-09-27 10:25:04.179\u001B[0m | \u001B[1mINFO    \u001B[0m | \u001B[36mfine_tune.modeling.train\u001B[0m:\u001B[36mtrain\u001B[0m:\u001B[36m233\u001B[0m - \u001B[1mЭпох: 5\u001B[0m\n",
      "\u001B[32m2025-09-27 10:25:04.179\u001B[0m | \u001B[1mINFO    \u001B[0m | \u001B[36mfine_tune.modeling.train\u001B[0m:\u001B[36mtrain\u001B[0m:\u001B[36m234\u001B[0m - \u001B[1mРазмер батча: 32\u001B[0m\n",
      "\u001B[32m2025-09-27 10:25:04.179\u001B[0m | \u001B[1mINFO    \u001B[0m | \u001B[36mfine_tune.modeling.train\u001B[0m:\u001B[36mtrain\u001B[0m:\u001B[36m235\u001B[0m - \u001B[1mLearning rate: 0.01\u001B[0m\n"
     ]
    },
    {
     "name": "stderr",
     "output_type": "stream",
     "text": [
      "                                                                                 \r"
     ]
    },
    {
     "name": "stdout",
     "output_type": "stream",
     "text": [
      "\u001B[32m2025-09-27 10:25:25.507\u001B[0m | \u001B[1mINFO    \u001B[0m | \u001B[36mfine_tune.modeling.train\u001B[0m:\u001B[36mtrain\u001B[0m:\u001B[36m271\u001B[0m - \u001B[1mEpoch 1/5 - Train Loss: 2.3311, Train Acc: 0.5938 - Val Loss: 2.6331, Val Acc: 0.8889 - LR: 0.009045 - Time: 21.33s\u001B[0m\n"
     ]
    },
    {
     "name": "stderr",
     "output_type": "stream",
     "text": [
      "                                                                                 \r"
     ]
    },
    {
     "name": "stdout",
     "output_type": "stream",
     "text": [
      "\u001B[32m2025-09-27 10:25:46.814\u001B[0m | \u001B[1mINFO    \u001B[0m | \u001B[36mfine_tune.modeling.train\u001B[0m:\u001B[36mtrain\u001B[0m:\u001B[36m271\u001B[0m - \u001B[1mEpoch 2/5 - Train Loss: 0.9455, Train Acc: 0.9375 - Val Loss: 4.8722, Val Acc: 0.8889 - LR: 0.006545 - Time: 21.31s\u001B[0m\n"
     ]
    },
    {
     "name": "stderr",
     "output_type": "stream",
     "text": [
      "                                                                                 \r"
     ]
    },
    {
     "name": "stdout",
     "output_type": "stream",
     "text": [
      "\u001B[32m2025-09-27 10:26:08.178\u001B[0m | \u001B[1mINFO    \u001B[0m | \u001B[36mfine_tune.modeling.train\u001B[0m:\u001B[36mtrain\u001B[0m:\u001B[36m271\u001B[0m - \u001B[1mEpoch 3/5 - Train Loss: 0.5374, Train Acc: 0.9844 - Val Loss: 3.7208, Val Acc: 0.8889 - LR: 0.003455 - Time: 21.36s\u001B[0m\n"
     ]
    },
    {
     "name": "stderr",
     "output_type": "stream",
     "text": [
      "                                                                                 \r"
     ]
    },
    {
     "name": "stdout",
     "output_type": "stream",
     "text": [
      "\u001B[32m2025-09-27 10:26:29.365\u001B[0m | \u001B[1mINFO    \u001B[0m | \u001B[36mfine_tune.modeling.train\u001B[0m:\u001B[36mtrain\u001B[0m:\u001B[36m271\u001B[0m - \u001B[1mEpoch 4/5 - Train Loss: 0.3901, Train Acc: 0.9688 - Val Loss: 2.8036, Val Acc: 0.8889 - LR: 0.000955 - Time: 21.19s\u001B[0m\n"
     ]
    },
    {
     "name": "stderr",
     "output_type": "stream",
     "text": [
      "                                                                                 \r"
     ]
    },
    {
     "name": "stdout",
     "output_type": "stream",
     "text": [
      "\u001B[32m2025-09-27 10:26:50.800\u001B[0m | \u001B[1mINFO    \u001B[0m | \u001B[36mfine_tune.modeling.train\u001B[0m:\u001B[36mtrain\u001B[0m:\u001B[36m271\u001B[0m - \u001B[1mEpoch 5/5 - Train Loss: 0.0890, Train Acc: 0.9844 - Val Loss: 2.1970, Val Acc: 0.8889 - LR: 0.000000 - Time: 21.43s\u001B[0m\n",
      "\u001B[32m2025-09-27 10:26:50.831\u001B[0m | \u001B[1mINFO    \u001B[0m | \u001B[36mfine_tune.modeling.train\u001B[0m:\u001B[36msave_checkpoint\u001B[0m:\u001B[36m326\u001B[0m - \u001B[1mЧекпоинт сохранен: /Users/konopsky/University/AI_new/fine_tune/models/efficientnet_b0.ra_in1k_epoch_5.pth\u001B[0m\n",
      "\u001B[32m2025-09-27 10:26:50.831\u001B[0m | \u001B[1mINFO    \u001B[0m | \u001B[36mfine_tune.modeling.train\u001B[0m:\u001B[36mtrain\u001B[0m:\u001B[36m298\u001B[0m - \u001B[1mОбучение завершено за 106.65 секунд\u001B[0m\n",
      "\u001B[32m2025-09-27 10:26:50.831\u001B[0m | \u001B[1mINFO    \u001B[0m | \u001B[36mfine_tune.modeling.train\u001B[0m:\u001B[36mtrain\u001B[0m:\u001B[36m299\u001B[0m - \u001B[1mЛучшая точность валидации: 0.8889\u001B[0m\n",
      "✅ Успешно завершен! Лучшая точность: 0.8889\n",
      "\n",
      "============================================================\n",
      "Эксперимент: low_lr | Модель: efficientnet_b0.ra_in1k\n",
      "============================================================\n",
      "\u001B[32m2025-09-27 10:26:51.845\u001B[0m | \u001B[1mINFO    \u001B[0m | \u001B[36mfine_tune.dataset\u001B[0m:\u001B[36m__init__\u001B[0m:\u001B[36m48\u001B[0m - \u001B[1mЗагружено 92 образцов из 3 классов\u001B[0m\n",
      "\u001B[32m2025-09-27 10:26:51.845\u001B[0m | \u001B[1mINFO    \u001B[0m | \u001B[36mfine_tune.dataset\u001B[0m:\u001B[36mcreate_data_loaders\u001B[0m:\u001B[36m220\u001B[0m - \u001B[1mСозданы DataLoader'ы:\u001B[0m\n",
      "\u001B[32m2025-09-27 10:26:51.845\u001B[0m | \u001B[1mINFO    \u001B[0m | \u001B[36mfine_tune.dataset\u001B[0m:\u001B[36mcreate_data_loaders\u001B[0m:\u001B[36m221\u001B[0m - \u001B[1m  Train: 2 батчей (73 образцов)\u001B[0m\n",
      "\u001B[32m2025-09-27 10:26:51.845\u001B[0m | \u001B[1mINFO    \u001B[0m | \u001B[36mfine_tune.dataset\u001B[0m:\u001B[36mcreate_data_loaders\u001B[0m:\u001B[36m222\u001B[0m - \u001B[1m  Val: 1 батчей (9 образцов)\u001B[0m\n",
      "\u001B[32m2025-09-27 10:26:51.845\u001B[0m | \u001B[1mINFO    \u001B[0m | \u001B[36mfine_tune.dataset\u001B[0m:\u001B[36mcreate_data_loaders\u001B[0m:\u001B[36m223\u001B[0m - \u001B[1m  Test: 1 батчей (10 образцов)\u001B[0m\n",
      "\u001B[32m2025-09-27 10:26:51.845\u001B[0m | \u001B[1mINFO    \u001B[0m | \u001B[36mfine_tune.modeling.train\u001B[0m:\u001B[36m__init__\u001B[0m:\u001B[36m51\u001B[0m - \u001B[1mИспользуется устройство: cpu\u001B[0m\n",
      "\u001B[32m2025-09-27 10:26:51.846\u001B[0m | \u001B[1mINFO    \u001B[0m | \u001B[36mfine_tune.modeling.train\u001B[0m:\u001B[36msetup_model\u001B[0m:\u001B[36m81\u001B[0m - \u001B[1mСоздаем модель: efficientnet_b0.ra_in1k\u001B[0m\n",
      "\u001B[32m2025-09-27 10:26:52.169\u001B[0m | \u001B[1mINFO    \u001B[0m | \u001B[36mfine_tune.modeling.models\u001B[0m:\u001B[36m__init__\u001B[0m:\u001B[36m37\u001B[0m - \u001B[1mBackbone модели efficientnet_b0.ra_in1k заморожен\u001B[0m\n",
      "\u001B[32m2025-09-27 10:26:52.169\u001B[0m | \u001B[1mINFO    \u001B[0m | \u001B[36mfine_tune.modeling.models\u001B[0m:\u001B[36m__init__\u001B[0m:\u001B[36m113\u001B[0m - \u001B[1mСоздана EfficientNet модель: efficientnet_b0.ra_in1k\u001B[0m\n",
      "\u001B[32m2025-09-27 10:26:52.171\u001B[0m | \u001B[1mINFO    \u001B[0m | \u001B[36mfine_tune.modeling.models\u001B[0m:\u001B[36mprint_model_summary\u001B[0m:\u001B[36m181\u001B[0m - \u001B[1m==================================================\u001B[0m\n",
      "\u001B[32m2025-09-27 10:26:52.171\u001B[0m | \u001B[1mINFO    \u001B[0m | \u001B[36mfine_tune.modeling.models\u001B[0m:\u001B[36mprint_model_summary\u001B[0m:\u001B[36m182\u001B[0m - \u001B[1mСВОДКА МОДЕЛИ\u001B[0m\n",
      "\u001B[32m2025-09-27 10:26:52.171\u001B[0m | \u001B[1mINFO    \u001B[0m | \u001B[36mfine_tune.modeling.models\u001B[0m:\u001B[36mprint_model_summary\u001B[0m:\u001B[36m183\u001B[0m - \u001B[1m==================================================\u001B[0m\n",
      "\u001B[32m2025-09-27 10:26:52.171\u001B[0m | \u001B[1mINFO    \u001B[0m | \u001B[36mfine_tune.modeling.models\u001B[0m:\u001B[36mprint_model_summary\u001B[0m:\u001B[36m184\u001B[0m - \u001B[1mАрхитектура: efficientnet_b0.ra_in1k\u001B[0m\n",
      "\u001B[32m2025-09-27 10:26:52.171\u001B[0m | \u001B[1mINFO    \u001B[0m | \u001B[36mfine_tune.modeling.models\u001B[0m:\u001B[36mprint_model_summary\u001B[0m:\u001B[36m185\u001B[0m - \u001B[1mВходной размер: (3, 224, 224)\u001B[0m\n",
      "\u001B[32m2025-09-27 10:26:52.171\u001B[0m | \u001B[1mINFO    \u001B[0m | \u001B[36mfine_tune.modeling.models\u001B[0m:\u001B[36mprint_model_summary\u001B[0m:\u001B[36m186\u001B[0m - \u001B[1mКоличество классов: 3\u001B[0m\n",
      "\u001B[32m2025-09-27 10:26:52.171\u001B[0m | \u001B[1mINFO    \u001B[0m | \u001B[36mfine_tune.modeling.models\u001B[0m:\u001B[36mprint_model_summary\u001B[0m:\u001B[36m187\u001B[0m - \u001B[1mВсего параметров: 4,011,391\u001B[0m\n",
      "\u001B[32m2025-09-27 10:26:52.171\u001B[0m | \u001B[1mINFO    \u001B[0m | \u001B[36mfine_tune.modeling.models\u001B[0m:\u001B[36mprint_model_summary\u001B[0m:\u001B[36m188\u001B[0m - \u001B[1mОбучаемых параметров: 413,443\u001B[0m\n",
      "\u001B[32m2025-09-27 10:26:52.171\u001B[0m | \u001B[1mINFO    \u001B[0m | \u001B[36mfine_tune.modeling.models\u001B[0m:\u001B[36mprint_model_summary\u001B[0m:\u001B[36m189\u001B[0m - \u001B[1mЗамороженных параметров: 3,597,948\u001B[0m\n",
      "\u001B[32m2025-09-27 10:26:52.171\u001B[0m | \u001B[1mINFO    \u001B[0m | \u001B[36mfine_tune.modeling.models\u001B[0m:\u001B[36mprint_model_summary\u001B[0m:\u001B[36m190\u001B[0m - \u001B[1mПроцент обучаемых: 10.31%\u001B[0m\n",
      "\u001B[32m2025-09-27 10:26:52.171\u001B[0m | \u001B[1mINFO    \u001B[0m | \u001B[36mfine_tune.modeling.models\u001B[0m:\u001B[36mprint_model_summary\u001B[0m:\u001B[36m191\u001B[0m - \u001B[1m==================================================\u001B[0m\n",
      "\u001B[32m2025-09-27 10:26:52.172\u001B[0m | \u001B[1mINFO    \u001B[0m | \u001B[36mfine_tune.modeling.train\u001B[0m:\u001B[36msetup_optimizer_and_scheduler\u001B[0m:\u001B[36m143\u001B[0m - \u001B[1mОптимизатор: adamw\u001B[0m\n",
      "\u001B[32m2025-09-27 10:26:52.172\u001B[0m | \u001B[1mINFO    \u001B[0m | \u001B[36mfine_tune.modeling.train\u001B[0m:\u001B[36msetup_optimizer_and_scheduler\u001B[0m:\u001B[36m144\u001B[0m - \u001B[1mПланировщик: cosine\u001B[0m\n",
      "\u001B[32m2025-09-27 10:26:52.172\u001B[0m | \u001B[1mINFO    \u001B[0m | \u001B[36mfine_tune.modeling.train\u001B[0m:\u001B[36mtrain\u001B[0m:\u001B[36m232\u001B[0m - \u001B[1mНачинаем обучение модели efficientnet_b0.ra_in1k\u001B[0m\n",
      "\u001B[32m2025-09-27 10:26:52.172\u001B[0m | \u001B[1mINFO    \u001B[0m | \u001B[36mfine_tune.modeling.train\u001B[0m:\u001B[36mtrain\u001B[0m:\u001B[36m233\u001B[0m - \u001B[1mЭпох: 8\u001B[0m\n",
      "\u001B[32m2025-09-27 10:26:52.172\u001B[0m | \u001B[1mINFO    \u001B[0m | \u001B[36mfine_tune.modeling.train\u001B[0m:\u001B[36mtrain\u001B[0m:\u001B[36m234\u001B[0m - \u001B[1mРазмер батча: 32\u001B[0m\n",
      "\u001B[32m2025-09-27 10:26:52.172\u001B[0m | \u001B[1mINFO    \u001B[0m | \u001B[36mfine_tune.modeling.train\u001B[0m:\u001B[36mtrain\u001B[0m:\u001B[36m235\u001B[0m - \u001B[1mLearning rate: 0.0001\u001B[0m\n"
     ]
    },
    {
     "name": "stderr",
     "output_type": "stream",
     "text": [
      "                                                                                 \r"
     ]
    },
    {
     "name": "stdout",
     "output_type": "stream",
     "text": [
      "\u001B[32m2025-09-27 10:27:13.524\u001B[0m | \u001B[1mINFO    \u001B[0m | \u001B[36mfine_tune.modeling.train\u001B[0m:\u001B[36mtrain\u001B[0m:\u001B[36m271\u001B[0m - \u001B[1mEpoch 1/8 - Train Loss: 4.2532, Train Acc: 0.2188 - Val Loss: 2.6486, Val Acc: 0.4444 - LR: 0.000096 - Time: 21.35s\u001B[0m\n"
     ]
    },
    {
     "name": "stderr",
     "output_type": "stream",
     "text": [
      "                                                                                 \r"
     ]
    },
    {
     "name": "stdout",
     "output_type": "stream",
     "text": [
      "\u001B[32m2025-09-27 10:27:34.846\u001B[0m | \u001B[1mINFO    \u001B[0m | \u001B[36mfine_tune.modeling.train\u001B[0m:\u001B[36mtrain\u001B[0m:\u001B[36m271\u001B[0m - \u001B[1mEpoch 2/8 - Train Loss: 3.2272, Train Acc: 0.3594 - Val Loss: 1.9963, Val Acc: 0.4444 - LR: 0.000085 - Time: 21.32s\u001B[0m\n"
     ]
    },
    {
     "name": "stderr",
     "output_type": "stream",
     "text": [
      "                                                                                 \r"
     ]
    },
    {
     "name": "stdout",
     "output_type": "stream",
     "text": [
      "\u001B[32m2025-09-27 10:27:56.235\u001B[0m | \u001B[1mINFO    \u001B[0m | \u001B[36mfine_tune.modeling.train\u001B[0m:\u001B[36mtrain\u001B[0m:\u001B[36m271\u001B[0m - \u001B[1mEpoch 3/8 - Train Loss: 3.1119, Train Acc: 0.4219 - Val Loss: 1.7107, Val Acc: 0.4444 - LR: 0.000069 - Time: 21.39s\u001B[0m\n"
     ]
    },
    {
     "name": "stderr",
     "output_type": "stream",
     "text": [
      "                                                                                 \r"
     ]
    },
    {
     "name": "stdout",
     "output_type": "stream",
     "text": [
      "\u001B[32m2025-09-27 10:28:17.699\u001B[0m | \u001B[1mINFO    \u001B[0m | \u001B[36mfine_tune.modeling.train\u001B[0m:\u001B[36mtrain\u001B[0m:\u001B[36m271\u001B[0m - \u001B[1mEpoch 4/8 - Train Loss: 1.6257, Train Acc: 0.5781 - Val Loss: 1.6471, Val Acc: 0.5556 - LR: 0.000050 - Time: 21.46s\u001B[0m\n"
     ]
    },
    {
     "name": "stderr",
     "output_type": "stream",
     "text": [
      "                                                                                 \r"
     ]
    },
    {
     "name": "stdout",
     "output_type": "stream",
     "text": [
      "\u001B[32m2025-09-27 10:28:38.934\u001B[0m | \u001B[1mINFO    \u001B[0m | \u001B[36mfine_tune.modeling.train\u001B[0m:\u001B[36mtrain\u001B[0m:\u001B[36m271\u001B[0m - \u001B[1mEpoch 5/8 - Train Loss: 2.1696, Train Acc: 0.4062 - Val Loss: 1.4740, Val Acc: 0.5556 - LR: 0.000031 - Time: 21.23s\u001B[0m\n",
      "\u001B[32m2025-09-27 10:28:38.954\u001B[0m | \u001B[1mINFO    \u001B[0m | \u001B[36mfine_tune.modeling.train\u001B[0m:\u001B[36msave_checkpoint\u001B[0m:\u001B[36m326\u001B[0m - \u001B[1mЧекпоинт сохранен: /Users/konopsky/University/AI_new/fine_tune/models/efficientnet_b0.ra_in1k_epoch_5.pth\u001B[0m\n"
     ]
    },
    {
     "name": "stderr",
     "output_type": "stream",
     "text": [
      "                                                                                 \r"
     ]
    },
    {
     "name": "stdout",
     "output_type": "stream",
     "text": [
      "\u001B[32m2025-09-27 10:29:00.657\u001B[0m | \u001B[1mINFO    \u001B[0m | \u001B[36mfine_tune.modeling.train\u001B[0m:\u001B[36mtrain\u001B[0m:\u001B[36m271\u001B[0m - \u001B[1mEpoch 6/8 - Train Loss: 2.1584, Train Acc: 0.5312 - Val Loss: 1.3374, Val Acc: 0.5556 - LR: 0.000015 - Time: 21.70s\u001B[0m\n"
     ]
    },
    {
     "name": "stderr",
     "output_type": "stream",
     "text": [
      "                                                                                 \r"
     ]
    },
    {
     "name": "stdout",
     "output_type": "stream",
     "text": [
      "\u001B[32m2025-09-27 10:29:22.193\u001B[0m | \u001B[1mINFO    \u001B[0m | \u001B[36mfine_tune.modeling.train\u001B[0m:\u001B[36mtrain\u001B[0m:\u001B[36m271\u001B[0m - \u001B[1mEpoch 7/8 - Train Loss: 1.8758, Train Acc: 0.4531 - Val Loss: 1.3071, Val Acc: 0.5556 - LR: 0.000004 - Time: 21.54s\u001B[0m\n"
     ]
    },
    {
     "name": "stderr",
     "output_type": "stream",
     "text": [
      "                                                                                 \r"
     ]
    },
    {
     "name": "stdout",
     "output_type": "stream",
     "text": [
      "\u001B[32m2025-09-27 10:29:43.686\u001B[0m | \u001B[1mINFO    \u001B[0m | \u001B[36mfine_tune.modeling.train\u001B[0m:\u001B[36mtrain\u001B[0m:\u001B[36m271\u001B[0m - \u001B[1mEpoch 8/8 - Train Loss: 2.0238, Train Acc: 0.5469 - Val Loss: 1.2427, Val Acc: 0.5556 - LR: 0.000000 - Time: 21.49s\u001B[0m\n",
      "\u001B[32m2025-09-27 10:29:43.686\u001B[0m | \u001B[1mINFO    \u001B[0m | \u001B[36mfine_tune.modeling.train\u001B[0m:\u001B[36mtrain\u001B[0m:\u001B[36m298\u001B[0m - \u001B[1mОбучение завершено за 171.51 секунд\u001B[0m\n",
      "\u001B[32m2025-09-27 10:29:43.686\u001B[0m | \u001B[1mINFO    \u001B[0m | \u001B[36mfine_tune.modeling.train\u001B[0m:\u001B[36mtrain\u001B[0m:\u001B[36m299\u001B[0m - \u001B[1mЛучшая точность валидации: 0.5556\u001B[0m\n",
      "✅ Успешно завершен! Лучшая точность: 0.5556\n",
      "\n",
      "============================================================\n",
      "Эксперимент: sgd_optimizer | Модель: efficientnet_b0.ra_in1k\n",
      "============================================================\n",
      "\u001B[32m2025-09-27 10:29:44.708\u001B[0m | \u001B[1mINFO    \u001B[0m | \u001B[36mfine_tune.dataset\u001B[0m:\u001B[36m__init__\u001B[0m:\u001B[36m48\u001B[0m - \u001B[1mЗагружено 92 образцов из 3 классов\u001B[0m\n",
      "\u001B[32m2025-09-27 10:29:44.708\u001B[0m | \u001B[1mINFO    \u001B[0m | \u001B[36mfine_tune.dataset\u001B[0m:\u001B[36mcreate_data_loaders\u001B[0m:\u001B[36m220\u001B[0m - \u001B[1mСозданы DataLoader'ы:\u001B[0m\n",
      "\u001B[32m2025-09-27 10:29:44.708\u001B[0m | \u001B[1mINFO    \u001B[0m | \u001B[36mfine_tune.dataset\u001B[0m:\u001B[36mcreate_data_loaders\u001B[0m:\u001B[36m221\u001B[0m - \u001B[1m  Train: 2 батчей (73 образцов)\u001B[0m\n",
      "\u001B[32m2025-09-27 10:29:44.708\u001B[0m | \u001B[1mINFO    \u001B[0m | \u001B[36mfine_tune.dataset\u001B[0m:\u001B[36mcreate_data_loaders\u001B[0m:\u001B[36m222\u001B[0m - \u001B[1m  Val: 1 батчей (9 образцов)\u001B[0m\n",
      "\u001B[32m2025-09-27 10:29:44.708\u001B[0m | \u001B[1mINFO    \u001B[0m | \u001B[36mfine_tune.dataset\u001B[0m:\u001B[36mcreate_data_loaders\u001B[0m:\u001B[36m223\u001B[0m - \u001B[1m  Test: 1 батчей (10 образцов)\u001B[0m\n",
      "\u001B[32m2025-09-27 10:29:44.709\u001B[0m | \u001B[1mINFO    \u001B[0m | \u001B[36mfine_tune.modeling.train\u001B[0m:\u001B[36m__init__\u001B[0m:\u001B[36m51\u001B[0m - \u001B[1mИспользуется устройство: cpu\u001B[0m\n",
      "\u001B[32m2025-09-27 10:29:44.709\u001B[0m | \u001B[1mINFO    \u001B[0m | \u001B[36mfine_tune.modeling.train\u001B[0m:\u001B[36msetup_model\u001B[0m:\u001B[36m81\u001B[0m - \u001B[1mСоздаем модель: efficientnet_b0.ra_in1k\u001B[0m\n",
      "\u001B[32m2025-09-27 10:29:45.046\u001B[0m | \u001B[1mINFO    \u001B[0m | \u001B[36mfine_tune.modeling.models\u001B[0m:\u001B[36m__init__\u001B[0m:\u001B[36m37\u001B[0m - \u001B[1mBackbone модели efficientnet_b0.ra_in1k заморожен\u001B[0m\n",
      "\u001B[32m2025-09-27 10:29:45.046\u001B[0m | \u001B[1mINFO    \u001B[0m | \u001B[36mfine_tune.modeling.models\u001B[0m:\u001B[36m__init__\u001B[0m:\u001B[36m113\u001B[0m - \u001B[1mСоздана EfficientNet модель: efficientnet_b0.ra_in1k\u001B[0m\n",
      "\u001B[32m2025-09-27 10:29:45.048\u001B[0m | \u001B[1mINFO    \u001B[0m | \u001B[36mfine_tune.modeling.models\u001B[0m:\u001B[36mprint_model_summary\u001B[0m:\u001B[36m181\u001B[0m - \u001B[1m==================================================\u001B[0m\n",
      "\u001B[32m2025-09-27 10:29:45.048\u001B[0m | \u001B[1mINFO    \u001B[0m | \u001B[36mfine_tune.modeling.models\u001B[0m:\u001B[36mprint_model_summary\u001B[0m:\u001B[36m182\u001B[0m - \u001B[1mСВОДКА МОДЕЛИ\u001B[0m\n",
      "\u001B[32m2025-09-27 10:29:45.048\u001B[0m | \u001B[1mINFO    \u001B[0m | \u001B[36mfine_tune.modeling.models\u001B[0m:\u001B[36mprint_model_summary\u001B[0m:\u001B[36m183\u001B[0m - \u001B[1m==================================================\u001B[0m\n",
      "\u001B[32m2025-09-27 10:29:45.048\u001B[0m | \u001B[1mINFO    \u001B[0m | \u001B[36mfine_tune.modeling.models\u001B[0m:\u001B[36mprint_model_summary\u001B[0m:\u001B[36m184\u001B[0m - \u001B[1mАрхитектура: efficientnet_b0.ra_in1k\u001B[0m\n",
      "\u001B[32m2025-09-27 10:29:45.048\u001B[0m | \u001B[1mINFO    \u001B[0m | \u001B[36mfine_tune.modeling.models\u001B[0m:\u001B[36mprint_model_summary\u001B[0m:\u001B[36m185\u001B[0m - \u001B[1mВходной размер: (3, 224, 224)\u001B[0m\n",
      "\u001B[32m2025-09-27 10:29:45.048\u001B[0m | \u001B[1mINFO    \u001B[0m | \u001B[36mfine_tune.modeling.models\u001B[0m:\u001B[36mprint_model_summary\u001B[0m:\u001B[36m186\u001B[0m - \u001B[1mКоличество классов: 3\u001B[0m\n",
      "\u001B[32m2025-09-27 10:29:45.048\u001B[0m | \u001B[1mINFO    \u001B[0m | \u001B[36mfine_tune.modeling.models\u001B[0m:\u001B[36mprint_model_summary\u001B[0m:\u001B[36m187\u001B[0m - \u001B[1mВсего параметров: 4,011,391\u001B[0m\n",
      "\u001B[32m2025-09-27 10:29:45.048\u001B[0m | \u001B[1mINFO    \u001B[0m | \u001B[36mfine_tune.modeling.models\u001B[0m:\u001B[36mprint_model_summary\u001B[0m:\u001B[36m188\u001B[0m - \u001B[1mОбучаемых параметров: 413,443\u001B[0m\n",
      "\u001B[32m2025-09-27 10:29:45.048\u001B[0m | \u001B[1mINFO    \u001B[0m | \u001B[36mfine_tune.modeling.models\u001B[0m:\u001B[36mprint_model_summary\u001B[0m:\u001B[36m189\u001B[0m - \u001B[1mЗамороженных параметров: 3,597,948\u001B[0m\n",
      "\u001B[32m2025-09-27 10:29:45.048\u001B[0m | \u001B[1mINFO    \u001B[0m | \u001B[36mfine_tune.modeling.models\u001B[0m:\u001B[36mprint_model_summary\u001B[0m:\u001B[36m190\u001B[0m - \u001B[1mПроцент обучаемых: 10.31%\u001B[0m\n",
      "\u001B[32m2025-09-27 10:29:45.048\u001B[0m | \u001B[1mINFO    \u001B[0m | \u001B[36mfine_tune.modeling.models\u001B[0m:\u001B[36mprint_model_summary\u001B[0m:\u001B[36m191\u001B[0m - \u001B[1m==================================================\u001B[0m\n",
      "\u001B[32m2025-09-27 10:29:45.049\u001B[0m | \u001B[1mINFO    \u001B[0m | \u001B[36mfine_tune.modeling.train\u001B[0m:\u001B[36msetup_optimizer_and_scheduler\u001B[0m:\u001B[36m143\u001B[0m - \u001B[1mОптимизатор: sgd\u001B[0m\n",
      "\u001B[32m2025-09-27 10:29:45.049\u001B[0m | \u001B[1mINFO    \u001B[0m | \u001B[36mfine_tune.modeling.train\u001B[0m:\u001B[36msetup_optimizer_and_scheduler\u001B[0m:\u001B[36m144\u001B[0m - \u001B[1mПланировщик: step\u001B[0m\n",
      "\u001B[32m2025-09-27 10:29:45.049\u001B[0m | \u001B[1mINFO    \u001B[0m | \u001B[36mfine_tune.modeling.train\u001B[0m:\u001B[36mtrain\u001B[0m:\u001B[36m232\u001B[0m - \u001B[1mНачинаем обучение модели efficientnet_b0.ra_in1k\u001B[0m\n",
      "\u001B[32m2025-09-27 10:29:45.049\u001B[0m | \u001B[1mINFO    \u001B[0m | \u001B[36mfine_tune.modeling.train\u001B[0m:\u001B[36mtrain\u001B[0m:\u001B[36m233\u001B[0m - \u001B[1mЭпох: 5\u001B[0m\n",
      "\u001B[32m2025-09-27 10:29:45.049\u001B[0m | \u001B[1mINFO    \u001B[0m | \u001B[36mfine_tune.modeling.train\u001B[0m:\u001B[36mtrain\u001B[0m:\u001B[36m234\u001B[0m - \u001B[1mРазмер батча: 32\u001B[0m\n",
      "\u001B[32m2025-09-27 10:29:45.049\u001B[0m | \u001B[1mINFO    \u001B[0m | \u001B[36mfine_tune.modeling.train\u001B[0m:\u001B[36mtrain\u001B[0m:\u001B[36m235\u001B[0m - \u001B[1mLearning rate: 0.01\u001B[0m\n"
     ]
    },
    {
     "name": "stderr",
     "output_type": "stream",
     "text": [
      "                                                                                 \r"
     ]
    },
    {
     "name": "stdout",
     "output_type": "stream",
     "text": [
      "\u001B[32m2025-09-27 10:30:06.243\u001B[0m | \u001B[1mINFO    \u001B[0m | \u001B[36mfine_tune.modeling.train\u001B[0m:\u001B[36mtrain\u001B[0m:\u001B[36m271\u001B[0m - \u001B[1mEpoch 1/5 - Train Loss: 4.0027, Train Acc: 0.2500 - Val Loss: 1.2147, Val Acc: 0.4444 - LR: 0.010000 - Time: 21.19s\u001B[0m\n"
     ]
    },
    {
     "name": "stderr",
     "output_type": "stream",
     "text": [
      "                                                                                 \r"
     ]
    },
    {
     "name": "stdout",
     "output_type": "stream",
     "text": [
      "\u001B[32m2025-09-27 10:30:27.522\u001B[0m | \u001B[1mINFO    \u001B[0m | \u001B[36mfine_tune.modeling.train\u001B[0m:\u001B[36mtrain\u001B[0m:\u001B[36m271\u001B[0m - \u001B[1mEpoch 2/5 - Train Loss: 4.1953, Train Acc: 0.2031 - Val Loss: 1.0136, Val Acc: 0.4444 - LR: 0.010000 - Time: 21.28s\u001B[0m\n"
     ]
    },
    {
     "name": "stderr",
     "output_type": "stream",
     "text": [
      "                                                                                 \r"
     ]
    },
    {
     "name": "stdout",
     "output_type": "stream",
     "text": [
      "\u001B[32m2025-09-27 10:30:48.984\u001B[0m | \u001B[1mINFO    \u001B[0m | \u001B[36mfine_tune.modeling.train\u001B[0m:\u001B[36mtrain\u001B[0m:\u001B[36m271\u001B[0m - \u001B[1mEpoch 3/5 - Train Loss: 3.2189, Train Acc: 0.3281 - Val Loss: 0.9596, Val Acc: 0.5556 - LR: 0.010000 - Time: 21.46s\u001B[0m\n"
     ]
    },
    {
     "name": "stderr",
     "output_type": "stream",
     "text": [
      "                                                                                 \r"
     ]
    },
    {
     "name": "stdout",
     "output_type": "stream",
     "text": [
      "\u001B[32m2025-09-27 10:31:10.347\u001B[0m | \u001B[1mINFO    \u001B[0m | \u001B[36mfine_tune.modeling.train\u001B[0m:\u001B[36mtrain\u001B[0m:\u001B[36m271\u001B[0m - \u001B[1mEpoch 4/5 - Train Loss: 2.3762, Train Acc: 0.4375 - Val Loss: 0.9374, Val Acc: 0.6667 - LR: 0.010000 - Time: 21.36s\u001B[0m\n"
     ]
    },
    {
     "name": "stderr",
     "output_type": "stream",
     "text": [
      "                                                                                 \r"
     ]
    },
    {
     "name": "stdout",
     "output_type": "stream",
     "text": [
      "\u001B[32m2025-09-27 10:31:31.611\u001B[0m | \u001B[1mINFO    \u001B[0m | \u001B[36mfine_tune.modeling.train\u001B[0m:\u001B[36mtrain\u001B[0m:\u001B[36m271\u001B[0m - \u001B[1mEpoch 5/5 - Train Loss: 1.6404, Train Acc: 0.5312 - Val Loss: 0.7915, Val Acc: 0.7778 - LR: 0.010000 - Time: 21.26s\u001B[0m\n",
      "\u001B[32m2025-09-27 10:31:31.637\u001B[0m | \u001B[1mINFO    \u001B[0m | \u001B[36mfine_tune.modeling.train\u001B[0m:\u001B[36msave_checkpoint\u001B[0m:\u001B[36m326\u001B[0m - \u001B[1mЧекпоинт сохранен: /Users/konopsky/University/AI_new/fine_tune/models/efficientnet_b0.ra_in1k_epoch_5.pth\u001B[0m\n",
      "\u001B[32m2025-09-27 10:31:31.637\u001B[0m | \u001B[1mINFO    \u001B[0m | \u001B[36mfine_tune.modeling.train\u001B[0m:\u001B[36mtrain\u001B[0m:\u001B[36m298\u001B[0m - \u001B[1mОбучение завершено за 106.59 секунд\u001B[0m\n",
      "\u001B[32m2025-09-27 10:31:31.637\u001B[0m | \u001B[1mINFO    \u001B[0m | \u001B[36mfine_tune.modeling.train\u001B[0m:\u001B[36mtrain\u001B[0m:\u001B[36m299\u001B[0m - \u001B[1mЛучшая точность валидации: 0.7778\u001B[0m\n",
      "✅ Успешно завершен! Лучшая точность: 0.7778\n",
      "\n",
      "============================================================\n",
      "Эксперимент: step_scheduler | Модель: efficientnet_b0.ra_in1k\n",
      "============================================================\n",
      "\u001B[32m2025-09-27 10:31:32.649\u001B[0m | \u001B[1mINFO    \u001B[0m | \u001B[36mfine_tune.dataset\u001B[0m:\u001B[36m__init__\u001B[0m:\u001B[36m48\u001B[0m - \u001B[1mЗагружено 92 образцов из 3 классов\u001B[0m\n",
      "\u001B[32m2025-09-27 10:31:32.649\u001B[0m | \u001B[1mINFO    \u001B[0m | \u001B[36mfine_tune.dataset\u001B[0m:\u001B[36mcreate_data_loaders\u001B[0m:\u001B[36m220\u001B[0m - \u001B[1mСозданы DataLoader'ы:\u001B[0m\n",
      "\u001B[32m2025-09-27 10:31:32.649\u001B[0m | \u001B[1mINFO    \u001B[0m | \u001B[36mfine_tune.dataset\u001B[0m:\u001B[36mcreate_data_loaders\u001B[0m:\u001B[36m221\u001B[0m - \u001B[1m  Train: 2 батчей (73 образцов)\u001B[0m\n",
      "\u001B[32m2025-09-27 10:31:32.649\u001B[0m | \u001B[1mINFO    \u001B[0m | \u001B[36mfine_tune.dataset\u001B[0m:\u001B[36mcreate_data_loaders\u001B[0m:\u001B[36m222\u001B[0m - \u001B[1m  Val: 1 батчей (9 образцов)\u001B[0m\n",
      "\u001B[32m2025-09-27 10:31:32.649\u001B[0m | \u001B[1mINFO    \u001B[0m | \u001B[36mfine_tune.dataset\u001B[0m:\u001B[36mcreate_data_loaders\u001B[0m:\u001B[36m223\u001B[0m - \u001B[1m  Test: 1 батчей (10 образцов)\u001B[0m\n",
      "\u001B[32m2025-09-27 10:31:32.649\u001B[0m | \u001B[1mINFO    \u001B[0m | \u001B[36mfine_tune.modeling.train\u001B[0m:\u001B[36m__init__\u001B[0m:\u001B[36m51\u001B[0m - \u001B[1mИспользуется устройство: cpu\u001B[0m\n",
      "\u001B[32m2025-09-27 10:31:32.650\u001B[0m | \u001B[1mINFO    \u001B[0m | \u001B[36mfine_tune.modeling.train\u001B[0m:\u001B[36msetup_model\u001B[0m:\u001B[36m81\u001B[0m - \u001B[1mСоздаем модель: efficientnet_b0.ra_in1k\u001B[0m\n",
      "\u001B[32m2025-09-27 10:31:32.930\u001B[0m | \u001B[1mINFO    \u001B[0m | \u001B[36mfine_tune.modeling.models\u001B[0m:\u001B[36m__init__\u001B[0m:\u001B[36m37\u001B[0m - \u001B[1mBackbone модели efficientnet_b0.ra_in1k заморожен\u001B[0m\n",
      "\u001B[32m2025-09-27 10:31:32.930\u001B[0m | \u001B[1mINFO    \u001B[0m | \u001B[36mfine_tune.modeling.models\u001B[0m:\u001B[36m__init__\u001B[0m:\u001B[36m113\u001B[0m - \u001B[1mСоздана EfficientNet модель: efficientnet_b0.ra_in1k\u001B[0m\n",
      "\u001B[32m2025-09-27 10:31:32.932\u001B[0m | \u001B[1mINFO    \u001B[0m | \u001B[36mfine_tune.modeling.models\u001B[0m:\u001B[36mprint_model_summary\u001B[0m:\u001B[36m181\u001B[0m - \u001B[1m==================================================\u001B[0m\n",
      "\u001B[32m2025-09-27 10:31:32.932\u001B[0m | \u001B[1mINFO    \u001B[0m | \u001B[36mfine_tune.modeling.models\u001B[0m:\u001B[36mprint_model_summary\u001B[0m:\u001B[36m182\u001B[0m - \u001B[1mСВОДКА МОДЕЛИ\u001B[0m\n",
      "\u001B[32m2025-09-27 10:31:32.932\u001B[0m | \u001B[1mINFO    \u001B[0m | \u001B[36mfine_tune.modeling.models\u001B[0m:\u001B[36mprint_model_summary\u001B[0m:\u001B[36m183\u001B[0m - \u001B[1m==================================================\u001B[0m\n",
      "\u001B[32m2025-09-27 10:31:32.932\u001B[0m | \u001B[1mINFO    \u001B[0m | \u001B[36mfine_tune.modeling.models\u001B[0m:\u001B[36mprint_model_summary\u001B[0m:\u001B[36m184\u001B[0m - \u001B[1mАрхитектура: efficientnet_b0.ra_in1k\u001B[0m\n",
      "\u001B[32m2025-09-27 10:31:32.933\u001B[0m | \u001B[1mINFO    \u001B[0m | \u001B[36mfine_tune.modeling.models\u001B[0m:\u001B[36mprint_model_summary\u001B[0m:\u001B[36m185\u001B[0m - \u001B[1mВходной размер: (3, 224, 224)\u001B[0m\n",
      "\u001B[32m2025-09-27 10:31:32.933\u001B[0m | \u001B[1mINFO    \u001B[0m | \u001B[36mfine_tune.modeling.models\u001B[0m:\u001B[36mprint_model_summary\u001B[0m:\u001B[36m186\u001B[0m - \u001B[1mКоличество классов: 3\u001B[0m\n",
      "\u001B[32m2025-09-27 10:31:32.933\u001B[0m | \u001B[1mINFO    \u001B[0m | \u001B[36mfine_tune.modeling.models\u001B[0m:\u001B[36mprint_model_summary\u001B[0m:\u001B[36m187\u001B[0m - \u001B[1mВсего параметров: 4,011,391\u001B[0m\n",
      "\u001B[32m2025-09-27 10:31:32.933\u001B[0m | \u001B[1mINFO    \u001B[0m | \u001B[36mfine_tune.modeling.models\u001B[0m:\u001B[36mprint_model_summary\u001B[0m:\u001B[36m188\u001B[0m - \u001B[1mОбучаемых параметров: 413,443\u001B[0m\n",
      "\u001B[32m2025-09-27 10:31:32.933\u001B[0m | \u001B[1mINFO    \u001B[0m | \u001B[36mfine_tune.modeling.models\u001B[0m:\u001B[36mprint_model_summary\u001B[0m:\u001B[36m189\u001B[0m - \u001B[1mЗамороженных параметров: 3,597,948\u001B[0m\n",
      "\u001B[32m2025-09-27 10:31:32.933\u001B[0m | \u001B[1mINFO    \u001B[0m | \u001B[36mfine_tune.modeling.models\u001B[0m:\u001B[36mprint_model_summary\u001B[0m:\u001B[36m190\u001B[0m - \u001B[1mПроцент обучаемых: 10.31%\u001B[0m\n",
      "\u001B[32m2025-09-27 10:31:32.933\u001B[0m | \u001B[1mINFO    \u001B[0m | \u001B[36mfine_tune.modeling.models\u001B[0m:\u001B[36mprint_model_summary\u001B[0m:\u001B[36m191\u001B[0m - \u001B[1m==================================================\u001B[0m\n",
      "\u001B[32m2025-09-27 10:31:32.933\u001B[0m | \u001B[1mINFO    \u001B[0m | \u001B[36mfine_tune.modeling.train\u001B[0m:\u001B[36msetup_optimizer_and_scheduler\u001B[0m:\u001B[36m143\u001B[0m - \u001B[1mОптимизатор: adamw\u001B[0m\n",
      "\u001B[32m2025-09-27 10:31:32.933\u001B[0m | \u001B[1mINFO    \u001B[0m | \u001B[36mfine_tune.modeling.train\u001B[0m:\u001B[36msetup_optimizer_and_scheduler\u001B[0m:\u001B[36m144\u001B[0m - \u001B[1mПланировщик: step\u001B[0m\n",
      "\u001B[32m2025-09-27 10:31:32.933\u001B[0m | \u001B[1mINFO    \u001B[0m | \u001B[36mfine_tune.modeling.train\u001B[0m:\u001B[36mtrain\u001B[0m:\u001B[36m232\u001B[0m - \u001B[1mНачинаем обучение модели efficientnet_b0.ra_in1k\u001B[0m\n",
      "\u001B[32m2025-09-27 10:31:32.933\u001B[0m | \u001B[1mINFO    \u001B[0m | \u001B[36mfine_tune.modeling.train\u001B[0m:\u001B[36mtrain\u001B[0m:\u001B[36m233\u001B[0m - \u001B[1mЭпох: 8\u001B[0m\n",
      "\u001B[32m2025-09-27 10:31:32.933\u001B[0m | \u001B[1mINFO    \u001B[0m | \u001B[36mfine_tune.modeling.train\u001B[0m:\u001B[36mtrain\u001B[0m:\u001B[36m234\u001B[0m - \u001B[1mРазмер батча: 32\u001B[0m\n",
      "\u001B[32m2025-09-27 10:31:32.933\u001B[0m | \u001B[1mINFO    \u001B[0m | \u001B[36mfine_tune.modeling.train\u001B[0m:\u001B[36mtrain\u001B[0m:\u001B[36m235\u001B[0m - \u001B[1mLearning rate: 0.001\u001B[0m\n"
     ]
    },
    {
     "name": "stderr",
     "output_type": "stream",
     "text": [
      "                                                                                 \r"
     ]
    },
    {
     "name": "stdout",
     "output_type": "stream",
     "text": [
      "\u001B[32m2025-09-27 10:31:54.386\u001B[0m | \u001B[1mINFO    \u001B[0m | \u001B[36mfine_tune.modeling.train\u001B[0m:\u001B[36mtrain\u001B[0m:\u001B[36m271\u001B[0m - \u001B[1mEpoch 1/8 - Train Loss: 3.3665, Train Acc: 0.3750 - Val Loss: 0.2749, Val Acc: 0.7778 - LR: 0.001000 - Time: 21.45s\u001B[0m\n"
     ]
    },
    {
     "name": "stderr",
     "output_type": "stream",
     "text": [
      "                                                                                 \r"
     ]
    },
    {
     "name": "stdout",
     "output_type": "stream",
     "text": [
      "\u001B[32m2025-09-27 10:32:15.704\u001B[0m | \u001B[1mINFO    \u001B[0m | \u001B[36mfine_tune.modeling.train\u001B[0m:\u001B[36mtrain\u001B[0m:\u001B[36m271\u001B[0m - \u001B[1mEpoch 2/8 - Train Loss: 0.7617, Train Acc: 0.7812 - Val Loss: 0.1578, Val Acc: 0.8889 - LR: 0.001000 - Time: 21.32s\u001B[0m\n"
     ]
    },
    {
     "name": "stderr",
     "output_type": "stream",
     "text": [
      "                                                                                 \r"
     ]
    },
    {
     "name": "stdout",
     "output_type": "stream",
     "text": [
      "\u001B[32m2025-09-27 10:32:37.050\u001B[0m | \u001B[1mINFO    \u001B[0m | \u001B[36mfine_tune.modeling.train\u001B[0m:\u001B[36mtrain\u001B[0m:\u001B[36m271\u001B[0m - \u001B[1mEpoch 3/8 - Train Loss: 0.2783, Train Acc: 0.9062 - Val Loss: 0.1804, Val Acc: 0.8889 - LR: 0.001000 - Time: 21.35s\u001B[0m\n"
     ]
    },
    {
     "name": "stderr",
     "output_type": "stream",
     "text": [
      "                                                                                 \r"
     ]
    },
    {
     "name": "stdout",
     "output_type": "stream",
     "text": [
      "\u001B[32m2025-09-27 10:32:58.358\u001B[0m | \u001B[1mINFO    \u001B[0m | \u001B[36mfine_tune.modeling.train\u001B[0m:\u001B[36mtrain\u001B[0m:\u001B[36m271\u001B[0m - \u001B[1mEpoch 4/8 - Train Loss: 0.3366, Train Acc: 0.9219 - Val Loss: 0.0795, Val Acc: 0.8889 - LR: 0.001000 - Time: 21.31s\u001B[0m\n"
     ]
    },
    {
     "name": "stderr",
     "output_type": "stream",
     "text": [
      "                                                                                 \r"
     ]
    },
    {
     "name": "stdout",
     "output_type": "stream",
     "text": [
      "\u001B[32m2025-09-27 10:33:19.749\u001B[0m | \u001B[1mINFO    \u001B[0m | \u001B[36mfine_tune.modeling.train\u001B[0m:\u001B[36mtrain\u001B[0m:\u001B[36m271\u001B[0m - \u001B[1mEpoch 5/8 - Train Loss: 0.0909, Train Acc: 0.9688 - Val Loss: 0.0260, Val Acc: 1.0000 - LR: 0.001000 - Time: 21.39s\u001B[0m\n",
      "\u001B[32m2025-09-27 10:33:19.776\u001B[0m | \u001B[1mINFO    \u001B[0m | \u001B[36mfine_tune.modeling.train\u001B[0m:\u001B[36msave_checkpoint\u001B[0m:\u001B[36m326\u001B[0m - \u001B[1mЧекпоинт сохранен: /Users/konopsky/University/AI_new/fine_tune/models/efficientnet_b0.ra_in1k_epoch_5.pth\u001B[0m\n"
     ]
    },
    {
     "name": "stderr",
     "output_type": "stream",
     "text": [
      "                                                                                 \r"
     ]
    },
    {
     "name": "stdout",
     "output_type": "stream",
     "text": [
      "\u001B[32m2025-09-27 10:33:41.105\u001B[0m | \u001B[1mINFO    \u001B[0m | \u001B[36mfine_tune.modeling.train\u001B[0m:\u001B[36mtrain\u001B[0m:\u001B[36m271\u001B[0m - \u001B[1mEpoch 6/8 - Train Loss: 0.2652, Train Acc: 0.9219 - Val Loss: 0.0035, Val Acc: 1.0000 - LR: 0.001000 - Time: 21.33s\u001B[0m\n"
     ]
    },
    {
     "name": "stderr",
     "output_type": "stream",
     "text": [
      "                                                                                 \r"
     ]
    },
    {
     "name": "stdout",
     "output_type": "stream",
     "text": [
      "\u001B[32m2025-09-27 10:34:02.478\u001B[0m | \u001B[1mINFO    \u001B[0m | \u001B[36mfine_tune.modeling.train\u001B[0m:\u001B[36mtrain\u001B[0m:\u001B[36m271\u001B[0m - \u001B[1mEpoch 7/8 - Train Loss: 0.3483, Train Acc: 0.9375 - Val Loss: 0.0008, Val Acc: 1.0000 - LR: 0.001000 - Time: 21.37s\u001B[0m\n"
     ]
    },
    {
     "name": "stderr",
     "output_type": "stream",
     "text": [
      "                                                                                 \r"
     ]
    },
    {
     "name": "stdout",
     "output_type": "stream",
     "text": [
      "\u001B[32m2025-09-27 10:34:23.722\u001B[0m | \u001B[1mINFO    \u001B[0m | \u001B[36mfine_tune.modeling.train\u001B[0m:\u001B[36mtrain\u001B[0m:\u001B[36m271\u001B[0m - \u001B[1mEpoch 8/8 - Train Loss: 0.2907, Train Acc: 0.9375 - Val Loss: 0.0009, Val Acc: 1.0000 - LR: 0.001000 - Time: 21.24s\u001B[0m\n",
      "\u001B[32m2025-09-27 10:34:23.723\u001B[0m | \u001B[1mINFO    \u001B[0m | \u001B[36mfine_tune.modeling.train\u001B[0m:\u001B[36mtrain\u001B[0m:\u001B[36m298\u001B[0m - \u001B[1mОбучение завершено за 170.79 секунд\u001B[0m\n",
      "\u001B[32m2025-09-27 10:34:23.723\u001B[0m | \u001B[1mINFO    \u001B[0m | \u001B[36mfine_tune.modeling.train\u001B[0m:\u001B[36mtrain\u001B[0m:\u001B[36m299\u001B[0m - \u001B[1mЛучшая точность валидации: 1.0000\u001B[0m\n",
      "✅ Успешно завершен! Лучшая точность: 1.0000\n",
      "\n",
      "============================================================\n",
      "Эксперимент: unfrozen_backbone | Модель: efficientnet_b0.ra_in1k\n",
      "============================================================\n",
      "\u001B[32m2025-09-27 10:34:24.740\u001B[0m | \u001B[1mINFO    \u001B[0m | \u001B[36mfine_tune.dataset\u001B[0m:\u001B[36m__init__\u001B[0m:\u001B[36m48\u001B[0m - \u001B[1mЗагружено 92 образцов из 3 классов\u001B[0m\n",
      "\u001B[32m2025-09-27 10:34:24.740\u001B[0m | \u001B[1mINFO    \u001B[0m | \u001B[36mfine_tune.dataset\u001B[0m:\u001B[36mcreate_data_loaders\u001B[0m:\u001B[36m220\u001B[0m - \u001B[1mСозданы DataLoader'ы:\u001B[0m\n",
      "\u001B[32m2025-09-27 10:34:24.740\u001B[0m | \u001B[1mINFO    \u001B[0m | \u001B[36mfine_tune.dataset\u001B[0m:\u001B[36mcreate_data_loaders\u001B[0m:\u001B[36m221\u001B[0m - \u001B[1m  Train: 2 батчей (73 образцов)\u001B[0m\n",
      "\u001B[32m2025-09-27 10:34:24.740\u001B[0m | \u001B[1mINFO    \u001B[0m | \u001B[36mfine_tune.dataset\u001B[0m:\u001B[36mcreate_data_loaders\u001B[0m:\u001B[36m222\u001B[0m - \u001B[1m  Val: 1 батчей (9 образцов)\u001B[0m\n",
      "\u001B[32m2025-09-27 10:34:24.741\u001B[0m | \u001B[1mINFO    \u001B[0m | \u001B[36mfine_tune.dataset\u001B[0m:\u001B[36mcreate_data_loaders\u001B[0m:\u001B[36m223\u001B[0m - \u001B[1m  Test: 1 батчей (10 образцов)\u001B[0m\n",
      "\u001B[32m2025-09-27 10:34:24.741\u001B[0m | \u001B[1mINFO    \u001B[0m | \u001B[36mfine_tune.modeling.train\u001B[0m:\u001B[36m__init__\u001B[0m:\u001B[36m51\u001B[0m - \u001B[1mИспользуется устройство: cpu\u001B[0m\n",
      "\u001B[32m2025-09-27 10:34:24.741\u001B[0m | \u001B[1mINFO    \u001B[0m | \u001B[36mfine_tune.modeling.train\u001B[0m:\u001B[36msetup_model\u001B[0m:\u001B[36m81\u001B[0m - \u001B[1mСоздаем модель: efficientnet_b0.ra_in1k\u001B[0m\n",
      "\u001B[32m2025-09-27 10:34:25.261\u001B[0m | \u001B[1mINFO    \u001B[0m | \u001B[36mfine_tune.modeling.models\u001B[0m:\u001B[36m__init__\u001B[0m:\u001B[36m39\u001B[0m - \u001B[1mBackbone модели efficientnet_b0.ra_in1k разморожен для дообучения\u001B[0m\n",
      "\u001B[32m2025-09-27 10:34:25.262\u001B[0m | \u001B[1mINFO    \u001B[0m | \u001B[36mfine_tune.modeling.models\u001B[0m:\u001B[36m__init__\u001B[0m:\u001B[36m113\u001B[0m - \u001B[1mСоздана EfficientNet модель: efficientnet_b0.ra_in1k\u001B[0m\n",
      "\u001B[32m2025-09-27 10:34:25.263\u001B[0m | \u001B[1mINFO    \u001B[0m | \u001B[36mfine_tune.modeling.models\u001B[0m:\u001B[36mprint_model_summary\u001B[0m:\u001B[36m181\u001B[0m - \u001B[1m==================================================\u001B[0m\n",
      "\u001B[32m2025-09-27 10:34:25.263\u001B[0m | \u001B[1mINFO    \u001B[0m | \u001B[36mfine_tune.modeling.models\u001B[0m:\u001B[36mprint_model_summary\u001B[0m:\u001B[36m182\u001B[0m - \u001B[1mСВОДКА МОДЕЛИ\u001B[0m\n",
      "\u001B[32m2025-09-27 10:34:25.263\u001B[0m | \u001B[1mINFO    \u001B[0m | \u001B[36mfine_tune.modeling.models\u001B[0m:\u001B[36mprint_model_summary\u001B[0m:\u001B[36m183\u001B[0m - \u001B[1m==================================================\u001B[0m\n",
      "\u001B[32m2025-09-27 10:34:25.263\u001B[0m | \u001B[1mINFO    \u001B[0m | \u001B[36mfine_tune.modeling.models\u001B[0m:\u001B[36mprint_model_summary\u001B[0m:\u001B[36m184\u001B[0m - \u001B[1mАрхитектура: efficientnet_b0.ra_in1k\u001B[0m\n",
      "\u001B[32m2025-09-27 10:34:25.263\u001B[0m | \u001B[1mINFO    \u001B[0m | \u001B[36mfine_tune.modeling.models\u001B[0m:\u001B[36mprint_model_summary\u001B[0m:\u001B[36m185\u001B[0m - \u001B[1mВходной размер: (3, 224, 224)\u001B[0m\n",
      "\u001B[32m2025-09-27 10:34:25.263\u001B[0m | \u001B[1mINFO    \u001B[0m | \u001B[36mfine_tune.modeling.models\u001B[0m:\u001B[36mprint_model_summary\u001B[0m:\u001B[36m186\u001B[0m - \u001B[1mКоличество классов: 3\u001B[0m\n",
      "\u001B[32m2025-09-27 10:34:25.263\u001B[0m | \u001B[1mINFO    \u001B[0m | \u001B[36mfine_tune.modeling.models\u001B[0m:\u001B[36mprint_model_summary\u001B[0m:\u001B[36m187\u001B[0m - \u001B[1mВсего параметров: 4,011,391\u001B[0m\n",
      "\u001B[32m2025-09-27 10:34:25.263\u001B[0m | \u001B[1mINFO    \u001B[0m | \u001B[36mfine_tune.modeling.models\u001B[0m:\u001B[36mprint_model_summary\u001B[0m:\u001B[36m188\u001B[0m - \u001B[1mОбучаемых параметров: 4,011,391\u001B[0m\n",
      "\u001B[32m2025-09-27 10:34:25.263\u001B[0m | \u001B[1mINFO    \u001B[0m | \u001B[36mfine_tune.modeling.models\u001B[0m:\u001B[36mprint_model_summary\u001B[0m:\u001B[36m189\u001B[0m - \u001B[1mЗамороженных параметров: 0\u001B[0m\n",
      "\u001B[32m2025-09-27 10:34:25.263\u001B[0m | \u001B[1mINFO    \u001B[0m | \u001B[36mfine_tune.modeling.models\u001B[0m:\u001B[36mprint_model_summary\u001B[0m:\u001B[36m190\u001B[0m - \u001B[1mПроцент обучаемых: 100.00%\u001B[0m\n",
      "\u001B[32m2025-09-27 10:34:25.263\u001B[0m | \u001B[1mINFO    \u001B[0m | \u001B[36mfine_tune.modeling.models\u001B[0m:\u001B[36mprint_model_summary\u001B[0m:\u001B[36m191\u001B[0m - \u001B[1m==================================================\u001B[0m\n",
      "\u001B[32m2025-09-27 10:34:25.264\u001B[0m | \u001B[1mINFO    \u001B[0m | \u001B[36mfine_tune.modeling.train\u001B[0m:\u001B[36msetup_optimizer_and_scheduler\u001B[0m:\u001B[36m143\u001B[0m - \u001B[1mОптимизатор: adamw\u001B[0m\n",
      "\u001B[32m2025-09-27 10:34:25.264\u001B[0m | \u001B[1mINFO    \u001B[0m | \u001B[36mfine_tune.modeling.train\u001B[0m:\u001B[36msetup_optimizer_and_scheduler\u001B[0m:\u001B[36m144\u001B[0m - \u001B[1mПланировщик: cosine\u001B[0m\n",
      "\u001B[32m2025-09-27 10:34:25.264\u001B[0m | \u001B[1mINFO    \u001B[0m | \u001B[36mfine_tune.modeling.train\u001B[0m:\u001B[36mtrain\u001B[0m:\u001B[36m232\u001B[0m - \u001B[1mНачинаем обучение модели efficientnet_b0.ra_in1k\u001B[0m\n",
      "\u001B[32m2025-09-27 10:34:25.264\u001B[0m | \u001B[1mINFO    \u001B[0m | \u001B[36mfine_tune.modeling.train\u001B[0m:\u001B[36mtrain\u001B[0m:\u001B[36m233\u001B[0m - \u001B[1mЭпох: 5\u001B[0m\n",
      "\u001B[32m2025-09-27 10:34:25.264\u001B[0m | \u001B[1mINFO    \u001B[0m | \u001B[36mfine_tune.modeling.train\u001B[0m:\u001B[36mtrain\u001B[0m:\u001B[36m234\u001B[0m - \u001B[1mРазмер батча: 32\u001B[0m\n",
      "\u001B[32m2025-09-27 10:34:25.264\u001B[0m | \u001B[1mINFO    \u001B[0m | \u001B[36mfine_tune.modeling.train\u001B[0m:\u001B[36mtrain\u001B[0m:\u001B[36m235\u001B[0m - \u001B[1mLearning rate: 0.0001\u001B[0m\n"
     ]
    },
    {
     "name": "stderr",
     "output_type": "stream",
     "text": [
      "                                                                                 \r"
     ]
    },
    {
     "name": "stdout",
     "output_type": "stream",
     "text": [
      "\u001B[32m2025-09-27 10:35:01.456\u001B[0m | \u001B[1mINFO    \u001B[0m | \u001B[36mfine_tune.modeling.train\u001B[0m:\u001B[36mtrain\u001B[0m:\u001B[36m271\u001B[0m - \u001B[1mEpoch 1/5 - Train Loss: 3.9509, Train Acc: 0.3281 - Val Loss: 2.6889, Val Acc: 0.3333 - LR: 0.000090 - Time: 36.19s\u001B[0m\n"
     ]
    },
    {
     "name": "stderr",
     "output_type": "stream",
     "text": [
      "                                                                                 \r"
     ]
    },
    {
     "name": "stdout",
     "output_type": "stream",
     "text": [
      "\u001B[32m2025-09-27 10:35:37.149\u001B[0m | \u001B[1mINFO    \u001B[0m | \u001B[36mfine_tune.modeling.train\u001B[0m:\u001B[36mtrain\u001B[0m:\u001B[36m271\u001B[0m - \u001B[1mEpoch 2/5 - Train Loss: 1.6166, Train Acc: 0.5312 - Val Loss: 1.8338, Val Acc: 0.7778 - LR: 0.000065 - Time: 35.69s\u001B[0m\n"
     ]
    },
    {
     "name": "stderr",
     "output_type": "stream",
     "text": [
      "                                                                                 \r"
     ]
    },
    {
     "name": "stdout",
     "output_type": "stream",
     "text": [
      "\u001B[32m2025-09-27 10:36:13.119\u001B[0m | \u001B[1mINFO    \u001B[0m | \u001B[36mfine_tune.modeling.train\u001B[0m:\u001B[36mtrain\u001B[0m:\u001B[36m271\u001B[0m - \u001B[1mEpoch 3/5 - Train Loss: 1.0436, Train Acc: 0.6875 - Val Loss: 1.4929, Val Acc: 0.7778 - LR: 0.000035 - Time: 35.97s\u001B[0m\n"
     ]
    },
    {
     "name": "stderr",
     "output_type": "stream",
     "text": [
      "                                                                                 \r"
     ]
    },
    {
     "name": "stdout",
     "output_type": "stream",
     "text": [
      "\u001B[32m2025-09-27 10:36:48.948\u001B[0m | \u001B[1mINFO    \u001B[0m | \u001B[36mfine_tune.modeling.train\u001B[0m:\u001B[36mtrain\u001B[0m:\u001B[36m271\u001B[0m - \u001B[1mEpoch 4/5 - Train Loss: 0.8756, Train Acc: 0.7969 - Val Loss: 1.4924, Val Acc: 0.7778 - LR: 0.000010 - Time: 35.83s\u001B[0m\n"
     ]
    },
    {
     "name": "stderr",
     "output_type": "stream",
     "text": [
      "                                                                                 \r"
     ]
    },
    {
     "name": "stdout",
     "output_type": "stream",
     "text": [
      "\u001B[32m2025-09-27 10:37:24.825\u001B[0m | \u001B[1mINFO    \u001B[0m | \u001B[36mfine_tune.modeling.train\u001B[0m:\u001B[36mtrain\u001B[0m:\u001B[36m271\u001B[0m - \u001B[1mEpoch 5/5 - Train Loss: 0.7081, Train Acc: 0.8125 - Val Loss: 1.5990, Val Acc: 0.7778 - LR: 0.000000 - Time: 35.88s\u001B[0m\n",
      "\u001B[32m2025-09-27 10:37:24.878\u001B[0m | \u001B[1mINFO    \u001B[0m | \u001B[36mfine_tune.modeling.train\u001B[0m:\u001B[36msave_checkpoint\u001B[0m:\u001B[36m326\u001B[0m - \u001B[1mЧекпоинт сохранен: /Users/konopsky/University/AI_new/fine_tune/models/efficientnet_b0.ra_in1k_epoch_5.pth\u001B[0m\n",
      "\u001B[32m2025-09-27 10:37:24.878\u001B[0m | \u001B[1mINFO    \u001B[0m | \u001B[36mfine_tune.modeling.train\u001B[0m:\u001B[36mtrain\u001B[0m:\u001B[36m298\u001B[0m - \u001B[1mОбучение завершено за 179.61 секунд\u001B[0m\n",
      "\u001B[32m2025-09-27 10:37:24.878\u001B[0m | \u001B[1mINFO    \u001B[0m | \u001B[36mfine_tune.modeling.train\u001B[0m:\u001B[36mtrain\u001B[0m:\u001B[36m299\u001B[0m - \u001B[1mЛучшая точность валидации: 0.7778\u001B[0m\n",
      "✅ Успешно завершен! Лучшая точность: 0.7778\n",
      "\n",
      "============================================================\n",
      "Эксперимент: high_weight_decay | Модель: efficientnet_b0.ra_in1k\n",
      "============================================================\n",
      "\u001B[32m2025-09-27 10:37:25.899\u001B[0m | \u001B[1mINFO    \u001B[0m | \u001B[36mfine_tune.dataset\u001B[0m:\u001B[36m__init__\u001B[0m:\u001B[36m48\u001B[0m - \u001B[1mЗагружено 92 образцов из 3 классов\u001B[0m\n",
      "\u001B[32m2025-09-27 10:37:25.899\u001B[0m | \u001B[1mINFO    \u001B[0m | \u001B[36mfine_tune.dataset\u001B[0m:\u001B[36mcreate_data_loaders\u001B[0m:\u001B[36m220\u001B[0m - \u001B[1mСозданы DataLoader'ы:\u001B[0m\n",
      "\u001B[32m2025-09-27 10:37:25.899\u001B[0m | \u001B[1mINFO    \u001B[0m | \u001B[36mfine_tune.dataset\u001B[0m:\u001B[36mcreate_data_loaders\u001B[0m:\u001B[36m221\u001B[0m - \u001B[1m  Train: 2 батчей (73 образцов)\u001B[0m\n",
      "\u001B[32m2025-09-27 10:37:25.899\u001B[0m | \u001B[1mINFO    \u001B[0m | \u001B[36mfine_tune.dataset\u001B[0m:\u001B[36mcreate_data_loaders\u001B[0m:\u001B[36m222\u001B[0m - \u001B[1m  Val: 1 батчей (9 образцов)\u001B[0m\n",
      "\u001B[32m2025-09-27 10:37:25.900\u001B[0m | \u001B[1mINFO    \u001B[0m | \u001B[36mfine_tune.dataset\u001B[0m:\u001B[36mcreate_data_loaders\u001B[0m:\u001B[36m223\u001B[0m - \u001B[1m  Test: 1 батчей (10 образцов)\u001B[0m\n",
      "\u001B[32m2025-09-27 10:37:25.900\u001B[0m | \u001B[1mINFO    \u001B[0m | \u001B[36mfine_tune.modeling.train\u001B[0m:\u001B[36m__init__\u001B[0m:\u001B[36m51\u001B[0m - \u001B[1mИспользуется устройство: cpu\u001B[0m\n",
      "\u001B[32m2025-09-27 10:37:25.901\u001B[0m | \u001B[1mINFO    \u001B[0m | \u001B[36mfine_tune.modeling.train\u001B[0m:\u001B[36msetup_model\u001B[0m:\u001B[36m81\u001B[0m - \u001B[1mСоздаем модель: efficientnet_b0.ra_in1k\u001B[0m\n",
      "\u001B[32m2025-09-27 10:37:26.190\u001B[0m | \u001B[1mINFO    \u001B[0m | \u001B[36mfine_tune.modeling.models\u001B[0m:\u001B[36m__init__\u001B[0m:\u001B[36m37\u001B[0m - \u001B[1mBackbone модели efficientnet_b0.ra_in1k заморожен\u001B[0m\n",
      "\u001B[32m2025-09-27 10:37:26.190\u001B[0m | \u001B[1mINFO    \u001B[0m | \u001B[36mfine_tune.modeling.models\u001B[0m:\u001B[36m__init__\u001B[0m:\u001B[36m113\u001B[0m - \u001B[1mСоздана EfficientNet модель: efficientnet_b0.ra_in1k\u001B[0m\n",
      "\u001B[32m2025-09-27 10:37:26.191\u001B[0m | \u001B[1mINFO    \u001B[0m | \u001B[36mfine_tune.modeling.models\u001B[0m:\u001B[36mprint_model_summary\u001B[0m:\u001B[36m181\u001B[0m - \u001B[1m==================================================\u001B[0m\n",
      "\u001B[32m2025-09-27 10:37:26.191\u001B[0m | \u001B[1mINFO    \u001B[0m | \u001B[36mfine_tune.modeling.models\u001B[0m:\u001B[36mprint_model_summary\u001B[0m:\u001B[36m182\u001B[0m - \u001B[1mСВОДКА МОДЕЛИ\u001B[0m\n",
      "\u001B[32m2025-09-27 10:37:26.191\u001B[0m | \u001B[1mINFO    \u001B[0m | \u001B[36mfine_tune.modeling.models\u001B[0m:\u001B[36mprint_model_summary\u001B[0m:\u001B[36m183\u001B[0m - \u001B[1m==================================================\u001B[0m\n",
      "\u001B[32m2025-09-27 10:37:26.191\u001B[0m | \u001B[1mINFO    \u001B[0m | \u001B[36mfine_tune.modeling.models\u001B[0m:\u001B[36mprint_model_summary\u001B[0m:\u001B[36m184\u001B[0m - \u001B[1mАрхитектура: efficientnet_b0.ra_in1k\u001B[0m\n",
      "\u001B[32m2025-09-27 10:37:26.191\u001B[0m | \u001B[1mINFO    \u001B[0m | \u001B[36mfine_tune.modeling.models\u001B[0m:\u001B[36mprint_model_summary\u001B[0m:\u001B[36m185\u001B[0m - \u001B[1mВходной размер: (3, 224, 224)\u001B[0m\n",
      "\u001B[32m2025-09-27 10:37:26.191\u001B[0m | \u001B[1mINFO    \u001B[0m | \u001B[36mfine_tune.modeling.models\u001B[0m:\u001B[36mprint_model_summary\u001B[0m:\u001B[36m186\u001B[0m - \u001B[1mКоличество классов: 3\u001B[0m\n",
      "\u001B[32m2025-09-27 10:37:26.191\u001B[0m | \u001B[1mINFO    \u001B[0m | \u001B[36mfine_tune.modeling.models\u001B[0m:\u001B[36mprint_model_summary\u001B[0m:\u001B[36m187\u001B[0m - \u001B[1mВсего параметров: 4,011,391\u001B[0m\n",
      "\u001B[32m2025-09-27 10:37:26.191\u001B[0m | \u001B[1mINFO    \u001B[0m | \u001B[36mfine_tune.modeling.models\u001B[0m:\u001B[36mprint_model_summary\u001B[0m:\u001B[36m188\u001B[0m - \u001B[1mОбучаемых параметров: 413,443\u001B[0m\n",
      "\u001B[32m2025-09-27 10:37:26.191\u001B[0m | \u001B[1mINFO    \u001B[0m | \u001B[36mfine_tune.modeling.models\u001B[0m:\u001B[36mprint_model_summary\u001B[0m:\u001B[36m189\u001B[0m - \u001B[1mЗамороженных параметров: 3,597,948\u001B[0m\n",
      "\u001B[32m2025-09-27 10:37:26.191\u001B[0m | \u001B[1mINFO    \u001B[0m | \u001B[36mfine_tune.modeling.models\u001B[0m:\u001B[36mprint_model_summary\u001B[0m:\u001B[36m190\u001B[0m - \u001B[1mПроцент обучаемых: 10.31%\u001B[0m\n",
      "\u001B[32m2025-09-27 10:37:26.191\u001B[0m | \u001B[1mINFO    \u001B[0m | \u001B[36mfine_tune.modeling.models\u001B[0m:\u001B[36mprint_model_summary\u001B[0m:\u001B[36m191\u001B[0m - \u001B[1m==================================================\u001B[0m\n",
      "\u001B[32m2025-09-27 10:37:26.192\u001B[0m | \u001B[1mINFO    \u001B[0m | \u001B[36mfine_tune.modeling.train\u001B[0m:\u001B[36msetup_optimizer_and_scheduler\u001B[0m:\u001B[36m143\u001B[0m - \u001B[1mОптимизатор: adamw\u001B[0m\n",
      "\u001B[32m2025-09-27 10:37:26.192\u001B[0m | \u001B[1mINFO    \u001B[0m | \u001B[36mfine_tune.modeling.train\u001B[0m:\u001B[36msetup_optimizer_and_scheduler\u001B[0m:\u001B[36m144\u001B[0m - \u001B[1mПланировщик: cosine\u001B[0m\n",
      "\u001B[32m2025-09-27 10:37:26.192\u001B[0m | \u001B[1mINFO    \u001B[0m | \u001B[36mfine_tune.modeling.train\u001B[0m:\u001B[36mtrain\u001B[0m:\u001B[36m232\u001B[0m - \u001B[1mНачинаем обучение модели efficientnet_b0.ra_in1k\u001B[0m\n",
      "\u001B[32m2025-09-27 10:37:26.192\u001B[0m | \u001B[1mINFO    \u001B[0m | \u001B[36mfine_tune.modeling.train\u001B[0m:\u001B[36mtrain\u001B[0m:\u001B[36m233\u001B[0m - \u001B[1mЭпох: 5\u001B[0m\n",
      "\u001B[32m2025-09-27 10:37:26.192\u001B[0m | \u001B[1mINFO    \u001B[0m | \u001B[36mfine_tune.modeling.train\u001B[0m:\u001B[36mtrain\u001B[0m:\u001B[36m234\u001B[0m - \u001B[1mРазмер батча: 32\u001B[0m\n",
      "\u001B[32m2025-09-27 10:37:26.192\u001B[0m | \u001B[1mINFO    \u001B[0m | \u001B[36mfine_tune.modeling.train\u001B[0m:\u001B[36mtrain\u001B[0m:\u001B[36m235\u001B[0m - \u001B[1mLearning rate: 0.001\u001B[0m\n"
     ]
    },
    {
     "name": "stderr",
     "output_type": "stream",
     "text": [
      "                                                                                 \r"
     ]
    },
    {
     "name": "stdout",
     "output_type": "stream",
     "text": [
      "\u001B[32m2025-09-27 10:37:47.747\u001B[0m | \u001B[1mINFO    \u001B[0m | \u001B[36mfine_tune.modeling.train\u001B[0m:\u001B[36mtrain\u001B[0m:\u001B[36m271\u001B[0m - \u001B[1mEpoch 1/5 - Train Loss: 3.2810, Train Acc: 0.3750 - Val Loss: 0.3190, Val Acc: 0.8889 - LR: 0.000905 - Time: 21.56s\u001B[0m\n"
     ]
    },
    {
     "name": "stderr",
     "output_type": "stream",
     "text": [
      "                                                                                 \r"
     ]
    },
    {
     "name": "stdout",
     "output_type": "stream",
     "text": [
      "\u001B[32m2025-09-27 10:38:09.289\u001B[0m | \u001B[1mINFO    \u001B[0m | \u001B[36mfine_tune.modeling.train\u001B[0m:\u001B[36mtrain\u001B[0m:\u001B[36m271\u001B[0m - \u001B[1mEpoch 2/5 - Train Loss: 0.9786, Train Acc: 0.7812 - Val Loss: 0.3267, Val Acc: 0.7778 - LR: 0.000655 - Time: 21.54s\u001B[0m\n"
     ]
    },
    {
     "name": "stderr",
     "output_type": "stream",
     "text": [
      "                                                                                 \r"
     ]
    },
    {
     "name": "stdout",
     "output_type": "stream",
     "text": [
      "\u001B[32m2025-09-27 10:38:30.706\u001B[0m | \u001B[1mINFO    \u001B[0m | \u001B[36mfine_tune.modeling.train\u001B[0m:\u001B[36mtrain\u001B[0m:\u001B[36m271\u001B[0m - \u001B[1mEpoch 3/5 - Train Loss: 0.2034, Train Acc: 0.9219 - Val Loss: 0.3318, Val Acc: 0.8889 - LR: 0.000345 - Time: 21.42s\u001B[0m\n"
     ]
    },
    {
     "name": "stderr",
     "output_type": "stream",
     "text": [
      "                                                                                 \r"
     ]
    },
    {
     "name": "stdout",
     "output_type": "stream",
     "text": [
      "\u001B[32m2025-09-27 10:38:51.968\u001B[0m | \u001B[1mINFO    \u001B[0m | \u001B[36mfine_tune.modeling.train\u001B[0m:\u001B[36mtrain\u001B[0m:\u001B[36m271\u001B[0m - \u001B[1mEpoch 4/5 - Train Loss: 0.0811, Train Acc: 0.9844 - Val Loss: 0.3777, Val Acc: 0.8889 - LR: 0.000095 - Time: 21.26s\u001B[0m\n"
     ]
    },
    {
     "name": "stderr",
     "output_type": "stream",
     "text": [
      "                                                                                 \r"
     ]
    },
    {
     "name": "stdout",
     "output_type": "stream",
     "text": [
      "\u001B[32m2025-09-27 10:39:13.725\u001B[0m | \u001B[1mINFO    \u001B[0m | \u001B[36mfine_tune.modeling.train\u001B[0m:\u001B[36mtrain\u001B[0m:\u001B[36m271\u001B[0m - \u001B[1mEpoch 5/5 - Train Loss: 0.1337, Train Acc: 0.9375 - Val Loss: 0.3897, Val Acc: 0.8889 - LR: 0.000000 - Time: 21.76s\u001B[0m\n",
      "\u001B[32m2025-09-27 10:39:13.753\u001B[0m | \u001B[1mINFO    \u001B[0m | \u001B[36mfine_tune.modeling.train\u001B[0m:\u001B[36msave_checkpoint\u001B[0m:\u001B[36m326\u001B[0m - \u001B[1mЧекпоинт сохранен: /Users/konopsky/University/AI_new/fine_tune/models/efficientnet_b0.ra_in1k_epoch_5.pth\u001B[0m\n",
      "\u001B[32m2025-09-27 10:39:13.753\u001B[0m | \u001B[1mINFO    \u001B[0m | \u001B[36mfine_tune.modeling.train\u001B[0m:\u001B[36mtrain\u001B[0m:\u001B[36m298\u001B[0m - \u001B[1mОбучение завершено за 107.56 секунд\u001B[0m\n",
      "\u001B[32m2025-09-27 10:39:13.753\u001B[0m | \u001B[1mINFO    \u001B[0m | \u001B[36mfine_tune.modeling.train\u001B[0m:\u001B[36mtrain\u001B[0m:\u001B[36m299\u001B[0m - \u001B[1mЛучшая точность валидации: 0.8889\u001B[0m\n",
      "✅ Успешно завершен! Лучшая точность: 0.8889\n",
      "\n",
      "============================================================\n",
      "Все эксперименты завершены!\n",
      "Успешных: 14\n",
      "Неудачных: 0\n",
      "============================================================\n"
     ]
    }
   ],
   "source": [
    "# Создаем директорию для экспериментов\n",
    "experiments_dir = MODELS_DIR / \"experiments\"\n",
    "experiments_dir.mkdir(exist_ok=True)\n",
    "\n",
    "# Список для хранения результатов\n",
    "all_results = []\n",
    "\n",
    "print(\"🚀 Запуск всех экспериментов...\")\n",
    "print(\"Это может занять некоторое время...\")\n",
    "print(f\"Будет выполнено {len(experiments) * len(models)} экспериментов\")\n",
    "\n",
    "# Запускаем все эксперименты\n",
    "for model_name in models:\n",
    "    for exp_name, exp_config in experiments.items():\n",
    "        result = run_experiment(model_name, exp_name, exp_config)\n",
    "        all_results.append(result)\n",
    "        \n",
    "        # Небольшая пауза между экспериментами\n",
    "        time.sleep(1)\n",
    "\n",
    "print(f\"\\n{'='*60}\")\n",
    "print(f\"Все эксперименты завершены!\")\n",
    "print(f\"Успешных: {sum(1 for r in all_results if r['status'] == 'success')}\")\n",
    "print(f\"Неудачных: {sum(1 for r in all_results if r['status'] == 'failed')}\")\n",
    "print(f\"{'='*60}\")\n"
   ]
  },
  {
   "cell_type": "markdown",
   "metadata": {},
   "source": [
    "## 5. Анализ результатов\n"
   ]
  },
  {
   "cell_type": "code",
   "execution_count": null,
   "metadata": {},
   "outputs": [
    {
     "name": "stdout",
     "output_type": "stream",
     "text": [
      "Результаты экспериментов:\n",
      "====================================================================================================\n",
      "                  model        experiment  best_val_acc  final_train_acc  final_val_acc  final_train_loss  final_val_loss  learning_rate  epochs optimizer scheduler  freeze_backbone\n",
      "       resnet50.a1_in1k          baseline        0.7778           0.6094         0.6667            0.9647          0.9724         0.0010       5     adamw    cosine             True\n",
      "       resnet50.a1_in1k           high_lr        1.0000           0.9844         1.0000            0.3536          0.3875         0.0100       5     adamw    cosine             True\n",
      "       resnet50.a1_in1k            low_lr        0.7778           0.4219         0.6667            1.0796          1.0680         0.0001       8     adamw    cosine             True\n",
      "       resnet50.a1_in1k     sgd_optimizer        0.8889           0.7031         0.8889            0.9348          0.9299         0.0100       5       sgd      step             True\n",
      "       resnet50.a1_in1k    step_scheduler        0.7778           0.8594         0.7778            0.7940          0.9052         0.0010       8     adamw      step             True\n",
      "       resnet50.a1_in1k unfrozen_backbone        0.5556           0.4219         0.5556            1.0772          1.0674         0.0001       5     adamw    cosine            False\n",
      "       resnet50.a1_in1k high_weight_decay        1.0000           0.7500         1.0000            0.9445          0.9595         0.0010       5     adamw    cosine             True\n",
      "efficientnet_b0.ra_in1k          baseline        1.0000           0.9062         1.0000            0.4324          0.0039         0.0010       5     adamw    cosine             True\n",
      "efficientnet_b0.ra_in1k           high_lr        0.8889           0.9844         0.8889            0.0890          2.1970         0.0100       5     adamw    cosine             True\n",
      "efficientnet_b0.ra_in1k            low_lr        0.5556           0.5469         0.5556            2.0238          1.2427         0.0001       8     adamw    cosine             True\n",
      "efficientnet_b0.ra_in1k     sgd_optimizer        0.7778           0.5312         0.7778            1.6404          0.7915         0.0100       5       sgd      step             True\n",
      "efficientnet_b0.ra_in1k    step_scheduler        1.0000           0.9375         1.0000            0.2907          0.0009         0.0010       8     adamw      step             True\n",
      "efficientnet_b0.ra_in1k unfrozen_backbone        0.7778           0.8125         0.7778            0.7081          1.5990         0.0001       5     adamw    cosine            False\n",
      "efficientnet_b0.ra_in1k high_weight_decay        0.8889           0.9375         0.8889            0.1337          0.3897         0.0010       5     adamw    cosine             True\n",
      "\n",
      "Результаты сохранены в: /Users/konopsky/University/AI_new/fine_tune/models/experiments/experiments_results.csv\n"
     ]
    }
   ],
   "source": [
    "# Создаем DataFrame с результатами\n",
    "successful_results = [r for r in all_results if r['status'] == 'success']\n",
    "\n",
    "if successful_results:\n",
    "    results_df = pd.DataFrame([\n",
    "        {\n",
    "            'model': r['model_name'],\n",
    "            'experiment': r['experiment_name'],\n",
    "            'best_val_acc': r['best_val_acc'],\n",
    "            'final_train_acc': r['final_train_acc'],\n",
    "            'final_val_acc': r['final_val_acc'],\n",
    "            'final_train_loss': r['final_train_loss'],\n",
    "            'final_val_loss': r['final_val_loss'],\n",
    "            'learning_rate': r['config']['learning_rate'],\n",
    "            'epochs': r['config']['epochs'],\n",
    "            'optimizer': r['config']['optimizer'],\n",
    "            'scheduler': r['config']['scheduler'],\n",
    "            'freeze_backbone': r['config']['freeze_backbone']\n",
    "        }\n",
    "        for r in successful_results\n",
    "    ])\n",
    "    \n",
    "    print(\"Результаты экспериментов:\")\n",
    "    print(\"=\" * 100)\n",
    "    print(results_df.round(4).to_string(index=False))\n",
    "    \n",
    "    # Сохраняем результаты\n",
    "    results_path = experiments_dir / \"experiments_results.csv\"\n",
    "    results_df.to_csv(results_path, index=False)\n",
    "    print(f\"\\nРезультаты сохранены в: {results_path}\")\n",
    "    \n",
    "else:\n",
    "    print(\"Нет успешных экспериментов для анализа!\")\n",
    "    results_df = None\n"
   ]
  },
  {
   "cell_type": "markdown",
   "metadata": {},
   "source": [
    "## 6. Визуализация результатов\n"
   ]
  },
  {
   "cell_type": "code",
   "execution_count": 34,
   "metadata": {},
   "outputs": [
    {
     "name": "stdout",
     "output_type": "stream",
     "text": [
      "График сравнения сохранен в: /Users/konopsky/University/AI_new/fine_tune/models/experiments/models_comparison.png\n"
     ]
    },
    {
     "data": {
      "image/png": "[encoded data removed]",
      "text/plain": [
       "<Figure size 1600x1200 with 4 Axes>"
      ]
     },
     "metadata": {},
     "output_type": "display_data"
    }
   ],
   "source": [
    "if results_df is not None and len(results_df) > 0:\n",
    "    # Создаем графики сравнения\n",
    "    fig, axes = plt.subplots(2, 2, figsize=(16, 12))\n",
    "    \n",
    "    # 1. Сравнение лучших точностей по моделям\n",
    "    model_comparison = results_df.groupby('model')['best_val_acc'].max().reset_index()\n",
    "    bars = axes[0, 0].bar(model_comparison['model'], model_comparison['best_val_acc'], \n",
    "                         color=['skyblue', 'lightcoral'])\n",
    "    axes[0, 0].set_title('Лучшая точность по моделям', fontsize=14, fontweight='bold')\n",
    "    axes[0, 0].set_ylabel('Точность валидации')\n",
    "    axes[0, 0].set_ylim(0, 1)\n",
    "    axes[0, 0].grid(True, alpha=0.3)\n",
    "    \n",
    "    # Добавляем значения на столбцы\n",
    "    for bar, v in zip(bars, model_comparison['best_val_acc']):\n",
    "        axes[0, 0].text(bar.get_x() + bar.get_width()/2, v + 0.01, \n",
    "                       f'{v:.3f}', ha='center', va='bottom', fontweight='bold')\n",
    "    \n",
    "    # 2. Сравнение экспериментов\n",
    "    pivot_table = results_df.pivot_table(index='experiment', columns='model', \n",
    "                                        values='best_val_acc', aggfunc='mean')\n",
    "    pivot_table.plot(kind='bar', ax=axes[0, 1], color=['skyblue', 'lightcoral'])\n",
    "    axes[0, 1].set_title('Сравнение экспериментов', fontsize=14, fontweight='bold')\n",
    "    axes[0, 1].set_ylabel('Лучшая точность')\n",
    "    axes[0, 1].legend(title='Модель')\n",
    "    axes[0, 1].tick_params(axis='x', rotation=45)\n",
    "    axes[0, 1].grid(True, alpha=0.3)\n",
    "    \n",
    "    # 3. Влияние learning rate\n",
    "    lr_comparison = results_df.groupby(['model', 'learning_rate'])['best_val_acc'].mean().reset_index()\n",
    "    for model in results_df['model'].unique():\n",
    "        model_data = lr_comparison[lr_comparison['model'] == model]\n",
    "        axes[1, 0].plot(model_data['learning_rate'], model_data['best_val_acc'], \n",
    "                       marker='o', label=model, linewidth=2, markersize=8)\n",
    "    axes[1, 0].set_xlabel('Learning Rate')\n",
    "    axes[1, 0].set_ylabel('Лучшая точность')\n",
    "    axes[1, 0].set_title('Влияние Learning Rate', fontsize=14, fontweight='bold')\n",
    "    axes[1, 0].set_xscale('log')\n",
    "    axes[1, 0].legend()\n",
    "    axes[1, 0].grid(True, alpha=0.3)\n",
    "    \n",
    "    # 4. Сравнение оптимизаторов\n",
    "    optimizer_comparison = results_df.groupby(['model', 'optimizer'])['best_val_acc'].mean().reset_index()\n",
    "    optimizer_pivot = optimizer_comparison.pivot_table(index='optimizer', columns='model', \n",
    "                                                      values='best_val_acc', aggfunc='mean')\n",
    "    optimizer_pivot.plot(kind='bar', ax=axes[1, 1], color=['skyblue', 'lightcoral'])\n",
    "    axes[1, 1].set_title('Сравнение оптимизаторов', fontsize=14, fontweight='bold')\n",
    "    axes[1, 1].set_ylabel('Лучшая точность')\n",
    "    axes[1, 1].legend(title='Модель')\n",
    "    axes[1, 1].tick_params(axis='x', rotation=0)\n",
    "    axes[1, 1].grid(True, alpha=0.3)\n",
    "    \n",
    "    plt.tight_layout()\n",
    "    \n",
    "    # Сохраняем график\n",
    "    comparison_plot_path = experiments_dir / \"models_comparison.png\"\n",
    "    plt.savefig(comparison_plot_path, dpi=300, bbox_inches='tight')\n",
    "    print(f\"График сравнения сохранен в: {comparison_plot_path}\")\n",
    "    \n",
    "    plt.show()\n",
    "    \n",
    "else:\n",
    "    print(\"Нет данных для визуализации!\")\n"
   ]
  },
  {
   "cell_type": "markdown",
   "metadata": {},
   "source": [
    "## 7. Детальный анализ лучших результатов\n"
   ]
  },
  {
   "cell_type": "code",
   "execution_count": 36,
   "metadata": {},
   "outputs": [
    {
     "name": "stdout",
     "output_type": "stream",
     "text": [
      "Лучшие результаты по моделям:\n",
      "================================================================================\n",
      "\n",
      "Модель: efficientnet_b0.ra_in1k\n",
      "Эксперимент: baseline\n",
      "Лучшая точность: 1.0000\n",
      "Финальная точность: 1.0000\n",
      "Финальная потеря: 0.0039\n",
      "Learning Rate: 0.001\n",
      "Epochs: 5\n",
      "Оптимизатор: adamw\n",
      "Планировщик: cosine\n",
      "Замороженный backbone: True\n",
      "----------------------------------------\n",
      "\n",
      "Модель: resnet50.a1_in1k\n",
      "Эксперимент: high_lr\n",
      "Лучшая точность: 1.0000\n",
      "Финальная точность: 1.0000\n",
      "Финальная потеря: 0.3875\n",
      "Learning Rate: 0.01\n",
      "Epochs: 5\n",
      "Оптимизатор: adamw\n",
      "Планировщик: cosine\n",
      "Замороженный backbone: True\n",
      "----------------------------------------\n",
      "\n",
      "Статистика по моделям:\n",
      "==================================================\n",
      "                           mean     std     min  max  count\n",
      "model                                                      \n",
      "efficientnet_b0.ra_in1k  0.8413  0.1553  0.5556  1.0      7\n",
      "resnet50.a1_in1k         0.8254  0.1553  0.5556  1.0      7\n",
      "\n",
      "Статистика по экспериментам:\n",
      "==================================================\n",
      "                     mean     std     min     max  count\n",
      "experiment                                              \n",
      "baseline           0.8889  0.1571  0.7778  1.0000      2\n",
      "high_lr            0.9444  0.0786  0.8889  1.0000      2\n",
      "high_weight_decay  0.9444  0.0786  0.8889  1.0000      2\n",
      "low_lr             0.6667  0.1571  0.5556  0.7778      2\n",
      "sgd_optimizer      0.8333  0.0786  0.7778  0.8889      2\n",
      "step_scheduler     0.8889  0.1571  0.7778  1.0000      2\n",
      "unfrozen_backbone  0.6667  0.1571  0.5556  0.7778      2\n",
      "\n",
      "Лучшие результаты сохранены в: /Users/konopsky/University/AI_new/fine_tune/models/experiments/best_results.csv\n"
     ]
    }
   ],
   "source": [
    "if results_df is not None and len(results_df) > 0:\n",
    "    # Находим лучшие результаты для каждой модели\n",
    "    best_results = results_df.loc[results_df.groupby('model')['best_val_acc'].idxmax()]\n",
    "    \n",
    "    print(\"Лучшие результаты по моделям:\")\n",
    "    print(\"=\"*80)\n",
    "    \n",
    "    for _, row in best_results.iterrows():\n",
    "        print(f\"\\nМодель: {row['model']}\")\n",
    "        print(f\"Эксперимент: {row['experiment']}\")\n",
    "        print(f\"Лучшая точность: {row['best_val_acc']:.4f}\")\n",
    "        print(f\"Финальная точность: {row['final_val_acc']:.4f}\")\n",
    "        print(f\"Финальная потеря: {row['final_val_loss']:.4f}\")\n",
    "        print(f\"Learning Rate: {row['learning_rate']}\")\n",
    "        print(f\"Epochs: {row['epochs']}\")\n",
    "        print(f\"Оптимизатор: {row['optimizer']}\")\n",
    "        print(f\"Планировщик: {row['scheduler']}\")\n",
    "        print(f\"Замороженный backbone: {row['freeze_backbone']}\")\n",
    "        print(\"-\"*40)\n",
    "    \n",
    "    # Статистика по моделям\n",
    "    print(\"\\nСтатистика по моделям:\")\n",
    "    print(\"=\"*50)\n",
    "    \n",
    "    model_stats = results_df.groupby('model')['best_val_acc'].agg([\n",
    "        'mean', 'std', 'min', 'max', 'count'\n",
    "    ]).round(4)\n",
    "    \n",
    "    print(model_stats)\n",
    "    \n",
    "    # Статистика по экспериментам\n",
    "    print(\"\\nСтатистика по экспериментам:\")\n",
    "    print(\"=\"*50)\n",
    "    \n",
    "    exp_stats = results_df.groupby('experiment')['best_val_acc'].agg([\n",
    "        'mean', 'std', 'min', 'max', 'count'\n",
    "    ]).round(4)\n",
    "    \n",
    "    print(exp_stats)\n",
    "    \n",
    "    # Сохраняем лучшие результаты\n",
    "    best_results_path = experiments_dir / \"best_results.csv\"\n",
    "    best_results.to_csv(best_results_path, index=False)\n",
    "    print(f\"\\nЛучшие результаты сохранены в: {best_results_path}\")\n",
    "    \n",
    "else:\n",
    "    print(\"Нет успешных результатов для анализа!\")\n"
   ]
  },
  {
   "cell_type": "markdown",
   "metadata": {},
   "source": [
    "## 8. Сохранение полных результатов\n"
   ]
  },
  {
   "cell_type": "code",
   "execution_count": null,
   "metadata": {},
   "outputs": [
    {
     "name": "stdout",
     "output_type": "stream",
     "text": [
      "Полные результаты сохранены в: /Users/konopsky/University/AI_new/fine_tune/models/experiments/full_experiments_results.json\n",
      "Сводный отчет сохранен в: /Users/konopsky/University/AI_new/fine_tune/models/experiments/experiment_summary.json\n",
      "\n",
      "Сводка экспериментов:\n",
      "Дата: 2025-09-27T10:40:35.437603\n",
      "Всего экспериментов: 14\n",
      "Успешных: 14\n",
      "Неудачных: 0\n",
      "Лучшая точность: 1.0000\n",
      "Лучшая модель: resnet50.a1_in1k\n",
      "Лучший эксперимент: high_lr\n"
     ]
    }
   ],
   "source": [
    "# Сохраняем полные результаты в JSON\n",
    "full_results_path = experiments_dir / \"full_experiments_results.json\"\n",
    "\n",
    "# Подготавливаем данные для JSON (убираем numpy типы)\n",
    "json_results = []\n",
    "for result in all_results:\n",
    "    json_result = result.copy()\n",
    "    \n",
    "    # Конвертируем numpy типы в Python типы\n",
    "    if 'history' in json_result and json_result['history']:\n",
    "        history = json_result['history']\n",
    "        for key, values in history.items():\n",
    "            if isinstance(values, list) and len(values) > 0:\n",
    "                if hasattr(values[0], 'item'):  # numpy scalar\n",
    "                    history[key] = [float(v.item()) if hasattr(v, 'item') else float(v) for v in values]\n",
    "                elif isinstance(values[0], (np.float32, np.float64)):\n",
    "                    history[key] = [float(v) for v in values]\n",
    "                elif isinstance(values[0], (np.int32, np.int64)):\n",
    "                    history[key] = [int(v) for v in values]\n",
    "    \n",
    "    # Конвертируем другие numpy типы\n",
    "    for key, value in json_result.items():\n",
    "        if hasattr(value, 'item'):  # numpy scalar\n",
    "            json_result[key] = value.item()\n",
    "        elif isinstance(value, (np.float32, np.float64)):\n",
    "            json_result[key] = float(value)\n",
    "        elif isinstance(value, (np.int32, np.int64)):\n",
    "            json_result[key] = int(value)\n",
    "    \n",
    "    json_results.append(json_result)\n",
    "\n",
    "# Сохраняем в JSON\n",
    "with open(full_results_path, 'w', encoding='utf-8') as f:\n",
    "    json.dump(json_results, f, indent=2, ensure_ascii=False)\n",
    "\n",
    "print(f\"Полные результаты сохранены в: {full_results_path}\")\n",
    "\n",
    "# Создаем сводный отчет\n",
    "summary = {\n",
    "    \"experiment_date\": datetime.now().isoformat(),\n",
    "    \"total_experiments\": len(all_results),\n",
    "    \"successful_experiments\": len(successful_results),\n",
    "    \"failed_experiments\": len(all_results) - len(successful_results),\n",
    "    \"models_tested\": list(set(r['model_name'] for r in all_results)),\n",
    "    \"experiments_tested\": list(set(r['experiment_name'] for r in all_results))\n",
    "}\n",
    "\n",
    "if successful_results:\n",
    "    summary[\"best_overall_accuracy\"] = max(r['best_val_acc'] for r in successful_results)\n",
    "    best_result = max(successful_results, key=lambda x: x['best_val_acc'])\n",
    "    summary[\"best_model\"] = best_result['model_name']\n",
    "    summary[\"best_experiment\"] = best_result['experiment_name']\n",
    "\n",
    "summary_path = experiments_dir / \"experiment_summary.json\"\n",
    "with open(summary_path, 'w', encoding='utf-8') as f:\n",
    "    json.dump(summary, f, indent=2, ensure_ascii=False)\n",
    "\n",
    "print(f\"Сводный отчет сохранен в: {summary_path}\")\n",
    "print(\"\\nСводка экспериментов:\")\n",
    "print(f\"Дата: {summary['experiment_date']}\")\n",
    "print(f\"Всего экспериментов: {summary['total_experiments']}\")\n",
    "print(f\"Успешных: {summary['successful_experiments']}\")\n",
    "print(f\"Неудачных: {summary['failed_experiments']}\")\n",
    "if 'best_overall_accuracy' in summary:\n",
    "    print(f\"Лучшая точность: {summary['best_overall_accuracy']:.4f}\")\n",
    "    print(f\"Лучшая модель: {summary['best_model']}\")\n",
    "    print(f\"Лучший эксперимент: {summary['best_experiment']}\")\n"
   ]
  }
 ],
 "metadata": {
  "language_info": {
   "name": "python"
  }
 },
 "nbformat": 4,
 "nbformat_minor": 2
}
